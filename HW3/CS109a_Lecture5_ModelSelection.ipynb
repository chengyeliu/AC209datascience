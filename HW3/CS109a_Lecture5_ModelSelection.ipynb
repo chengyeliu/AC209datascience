{
 "cells": [
  {
   "cell_type": "markdown",
   "metadata": {
    "hide_input": true,
    "slideshow": {
     "slide_type": "slide"
    }
   },
   "source": [
    "# Lecture 5. Model Selection, Polynomial Regresssion\n",
    "--- \n",
    "\n",
    "### CS 109A/AC 209A/STAT 121A Data Science:\n",
    "### Harvard University\n",
    "Fall 2016 <br>\n",
    "Instructors:  P. Protopapas, K. Rader, W. Pan\n",
    "\n",
    "\n"
   ]
  },
  {
   "cell_type": "markdown",
   "metadata": {
    "slideshow": {
     "slide_type": "slide"
    }
   },
   "source": [
    "<br>\n",
    "\n",
    "# Announcements \n",
    "\n",
    "- Back to Nortwest Building Room B103\n",
    "- HW1: You should have received grades back. No regrading requests! Good results \n",
    "- HW2: Is due tonight (11:59pm)  \n",
    "- HW3: will be posted  **after** the lecture"
   ]
  },
  {
   "cell_type": "markdown",
   "metadata": {
    "slideshow": {
     "slide_type": "fragment"
    }
   },
   "source": [
    "\n",
    " - No re-grading, no discussions about grades. Grades are final. \n",
    " "
   ]
  },
  {
   "cell_type": "code",
   "execution_count": 209,
   "metadata": {
    "collapsed": false,
    "slideshow": {
     "slide_type": "skip"
    }
   },
   "outputs": [],
   "source": [
    "import sys\n",
    "import time\n",
    "\n",
    "def countdown(n):\n",
    "    #print(\"QUIZ TIME\")\n",
    "    for i in range(5*1,0,-1):\n",
    "        time.sleep(1)\n",
    "        sys.stdout.write(str(i)+' ')\n",
    "        sys.stdout.flush()"
   ]
  },
  {
   "cell_type": "markdown",
   "metadata": {
    "slideshow": {
     "slide_type": "slide"
    },
    "variables": {
     "countdown(10)": "1 "
    }
   },
   "source": [
    "# QUIZ TIME\n",
    "{{countdown(10)}}"
   ]
  },
  {
   "cell_type": "code",
   "execution_count": 2,
   "metadata": {
    "collapsed": true,
    "slideshow": {
     "slide_type": "skip"
    }
   },
   "outputs": [],
   "source": [
    "from ipywidgets import interact,  FloatSlider, RadioButtons\n",
    "import numpy as np \n",
    "import math\n",
    "import matplotlib\n",
    "import matplotlib.pyplot as plt\n",
    "%matplotlib inline\n",
    "from sklearn.linear_model import LinearRegression as Lin_Reg\n",
    "\n",
    "import statsmodels.api as sm\n",
    "import pandas as pd\n",
    "    \n",
    "from mpl_toolkits.mplot3d import Axes3D"
   ]
  },
  {
   "cell_type": "code",
   "execution_count": 211,
   "metadata": {
    "collapsed": true,
    "slideshow": {
     "slide_type": "skip"
    }
   },
   "outputs": [],
   "source": [
    "font = {'family' : 'serif',\n",
    "        'weight' : 'bold',\n",
    "        'size'   : 16}\n",
    "\n",
    "matplotlib.rc('font', **font)"
   ]
  },
  {
   "cell_type": "markdown",
   "metadata": {
    "slideshow": {
     "slide_type": "slide"
    }
   },
   "source": [
    "<br>\n",
    "\n",
    "# Outline \n",
    "- ** Select among multiple predictors **\n",
    "    - Forward, Backward, Hybrid\n",
    "    - AIC, BIC, reduced R2, Cp \n",
    "- Polynomial regression\n",
    "    - Formalism \n",
    "    - Select the degree \n",
    "\n",
    "- Revisit SE, p-value and all that jazz  \n",
    "   \n",
    "\n",
    "    \n"
   ]
  },
  {
   "cell_type": "markdown",
   "metadata": {
    "slideshow": {
     "slide_type": "slide"
    }
   },
   "source": [
    "<br>\n",
    "## Multiple predictors\n",
    "- We will use the  \"bloodpressure\" example from last lecture\n",
    "- Systolic Blood pressure as a function of age, height, weight \n",
    "\n",
    "\n",
    "Select the best subset of predictors out of many \n",
    "\n",
    "\n",
    "** Exhausitive Algorithm: **\n",
    "\n",
    "Let $M_p$ be all models containing $p$ predictors\n",
    "\n",
    "\n",
    "1. Fit a separate least squares regression of all possible $M_p$ \n",
    "2. Pick the best of $M_p$. Best as the one with the highest $R^2$ \n",
    "3. Select a single best model from among $M_q$ using AIC, BIC or adjusted $R^2$\n",
    "    \n",
    "\n",
    "- M0: `null`\n",
    "- M1: `age, height, weight` \n",
    "- M2: `(age+height), (age+weight), (height+weight)`\n",
    "- M3: `(age+weight+height) `\n",
    "\n",
    "\n",
    "\n",
    "\n"
   ]
  },
  {
   "cell_type": "code",
   "execution_count": 323,
   "metadata": {
    "code_folding": [],
    "collapsed": false,
    "slideshow": {
     "slide_type": "slide"
    }
   },
   "outputs": [],
   "source": [
    "#  IMPORT DATA \n",
    "dt = pd.read_csv(\"bloodpressure_male.csv\")\n",
    "age=dt['age'].values\n",
    "weight=dt['weight'].values\n",
    "height=dt['height'].values\n",
    "blood=dt['bloodpressure'].values"
   ]
  },
  {
   "cell_type": "code",
   "execution_count": 324,
   "metadata": {
    "collapsed": false,
    "slideshow": {
     "slide_type": "fragment"
    }
   },
   "outputs": [
    {
     "data": {
      "text/plain": [
       "(120,)"
      ]
     },
     "execution_count": 324,
     "metadata": {},
     "output_type": "execute_result"
    }
   ],
   "source": [
    "\n",
    "data=dt.values.T\n",
    "X = data[:-1]\n",
    "Y=data[-1]\n",
    "Y.shape"
   ]
  },
  {
   "cell_type": "code",
   "execution_count": 325,
   "metadata": {
    "code_folding": [],
    "collapsed": false,
    "slideshow": {
     "slide_type": "skip"
    }
   },
   "outputs": [
    {
     "name": "stdout",
     "output_type": "stream",
     "text": [
      "{{math.ceil(RedR2[ 1 ]*1000)/1000}}  | {{math.ceil(RedR2[ 4 ]*1000)/1000}}  | {{math.ceil(RedR2[ 7 ]*1000)/1000}}  | "
     ]
    }
   ],
   "source": [
    "\n",
    "# Run all possible combibations and examine the R2 \n",
    "p=X.shape[0]\n",
    "R2 = np.zeros((2**p))\n",
    "RSE = np.zeros((2**p))\n",
    "AIC = np.zeros((2**p))\n",
    "BIC = np.zeros((2**p))\n",
    "RedR2 = np.zeros((2**p))\n",
    "\n",
    "R2best = np.zeros((p,2)) \n",
    "\n",
    "\n",
    "model_counter =0\n",
    "for k in np.arange(p):\n",
    "    Xt = sm.add_constant(X[k])\n",
    "    model=sm.OLS(Y,Xt)\n",
    "    model_results=model.fit()\n",
    "    model_counter +=1\n",
    "    R2[model_counter]=model_results.rsquared\n",
    "    AIC[model_counter]=model_results.aic\n",
    "    BIC[model_counter]=model_results.bic\n",
    "    RedR2[model_counter]=model_results.rsquared_adj\n",
    "\n",
    "R2best[0,0]=np.max(R2)  \n",
    "R2best[0,1]=np.argmax(R2)\n",
    "\n",
    "for k in np.arange(p-1):\n",
    "    for kp in np.arange(k+1,p):\n",
    "        Xt = sm.add_constant(X[k:k+2, :].T)\n",
    "        model=sm.OLS(Y,Xt)\n",
    "        model_results=model.fit()\n",
    "        model_counter +=1\n",
    "        R2[model_counter]=model_results.rsquared\n",
    "        AIC[model_counter]=model_results.aic\n",
    "        BIC[model_counter]=model_results.bic\n",
    "        RedR2[model_counter]=model_results.rsquared_adj\n",
    "\n",
    "R2best[1,0]=np.max(R2[4:7])\n",
    "R2best[1,1]=np.argmax(R2[4:7])+4\n",
    "       \n",
    "for k in np.arange(p-2):\n",
    "    for kp in np.arange(k+2,p):\n",
    "        Xt = sm.add_constant(X[k:k+3, :].T)\n",
    "        model=sm.OLS(Y,Xt)\n",
    "        model_results=model.fit()\n",
    "        model_counter +=1\n",
    "        R2[model_counter]=model_results.rsquared\n",
    "        AIC[model_counter]=model_results.aic\n",
    "        BIC[model_counter]=model_results.bic\n",
    "        RedR2[model_counter]=model_results.rsquared_adj\n",
    "        \n",
    "R2best[2,0]=np.max(R2[7])\n",
    "R2best[2,1]=np.argmax(R2[7])+7\n",
    "# THE FOLLOWING IS FOR THE MARKDOWN TABLE \n",
    "#for i in np.arange(np.size(R2)):    print( \"{{math.ceil(R2[\",i,\"]*1000)/1000}}  | \",  end=\"\")\n",
    "#for i in np.arange(3):    print( \"{{math.ceil(AIC[\",int(R2best[i,1]),\"]*1000)/1000}}  | \",  end=\"\")\n",
    "#for i in np.arange(3):    print( \"{{math.ceil(BIC[\",int(R2best[i,1]),\"]*1000)/1000}}  | \",  end=\"\")\n",
    "for i in np.arange(3):    print( \"{{math.ceil(RedR2[\",int(R2best[i,1]),\"]*1000)/1000}}  | \",  end=\"\")"
   ]
  },
  {
   "cell_type": "markdown",
   "metadata": {
    "slideshow": {
     "slide_type": "slide"
    },
    "variables": {
     "math.ceil(R2[ 0 ]*1000)/1000": "0.0",
     "math.ceil(R2[ 1 ]*1000)/1000": "0.569",
     "math.ceil(R2[ 2 ]*1000)/1000": "0.179",
     "math.ceil(R2[ 3 ]*1000)/1000": "0.083",
     "math.ceil(R2[ 4 ]*1000)/1000": "0.683",
     "math.ceil(R2[ 5 ]*1000)/1000": "0.683",
     "math.ceil(R2[ 6 ]*1000)/1000": "0.189",
     "math.ceil(R2[ 7 ]*1000)/1000": "0.685"
    }
   },
   "source": [
    "<br>\n",
    "We fit linear model for all of them. \n",
    "\n",
    "| | null | age | weight | height | age+weight | age+height | weight+height | age+weight+height |\n",
    "| ---| :---:|| :---:|| :---:|| :---:|| :---:|| :---:|| :---:|| :---:| \n",
    "| $R^2$ |{{math.ceil(R2[ 0 ]*1000)/1000}}  | {{math.ceil(R2[ 1 ]*1000)/1000}}  | {{math.ceil(R2[ 2 ]*1000)/1000}}  | {{math.ceil(R2[ 3 ]*1000)/1000}}  | {{math.ceil(R2[ 4 ]*1000)/1000}}  | {{math.ceil(R2[ 5 ]*1000)/1000}}  | {{math.ceil(R2[ 6 ]*1000)/1000}}  | {{math.ceil(R2[ 7 ]*1000)/1000}}  | "
   ]
  },
  {
   "cell_type": "markdown",
   "metadata": {
    "collapsed": true,
    "slideshow": {
     "slide_type": "fragment"
    },
    "variables": {
     "math.ceil(R2[ 0 ]*1000)/1000": "0.0",
     "math.ceil(R2[ 1 ]*1000)/1000": "0.569",
     "math.ceil(R2[ 2 ]*1000)/1000": "0.179",
     "math.ceil(R2[ 3 ]*1000)/1000": "0.083",
     "math.ceil(R2[ 4 ]*1000)/1000": "0.683",
     "math.ceil(R2[ 5 ]*1000)/1000": "0.683",
     "math.ceil(R2[ 6 ]*1000)/1000": "0.189",
     "math.ceil(R2[ 7 ]*1000)/1000": "0.685"
    }
   },
   "source": [
    "<br>\n",
    "\n",
    "\n",
    "Find the best in each $M_q$ : \n",
    "\n",
    "| | null | age | **weight** | height | age+weight | age+height | weight+height | age+weight+height |\n",
    "| ---| :---:|| :---:|| :---:|| :---:|| :---:|| :---:|| :---:|| :---:| \n",
    "| $R^2$ | {{math.ceil(R2[ 0 ]*1000)/1000}}  | **{{math.ceil(R2[ 1 ]*1000)/1000}} ** | {{math.ceil(R2[ 2 ]*1000)/1000}}  | {{math.ceil(R2[ 3 ]*1000)/1000}}  | ** {{math.ceil(R2[ 4 ]*1000)/1000}} ** | {{math.ceil(R2[ 5 ]*1000)/1000}}  | {{math.ceil(R2[ 6 ]*1000)/1000}}  | **{{math.ceil(R2[ 7 ]*1000)/1000}} ** | "
   ]
  },
  {
   "cell_type": "markdown",
   "metadata": {
    "slideshow": {
     "slide_type": "slide"
    },
    "variables": {
     "math.ceil(AIC[ 1 ]*1000)/1000": "932.186",
     "math.ceil(AIC[ 4 ]*1000)/1000": "897.173",
     "math.ceil(AIC[ 7 ]*1000)/1000": "898.763",
     "math.ceil(BIC[ 1 ]*1000)/1000": "937.761",
     "math.ceil(BIC[ 4 ]*1000)/1000": "905.536",
     "math.ceil(BIC[ 7 ]*1000)/1000": "909.913",
     "math.ceil(R2[ 1 ]*1000)/1000": "0.569",
     "math.ceil(R2[ 4 ]*1000)/1000": "0.683",
     "math.ceil(R2[ 7 ]*1000)/1000": "0.685",
     "math.ceil(RedR2[ 1 ]*1000)/1000": "0.565",
     "math.ceil(RedR2[ 4 ]*1000)/1000": "0.678",
     "math.ceil(RedR2[ 7 ]*1000)/1000": "0.676"
    }
   },
   "source": [
    "<br>\n",
    "And now we need to compare these three base on a different criteria \n",
    "\n",
    "**R2 always increases if a new predictor is added so it is not always indicative of a better fit - could be overfitting**\n",
    "\n",
    "**AIC and BIC penalise for too many predictors- the lower the BIC and AIC values the better the result**\n",
    "\n",
    "|| **age**  | age+weight  | age+weight+height |\n",
    "| :---: | : ---: | : ---: | : ---: | \n",
    "| $R^2$ |  {{math.ceil(R2[ 1 ]*1000)/1000}}   |    {{math.ceil(R2[ 4 ]*1000)/1000}}  | **{{math.ceil(R2[ 7 ]*1000)/1000}} **  |\n",
    "| AIC | {{math.ceil(AIC[ 1 ]*1000)/1000}}  | **{{math.ceil(AIC[ 4 ]*1000)/1000}} ** | {{math.ceil(AIC[ 7 ]*1000)/1000}}  | \n",
    "| BIC | {{math.ceil(BIC[ 1 ]*1000)/1000}}  | ** {{math.ceil(BIC[ 4 ]*1000)/1000}} **  | {{math.ceil(BIC[ 7 ]*1000)/1000}}  | \n",
    "| Adjusted $R^2$ | {{math.ceil(RedR2[ 1 ]*1000)/1000}}  | ** {{math.ceil(RedR2[ 4 ]*1000)/1000}} **  | {{math.ceil(RedR2[ 7 ]*1000)/1000}}  | \n"
   ]
  },
  {
   "cell_type": "markdown",
   "metadata": {
    "slideshow": {
     "slide_type": "slide"
    }
   },
   "source": [
    "How many possibilities? If we have p predictors, then: \n",
    "\n",
    "$$ p +  {p \\choose 2 } + {p \\choose 3} + \\ldots +  {p \\choose p } =2^p $$\n",
    "\n",
    " \n"
   ]
  },
  {
   "cell_type": "markdown",
   "metadata": {
    "slideshow": {
     "slide_type": "slide"
    }
   },
   "source": [
    "## Stepwise selection\n",
    "\n",
    "While the best subset selection procedure considers all $2^p$ possible models containing subsets of the p predictors, stepwise considers a much smaller set of models.\n",
    "\n",
    "Three different sceanarios: \n",
    "\n",
    "- Forward stepwise\n",
    "- Backward stepwise \n",
    "- Hybrid \n",
    "\n",
    "\n"
   ]
  },
  {
   "cell_type": "markdown",
   "metadata": {
    "collapsed": false,
    "slideshow": {
     "slide_type": "slide"
    }
   },
   "source": [
    "###  Forward stepwise selection (blood pressure example)\n",
    "\n",
    "Forward approach: \n",
    "Consider the data set that now has more predictors bloodpressure_5.csv \n",
    "\n",
    "1. Start with null and calculate $M_0$\n",
    "\n",
    "2. For all $k=1 \\ldots p-1:$\n",
    "    - Choose which of the $p-k+1$ model is best wrt $R^2$ as the $M_k$\n",
    "\n",
    "3. Select the best among $M_p$ \n"
   ]
  },
  {
   "cell_type": "code",
   "execution_count": 320,
   "metadata": {
    "collapsed": false,
    "slideshow": {
     "slide_type": "skip"
    }
   },
   "outputs": [
    {
     "name": "stdout",
     "output_type": "stream",
     "text": [
      "{{math.ceil(RedR2[ 1 ]*1000)/1000}}  | {{math.ceil(RedR2[ 6 ]*1000)/1000}}  | {{math.ceil(RedR2[ 7 ]*1000)/1000}}  | "
     ]
    }
   ],
   "source": [
    "\n",
    "#  IMPORT DATA \n",
    "dt = pd.read_csv(\"bloodpressure_5pred.csv\")\n",
    "age=dt['age'].values\n",
    "weight=dt['weight'].values\n",
    "height=dt['height'].values\n",
    "vo2=dt['vo2'].values\n",
    "rhr=dt['rhr'].values\n",
    "\n",
    "\n",
    "blood=dt['bloodpressure'].values\n",
    "data=dt.values.T\n",
    "X = data[:-1]\n",
    "Y=data[-1]\n",
    "Y.shape\n",
    "\n",
    "# Run all possible combibations and examine the R2 \n",
    "p=5\n",
    "R2 = np.zeros((2**p))\n",
    "RSE = np.zeros((2**p))\n",
    "AIC = np.zeros((2**p))\n",
    "BIC = np.zeros((2**p))\n",
    "RedR2 = np.zeros((2**p))\n",
    "\n",
    "R2best = np.zeros((p,2)) \n",
    "\n",
    "\n",
    "model_counter =0\n",
    "for k in np.arange(p):\n",
    "    Xt = sm.add_constant(X[k])\n",
    "    model=sm.OLS(Y,Xt)\n",
    "    model_results=model.fit()\n",
    "    model_counter +=1\n",
    "    R2[model_counter]=model_results.rsquared\n",
    "    AIC[model_counter]=model_results.aic\n",
    "    BIC[model_counter]=model_results.bic\n",
    "    RedR2[model_counter]=model_results.rsquared_adj\n",
    "\n",
    "R2best[0,0]=np.max(R2)  \n",
    "R2best[0,1]=np.argmax(R2)\n",
    "\n",
    "for k in np.arange(p-1):\n",
    "    for kp in np.arange(k+1,p):\n",
    "        Xt = sm.add_constant(X[k:k+2, :].T)\n",
    "        model=sm.OLS(Y,Xt)\n",
    "        model_results=model.fit()\n",
    "        model_counter +=1\n",
    "        R2[model_counter]=model_results.rsquared\n",
    "        AIC[model_counter]=model_results.aic\n",
    "        BIC[model_counter]=model_results.bic\n",
    "        RedR2[model_counter]=model_results.rsquared_adj\n",
    "\n",
    "R2best[1,0]=np.max(R2[4:7])\n",
    "R2best[1,1]=np.argmax(R2[4:7])+4\n",
    "       \n",
    "for k in np.arange(p-2):\n",
    "    for kp in np.arange(k+2,p):\n",
    "        Xt = sm.add_constant(X[k:k+3, :].T)\n",
    "        model=sm.OLS(Y,Xt)\n",
    "        model_results=model.fit()\n",
    "        model_counter +=1\n",
    "        R2[model_counter]=model_results.rsquared\n",
    "        AIC[model_counter]=model_results.aic\n",
    "        BIC[model_counter]=model_results.bic\n",
    "        RedR2[model_counter]=model_results.rsquared_adj\n",
    "        \n",
    "R2best[2,0]=np.max(R2[7])\n",
    "R2best[2,1]=np.argmax(R2[7])+7\n",
    "\n",
    "for k in np.arange(p-3):\n",
    "    for kp in np.arange(k+3,p):\n",
    "        Xt = sm.add_constant(X[k:k+4, :].T)\n",
    "        model=sm.OLS(Y,Xt)\n",
    "        model_results=model.fit()\n",
    "        model_counter +=1\n",
    "        R2[model_counter]=model_results.rsquared\n",
    "        AIC[model_counter]=model_results.aic\n",
    "        BIC[model_counter]=model_results.bic\n",
    "        RedR2[model_counter]=model_results.rsquared_adj\n",
    "        \n",
    "R2best[3,0]=np.max(R2[7])\n",
    "R2best[3,1]=np.argmax(R2[7])+7\n",
    "# THE FOLLOWING IS FOR THE MARKDOWN TABLE \n",
    "#for i in np.arange(np.size(R2)):    print( \"{{math.ceil(R2[\",i,\"]*1000)/1000}}  | \",  end=\"\")\n",
    "#for i in np.arange(3):    print( \"{{math.ceil(AIC[\",int(R2best[i,1]),\"]*1000)/1000}}  | \",  end=\"\")\n",
    "#for i in np.arange(3):    print( \"{{math.ceil(BIC[\",int(R2best[i,1]),\"]*1000)/1000}}  | \",  end=\"\")\n",
    "for i in np.arange(3):    print( \"{{math.ceil(RedR2[\",int(R2best[i,1]),\"]*1000)/1000}}  | \",  end=\"\")"
   ]
  },
  {
   "cell_type": "markdown",
   "metadata": {
    "slideshow": {
     "slide_type": "slide"
    },
    "variables": {
     "math.ceil(R2[ 1 ]*1000)/1000": "0.471",
     "math.ceil(R2[ 2 ]*1000)/1000": "0.059",
     "math.ceil(R2[ 3 ]*1000)/1000": "0.025",
     "math.ceil(R2[ 4 ]*1000)/1000": "0.007",
     "math.ceil(R2[ 5 ]*1000)/1000": "0.001"
    }
   },
   "source": [
    "###  Forward stepwise selection (blood pressure example)\n",
    "\n",
    "Use a slightly different dataset that now contains 5 predictor (we add resting heart rate and VO2max) bloodpressure_5pred.csv\n",
    "\n",
    "Forward approach: \n",
    "\n",
    "1.Start with null and calculate $M_0$\n",
    "\n",
    "2.Choose which of the five is best wrt $R^2$ as the $M_1$\n",
    "\n",
    "| |  age | weight | height | vo2 | rhr | \n",
    "| ---| :---:|| :---:|| :---:|| :---:|| :---:|\n",
    "| $R^2$ |  {{math.ceil(R2[ 1 ]*1000)/1000}}  | {{math.ceil(R2[ 2 ]*1000)/1000}}  | {{math.ceil(R2[ 3 ]*1000)/1000}}  | {{math.ceil(R2[ 4 ]*1000)/1000}}  | {{math.ceil(R2[ 5 ]*1000)/1000}}  |\n",
    "<br> $M_1=$**weight** <br><br>\n",
    "\n",
    "3.Try now two predictors:\n",
    "\n",
    "| |  (weight+age) | (weight+height) | (weight+vo2)  |  (weight+rhr) | \n",
    "| ---| :---:|| :---:|| :---:|| :---:|| :---:|\n",
    "| $R^2$ |  0.561 | 0.412  | 0.481 | 0.314  | \n",
    "<br> $M_2=$ (**weight+age**) <br><br>\n",
    "\n",
    "\n",
    "4.Three predictor:\n",
    "\n",
    "| |  (weight+age+height) | (weight+age+vo2) | (weight+age+resth)  | \n",
    "| ---| :---:|| :---:|| :---:|\n",
    "| $R^2$ |  0.518 | 0.617  | 0.481 | \n",
    "\n",
    "\n",
    "<br> $M_3$= (**weight+age+vo2**)<br><br>\n",
    "\n",
    "5.Four predictors:\n",
    "\n",
    "| |  (weight+age+vo2+height) | ((weight+age+vo2+resthr))   | \n",
    "| ---| :---:|| :---:|| :---:|\n",
    "| $R^2$ |  0.668 | 0.617  | \n",
    "\n",
    "<br> $M_4$= (**weight+age+VO2+resthr**)<br><br>\n",
    "\n",
    "\n",
    "6.All predictors\n",
    "\n",
    "| |  (weight+age+vo2+resthr+ height) | \n",
    "| ---| :---:|\n",
    "| $R^2$ |  0.671 | \n",
    "<br> $M_5$= (**weight+age+VO2+resthr+height**)<br><br>\n",
    "\n",
    "\n",
    "\n",
    "\n",
    "\n"
   ]
  },
  {
   "cell_type": "markdown",
   "metadata": {
    "slideshow": {
     "slide_type": "slide"
    }
   },
   "source": [
    "Compare $M_k$ using AIC, Adjusterd $R^2$ \n",
    "\n",
    "** choose the best model for each Mk and then compare the AIC values to understand if overfitting is occuring** \n",
    "\n",
    "\n",
    "|| weight  | age+weight  | age+weight+vo2 | age+weight+vo2 + resthr | age+weight+vo2 + resthr + height | \n",
    "| :---: | : ---: | : ---: | : ---: | :---: | :---:| \n",
    "| AIC | 912.186\t| 899.333| **873.123**  | 921.33 | 904.323 | \n",
    "\n",
    "\n",
    "\n"
   ]
  },
  {
   "cell_type": "markdown",
   "metadata": {
    "slideshow": {
     "slide_type": "slide"
    }
   },
   "source": [
    "<br>\n",
    "\n",
    "# Outline \n",
    "- Select among multiple predictors \n",
    "    - Forward, Backward, Hybrid\n",
    "    - ** AIC, BIC, reduced R2, Cp ** \n",
    "- Polynomial regression\n",
    "    - Formalism \n",
    "    - Select the degree \n",
    "    \n",
    "- Interaction terms \n",
    "\n",
    "- Revisit SE, p-value and all that jazz  \n",
    "   \n",
    "\n",
    "    \n"
   ]
  },
  {
   "cell_type": "markdown",
   "metadata": {},
   "source": [
    "<br>\n",
    "\n",
    "# Outline \n",
    "- Select among multiple predictors \n",
    "    - Forward, Backward, Hybrid\n",
    "    - AIC, BIC, reduced R2, Cp  \n",
    "- ** Polynomial regression **\n",
    "    - Formalism \n",
    "    - Select the degree \n",
    "    \n",
    "- Interaction terms \n",
    "\n",
    "- Revisit SE, p-value and all that jazz  \n",
    "   \n",
    "\n",
    "    \n"
   ]
  },
  {
   "cell_type": "markdown",
   "metadata": {
    "collapsed": false,
    "slideshow": {
     "slide_type": "slide"
    }
   },
   "source": [
    "# Polynomial Regression\n",
    "\n",
    "The easiest/simplest way to extend linear regression to settings in which the relationship between the predictors and the response is non-linear is replace the standard linear model\n",
    "\n",
    "$$y_i = β_0 + β_1 x_i + ε_i$$\n",
    "\n",
    "with \n",
    "$$y_i =β0 +β_1x_i +β_2x^2_i +β_3x^3_i +...+β_d x^d_i +ε_i$$\n",
    "\n",
    "The coefficients can be easily estimated using least squares linear regression because this is just a standard linear model with predictors $x_i, x^2_i , x^3_i , \\ldots , x^d_i$ . "
   ]
  },
  {
   "cell_type": "code",
   "execution_count": 326,
   "metadata": {
    "collapsed": false,
    "slideshow": {
     "slide_type": "slide"
    },
    "variables": {
     "round(R2[ 0 ],2)": "0.0"
    }
   },
   "outputs": [],
   "source": [
    "#data = pd.read_csv('Lect5_poly1_train.csv')\n",
    "data = pd.read_csv('Lect5_poly1_train_small.csv')\n",
    "X_train = data['X']\n",
    "Y_train = data['Y']\n",
    "\n",
    "#data = pd.read_csv('Lect5_poly1_test.csv')\n",
    "data = pd.read_csv('Lect5_poly1_test_small.csv')\n",
    "X_test = data['X']\n",
    "Y_test = data['Y']"
   ]
  },
  {
   "cell_type": "markdown",
   "metadata": {
    "slideshow": {
     "slide_type": "slide"
    }
   },
   "source": [
    "# Fit it "
   ]
  },
  {
   "cell_type": "code",
   "execution_count": 327,
   "metadata": {
    "collapsed": false,
    "slideshow": {
     "slide_type": "skip"
    }
   },
   "outputs": [],
   "source": [
    " \n",
    "\n",
    "def polynomial_regression_fit(x, y, degrees):\n",
    "    # Create the poly terms for x,x^2 .. \n",
    "    \n",
    "    n= np.size(y)   # data size \n",
    "    x_poly = np.zeros([n, degrees]) # poly degree \n",
    "\n",
    "    for d in range(1, degrees +1):\n",
    "        x_poly[:, d - 1] = np.power(x, d)  # adding terms \n",
    "\n",
    "    Xt=sm.add_constant(x_poly)\n",
    "    model=sm.OLS(y,Xt)\n",
    "    model_results=model.fit()\n",
    "    return model_results, Xt\n",
    "\n",
    "def polynomial_regression_predict(params, degrees, x):\n",
    "    # # Create the poly terms for x,x^2 ..\n",
    "    n = x.shape[0]\n",
    "    x_poly = np.zeros([n, degrees])\n",
    "    for d in range(1, degrees + 1):\n",
    "        x_poly[:, d - 1] = np.power(x, d)\n",
    "    Xt=sm.add_constant(x_poly)\n",
    "   \n",
    "    # Predict y-vals\n",
    "    y_pred = np.dot(params,Xt.T)\n",
    "        \n",
    "    return y_pred\n"
   ]
  },
  {
   "cell_type": "code",
   "execution_count": 328,
   "metadata": {
    "collapsed": false,
    "slideshow": {
     "slide_type": "skip"
    },
    "variables": {
     "round(a,1)": "0.1"
    }
   },
   "outputs": [],
   "source": [
    "\n",
    "def plotit(degrees=1):\n",
    "    plt.figure(figsize=(15,10)) \n",
    "    for d in range(1, degrees +1):\n",
    "        model_results, x_poly= polynomial_regression_fit(X_test,Y_test, degrees)\n",
    "    y_hat=np.dot(model_results.params,x_poly.T)\n",
    "    plt.plot(X_test,y_hat, 'b', label='poly '+str(degrees) + ' degree')\n",
    "    plt.plot(X_test,Y_test, 'ro')\n",
    "    plt.xlabel('X'); plt.ylabel('Y')\n",
    "    plt.legend(loc='best')\n",
    "     "
   ]
  },
  {
   "cell_type": "code",
   "execution_count": 329,
   "metadata": {
    "collapsed": false,
    "scrolled": true,
    "slideshow": {
     "slide_type": "slide"
    }
   },
   "outputs": [
    {
     "data": {
      "text/plain": [
       "<function __main__.plotit>"
      ]
     },
     "execution_count": 329,
     "metadata": {},
     "output_type": "execute_result"
    },
    {
     "data": {
      "image/png": "[encoded data removed]",
      "text/plain": [
       "<matplotlib.figure.Figure at 0x11a075240>"
      ]
     },
     "metadata": {},
     "output_type": "display_data"
    }
   ],
   "source": [
    "interact(plotit, degrees=(1,20,1))"
   ]
  },
  {
   "cell_type": "code",
   "execution_count": 330,
   "metadata": {
    "collapsed": false,
    "slideshow": {
     "slide_type": "slide"
    }
   },
   "outputs": [
    {
     "data": {
      "text/plain": [
       "<matplotlib.text.Text at 0x1184250b8>"
      ]
     },
     "execution_count": 330,
     "metadata": {},
     "output_type": "execute_result"
    },
    {
     "data": {
      "image/png": "[encoded data removed]",
      "text/plain": [
       "<matplotlib.figure.Figure at 0x11901a9b0>"
      ]
     },
     "metadata": {},
     "output_type": "display_data"
    }
   ],
   "source": [
    "\n",
    "plt.figure(figsize=(12,8))\n",
    "degrees=12\n",
    "R2 = np.zeros([ degrees+1,1])\n",
    " \n",
    "for d in range(1, degrees +1):\n",
    "    model_results, _= polynomial_regression_fit(X_train,Y_train, d)\n",
    "    R2[d] = model_results.rsquared\n",
    "\n",
    "\n",
    "plt.plot(R2, 'bo-')\n",
    "plt.xlabel('degree of polynomial'); plt.ylabel(r'$R^2$')\n"
   ]
  },
  {
   "cell_type": "markdown",
   "metadata": {
    "slideshow": {
     "slide_type": "slide"
    }
   },
   "source": [
    "## Polynomial fit (more) \n",
    "\n",
    "We will split the data into train/test and fit on train and try on test.\n",
    "\n",
    "Lets try the fit on test set. \n",
    "\n"
   ]
  },
  {
   "cell_type": "code",
   "execution_count": null,
   "metadata": {
    "collapsed": false,
    "slideshow": {
     "slide_type": "skip"
    }
   },
   "outputs": [],
   "source": []
  },
  {
   "cell_type": "code",
   "execution_count": 331,
   "metadata": {
    "collapsed": false,
    "scrolled": true,
    "slideshow": {
     "slide_type": "slide"
    }
   },
   "outputs": [
    {
     "data": {
      "image/png": "[encoded data removed]",
      "text/plain": [
       "<matplotlib.figure.Figure at 0x11aa8cb70>"
      ]
     },
     "metadata": {},
     "output_type": "display_data"
    }
   ],
   "source": [
    "@interact(degrees=(1,20,1))\n",
    "def plotit(degrees=1):\n",
    "    plt.figure(figsize=(12,8))\n",
    "    \n",
    "    model_results, x_poly= polynomial_regression_fit(X_train,Y_train, degrees)\n",
    "    y_hat=np.dot(model_results.params,x_poly.T)\n",
    "    plt.plot(X_test,y_hat, 'b', label='poly '+str(degrees) + ' degree' + r' $R^2=$ ' +\n",
    "                     str(np.around(model_results.rsquared,3) ))\n",
    "    plt.plot(X_test,Y_test, 'ro', label='testing set')\n",
    "    plt.plot(X_train,Y_train, 'ko', label='training set')\n",
    "    plt.xlabel('X'); plt.ylabel('Y')\n",
    "    plt.legend(loc='best')"
   ]
  },
  {
   "cell_type": "markdown",
   "metadata": {
    "slideshow": {
     "slide_type": "slide"
    }
   },
   "source": [
    "### Examine the R2 as a function of degree for the test and train \n",
    "\n"
   ]
  },
  {
   "cell_type": "code",
   "execution_count": 332,
   "metadata": {
    "collapsed": true,
    "slideshow": {
     "slide_type": "slide"
    }
   },
   "outputs": [],
   "source": [
    "\n",
    "\n",
    "\n",
    "data = pd.read_csv('Lect5_poly1_train.csv')\n",
    "#data = pd.read_csv('Lect5_poly1_train_small.csv')\n",
    "X_train = data['X']\n",
    "Y_train = data['Y']\n",
    "\n",
    "data = pd.read_csv('Lect5_poly1_test.csv')\n",
    "#data = pd.read_csv('Lect5_poly1_test_small.csv')\n",
    "X_test = data['X']\n",
    "Y_test = data['Y']"
   ]
  },
  {
   "cell_type": "code",
   "execution_count": 333,
   "metadata": {
    "collapsed": false,
    "slideshow": {
     "slide_type": "skip"
    }
   },
   "outputs": [],
   "source": [
    "degrees=20\n",
    "R2_test = np.zeros([ degrees+1,1])\n",
    "R2 = np.zeros([ degrees+1,1])\n",
    "AIC = np.zeros([ degrees+1,1])\n",
    "BIC = np.zeros([ degrees+1,1])\n",
    "R2adj = np.zeros([ degrees+1,1])\n",
    "\n",
    "for d in range(1, degrees +1):\n",
    "    model_results, _ = polynomial_regression_fit(X_train,Y_train, d)\n",
    "    R2[d] = model_results.rsquared\n",
    "    \n",
    "    y_hat=polynomial_regression_predict(model_results.params, d, X_test)\n",
    "    RSS = np.sum((Y_test-y_hat)**2)\n",
    "    TSS = np.sum((Y_test-np.mean(Y_test))**2)\n",
    "    R2_test[d] = 1.0-RSS/TSS\n",
    "    AIC[d] = model_results.aic\n",
    "    BIC[d] = model_results.bic\n",
    "    R2adj[d]=model_results.rsquared_adj\n",
    "    "
   ]
  },
  {
   "cell_type": "code",
   "execution_count": 334,
   "metadata": {
    "collapsed": false,
    "slideshow": {
     "slide_type": "slide"
    }
   },
   "outputs": [
    {
     "data": {
      "image/png": "[encoded data removed]",
      "text/plain": [
       "<matplotlib.figure.Figure at 0x1197b4be0>"
      ]
     },
     "metadata": {},
     "output_type": "display_data"
    }
   ],
   "source": [
    "plt.figure(figsize=(12,8))\n",
    "plt.plot(R2, 'bo-', label=r'$R^2$ Training set')\n",
    "plt.plot(R2_test, 'ro-', label=r'$R^2$ Testing set')\n",
    "plt.xlabel('degree of polynomial'); plt.ylabel(r'$R^2$')\n",
    "plt.xlabel('degree of polynomial'); plt.ylabel(r'$R^2$')\n",
    "plt.legend(loc='best')\n",
    "plt.grid()"
   ]
  },
  {
   "cell_type": "markdown",
   "metadata": {},
   "source": [
    "### Also lets look at AIC (Akaike information criterion), BIC ( Bayesian Information Criterion)\n",
    "Increase in D much higher than decrease in RSS "
   ]
  },
  {
   "cell_type": "code",
   "execution_count": 335,
   "metadata": {
    "collapsed": false,
    "slideshow": {
     "slide_type": "slide"
    }
   },
   "outputs": [
    {
     "data": {
      "image/png": "[encoded data removed]",
      "text/plain": [
       "<matplotlib.figure.Figure at 0x118eb4208>"
      ]
     },
     "metadata": {},
     "output_type": "display_data"
    }
   ],
   "source": [
    "plt.figure(figsize=(12,8))\n",
    "plt.plot(AIC[1:11], 'bo-', label=r'$R^2$ AIC training set')\n",
    "plt.plot(BIC[1:11], 'ro-', label=r'$R^2$ BIC training set')\n",
    "#plt.plot(R2adj, 'bo-', label=r'$R^2$ Training set')\n",
    "\n",
    "plt.xlabel('degree of polynomial'); plt.ylabel(r'$R^2$')\n",
    "plt.xlabel('degree of polynomial'); plt.ylabel(r'$R^2$')\n",
    "plt.legend(loc='best')\n",
    "plt.grid()"
   ]
  },
  {
   "cell_type": "code",
   "execution_count": 336,
   "metadata": {
    "collapsed": false,
    "slideshow": {
     "slide_type": "slide"
    }
   },
   "outputs": [
    {
     "data": {
      "image/png": "[encoded data removed]",
      "text/plain": [
       "<matplotlib.figure.Figure at 0x11a06d4a8>"
      ]
     },
     "metadata": {},
     "output_type": "display_data"
    }
   ],
   "source": [
    "plt.figure(figsize=(12,8))\n",
    "\n",
    "plt.plot(R2adj, 'bo-', label=r'$R^2$ Training set')\n",
    "\n",
    "plt.xlabel('degree of polynomial'); plt.ylabel(r'$R^2$')\n",
    "plt.xlabel('degree of polynomial'); plt.ylabel(r'$R^2$')\n",
    "plt.legend(loc='best')\n",
    "plt.grid()"
   ]
  },
  {
   "cell_type": "code",
   "execution_count": 337,
   "metadata": {
    "collapsed": false,
    "slideshow": {
     "slide_type": "skip"
    }
   },
   "outputs": [
    {
     "data": {
      "text/html": [
       "<table class=\"simpletable\">\n",
       "<caption>OLS Regression Results</caption>\n",
       "<tr>\n",
       "  <th>Dep. Variable:</th>            <td>Y</td>        <th>  R-squared:         </th> <td>   0.900</td>\n",
       "</tr>\n",
       "<tr>\n",
       "  <th>Model:</th>                   <td>OLS</td>       <th>  Adj. R-squared:    </th> <td>   0.844</td>\n",
       "</tr>\n",
       "<tr>\n",
       "  <th>Method:</th>             <td>Least Squares</td>  <th>  F-statistic:       </th> <td>   16.11</td>\n",
       "</tr>\n",
       "<tr>\n",
       "  <th>Date:</th>             <td>Wed, 21 Sep 2016</td> <th>  Prob (F-statistic):</th> <td>3.87e-09</td>\n",
       "</tr>\n",
       "<tr>\n",
       "  <th>Time:</th>                 <td>11:16:48</td>     <th>  Log-Likelihood:    </th> <td> -8.9641</td>\n",
       "</tr>\n",
       "<tr>\n",
       "  <th>No. Observations:</th>      <td>    40</td>      <th>  AIC:               </th> <td>   47.93</td>\n",
       "</tr>\n",
       "<tr>\n",
       "  <th>Df Residuals:</th>          <td>    25</td>      <th>  BIC:               </th> <td>   73.26</td>\n",
       "</tr>\n",
       "<tr>\n",
       "  <th>Df Model:</th>              <td>    14</td>      <th>                     </th>     <td> </td>   \n",
       "</tr>\n",
       "<tr>\n",
       "  <th>Covariance Type:</th>      <td>nonrobust</td>    <th>                     </th>     <td> </td>   \n",
       "</tr>\n",
       "</table>\n",
       "<table class=\"simpletable\">\n",
       "<tr>\n",
       "    <td></td>       <th>coef</th>     <th>std err</th>      <th>t</th>      <th>P>|t|</th> <th>[95.0% Conf. Int.]</th> \n",
       "</tr>\n",
       "<tr>\n",
       "  <th>const</th> <td>    0.3063</td> <td>    0.374</td> <td>    0.819</td> <td> 0.421</td> <td>   -0.464     1.077</td>\n",
       "</tr>\n",
       "<tr>\n",
       "  <th>x1</th>    <td>   11.2977</td> <td>    7.374</td> <td>    1.532</td> <td> 0.138</td> <td>   -3.890    26.485</td>\n",
       "</tr>\n",
       "<tr>\n",
       "  <th>x2</th>    <td>  -87.4606</td> <td>   41.993</td> <td>   -2.083</td> <td> 0.048</td> <td> -173.947    -0.974</td>\n",
       "</tr>\n",
       "<tr>\n",
       "  <th>x3</th>    <td>  201.1314</td> <td>   83.119</td> <td>    2.420</td> <td> 0.023</td> <td>   29.945   372.318</td>\n",
       "</tr>\n",
       "<tr>\n",
       "  <th>x4</th>    <td>  -99.7930</td> <td>   37.976</td> <td>   -2.628</td> <td> 0.014</td> <td> -178.006   -21.580</td>\n",
       "</tr>\n",
       "<tr>\n",
       "  <th>x5</th>    <td> -135.1708</td> <td>   54.433</td> <td>   -2.483</td> <td> 0.020</td> <td> -247.277   -23.064</td>\n",
       "</tr>\n",
       "<tr>\n",
       "  <th>x6</th>    <td>   52.8870</td> <td>   21.694</td> <td>    2.438</td> <td> 0.022</td> <td>    8.208    97.566</td>\n",
       "</tr>\n",
       "<tr>\n",
       "  <th>x7</th>    <td>  133.5371</td> <td>   51.886</td> <td>    2.574</td> <td> 0.016</td> <td>   26.676   240.398</td>\n",
       "</tr>\n",
       "<tr>\n",
       "  <th>x8</th>    <td>    2.1094</td> <td>    9.516</td> <td>    0.222</td> <td> 0.826</td> <td>  -17.489    21.708</td>\n",
       "</tr>\n",
       "<tr>\n",
       "  <th>x9</th>    <td> -123.9940</td> <td>   47.987</td> <td>   -2.584</td> <td> 0.016</td> <td> -222.825   -25.163</td>\n",
       "</tr>\n",
       "<tr>\n",
       "  <th>x10</th>   <td>  -29.4604</td> <td>   13.568</td> <td>   -2.171</td> <td> 0.040</td> <td>  -57.405    -1.516</td>\n",
       "</tr>\n",
       "<tr>\n",
       "  <th>x11</th>   <td>  121.2505</td> <td>   47.186</td> <td>    2.570</td> <td> 0.017</td> <td>   24.069   218.432</td>\n",
       "</tr>\n",
       "<tr>\n",
       "  <th>x12</th>   <td>    5.5797</td> <td>    6.391</td> <td>    0.873</td> <td> 0.391</td> <td>   -7.582    18.741</td>\n",
       "</tr>\n",
       "<tr>\n",
       "  <th>x13</th>   <td> -128.7955</td> <td>   50.143</td> <td>   -2.569</td> <td> 0.017</td> <td> -232.067   -25.524</td>\n",
       "</tr>\n",
       "<tr>\n",
       "  <th>x14</th>   <td>  123.1873</td> <td>   48.556</td> <td>    2.537</td> <td> 0.018</td> <td>   23.185   223.189</td>\n",
       "</tr>\n",
       "<tr>\n",
       "  <th>x15</th>   <td>  -61.8023</td> <td>   24.681</td> <td>   -2.504</td> <td> 0.019</td> <td> -112.634   -10.971</td>\n",
       "</tr>\n",
       "<tr>\n",
       "  <th>x16</th>   <td>   19.3820</td> <td>    7.844</td> <td>    2.471</td> <td> 0.021</td> <td>    3.227    35.537</td>\n",
       "</tr>\n",
       "<tr>\n",
       "  <th>x17</th>   <td>   -3.9453</td> <td>    1.618</td> <td>   -2.438</td> <td> 0.022</td> <td>   -7.278    -0.612</td>\n",
       "</tr>\n",
       "<tr>\n",
       "  <th>x18</th>   <td>    0.5097</td> <td>    0.212</td> <td>    2.405</td> <td> 0.024</td> <td>    0.073     0.946</td>\n",
       "</tr>\n",
       "<tr>\n",
       "  <th>x19</th>   <td>   -0.0381</td> <td>    0.016</td> <td>   -2.372</td> <td> 0.026</td> <td>   -0.071    -0.005</td>\n",
       "</tr>\n",
       "<tr>\n",
       "  <th>x20</th>   <td>    0.0013</td> <td>    0.001</td> <td>    2.340</td> <td> 0.028</td> <td>    0.000     0.002</td>\n",
       "</tr>\n",
       "</table>\n",
       "<table class=\"simpletable\">\n",
       "<tr>\n",
       "  <th>Omnibus:</th>       <td>18.559</td> <th>  Durbin-Watson:     </th> <td>   2.761</td>\n",
       "</tr>\n",
       "<tr>\n",
       "  <th>Prob(Omnibus):</th> <td> 0.000</td> <th>  Jarque-Bera (JB):  </th> <td>  26.561</td>\n",
       "</tr>\n",
       "<tr>\n",
       "  <th>Skew:</th>          <td> 1.346</td> <th>  Prob(JB):          </th> <td>1.71e-06</td>\n",
       "</tr>\n",
       "<tr>\n",
       "  <th>Kurtosis:</th>      <td> 5.949</td> <th>  Cond. No.          </th> <td>3.20e+19</td>\n",
       "</tr>\n",
       "</table>"
      ],
      "text/plain": [
       "<class 'statsmodels.iolib.summary.Summary'>\n",
       "\"\"\"\n",
       "                            OLS Regression Results                            \n",
       "==============================================================================\n",
       "Dep. Variable:                      Y   R-squared:                       0.900\n",
       "Model:                            OLS   Adj. R-squared:                  0.844\n",
       "Method:                 Least Squares   F-statistic:                     16.11\n",
       "Date:                Wed, 21 Sep 2016   Prob (F-statistic):           3.87e-09\n",
       "Time:                        11:16:48   Log-Likelihood:                -8.9641\n",
       "No. Observations:                  40   AIC:                             47.93\n",
       "Df Residuals:                      25   BIC:                             73.26\n",
       "Df Model:                          14                                         \n",
       "Covariance Type:            nonrobust                                         \n",
       "==============================================================================\n",
       "                 coef    std err          t      P>|t|      [95.0% Conf. Int.]\n",
       "------------------------------------------------------------------------------\n",
       "const          0.3063      0.374      0.819      0.421        -0.464     1.077\n",
       "x1            11.2977      7.374      1.532      0.138        -3.890    26.485\n",
       "x2           -87.4606     41.993     -2.083      0.048      -173.947    -0.974\n",
       "x3           201.1314     83.119      2.420      0.023        29.945   372.318\n",
       "x4           -99.7930     37.976     -2.628      0.014      -178.006   -21.580\n",
       "x5          -135.1708     54.433     -2.483      0.020      -247.277   -23.064\n",
       "x6            52.8870     21.694      2.438      0.022         8.208    97.566\n",
       "x7           133.5371     51.886      2.574      0.016        26.676   240.398\n",
       "x8             2.1094      9.516      0.222      0.826       -17.489    21.708\n",
       "x9          -123.9940     47.987     -2.584      0.016      -222.825   -25.163\n",
       "x10          -29.4604     13.568     -2.171      0.040       -57.405    -1.516\n",
       "x11          121.2505     47.186      2.570      0.017        24.069   218.432\n",
       "x12            5.5797      6.391      0.873      0.391        -7.582    18.741\n",
       "x13         -128.7955     50.143     -2.569      0.017      -232.067   -25.524\n",
       "x14          123.1873     48.556      2.537      0.018        23.185   223.189\n",
       "x15          -61.8023     24.681     -2.504      0.019      -112.634   -10.971\n",
       "x16           19.3820      7.844      2.471      0.021         3.227    35.537\n",
       "x17           -3.9453      1.618     -2.438      0.022        -7.278    -0.612\n",
       "x18            0.5097      0.212      2.405      0.024         0.073     0.946\n",
       "x19           -0.0381      0.016     -2.372      0.026        -0.071    -0.005\n",
       "x20            0.0013      0.001      2.340      0.028         0.000     0.002\n",
       "==============================================================================\n",
       "Omnibus:                       18.559   Durbin-Watson:                   2.761\n",
       "Prob(Omnibus):                  0.000   Jarque-Bera (JB):               26.561\n",
       "Skew:                           1.346   Prob(JB):                     1.71e-06\n",
       "Kurtosis:                       5.949   Cond. No.                     3.20e+19\n",
       "==============================================================================\n",
       "\n",
       "Warnings:\n",
       "[1] Standard Errors assume that the covariance matrix of the errors is correctly specified.\n",
       "[2] The smallest eigenvalue is 1.94e-15. This might indicate that there are\n",
       "strong multicollinearity problems or that the design matrix is singular.\n",
       "\"\"\""
      ]
     },
     "execution_count": 337,
     "metadata": {},
     "output_type": "execute_result"
    }
   ],
   "source": [
    "model_results.summary()\n"
   ]
  },
  {
   "cell_type": "markdown",
   "metadata": {
    "slideshow": {
     "slide_type": "slide"
    }
   },
   "source": [
    "<br>\n",
    "\n",
    "# Outline \n",
    "- Select among multiple predictors \n",
    "    - Forward, Backward, Hybrid\n",
    "    - AIC, BIC, reduced R2, Cp  \n",
    "- Polynomial regression \n",
    "    - Formalism \n",
    "    - Select the degree \n",
    "    \n",
    "- Interaction terms \n",
    "\n",
    "- ** Revisit SE, p-value and all that jazz  ** \n",
    "   \n",
    "\n",
    "    \n"
   ]
  },
  {
   "cell_type": "markdown",
   "metadata": {
    "slideshow": {
     "slide_type": "slide"
    }
   },
   "source": [
    "## Standard error\n",
    "\n",
    "We have learned how to calculate the standard error using the formula given to you. Those formulas hold only in the case when the error distribution is iid and normal. \n",
    "This is not case in many real world applications\n",
    "1. Errors sometimes have fatter tails \n",
    "2. Error is not constant -> assuming all the errors are the same\n",
    "3. Correlated errors -> assume all errors are white noise - if you make multiple measurements, errors should start cancelling out but if the errors are correlated, this assumption cannot be made. \n",
    "\n",
    "What is an alternative way of calculating the SE and from that the p-value and confidence intervals \n",
    "\n"
   ]
  },
  {
   "cell_type": "markdown",
   "metadata": {
    "slideshow": {
     "slide_type": "subslide"
    }
   },
   "source": [
    "### P-value revisited \n"
   ]
  },
  {
   "cell_type": "markdown",
   "metadata": {
    "slideshow": {
     "slide_type": "slide"
    }
   },
   "source": [
    "## Standard error (cont) \n",
    "\n",
    "Recall that the estimates are not biased, i.e. if we had infinite measurements the SE$\\rightarrow$0. \n",
    "However, we have only a limited set of measurements, our dataset we are working on. \n",
    "From that we can estimate the coefficients and we know how to estimate the error on those estimates. \n",
    "\n",
    "Now, imagine that we could access parallel universes and perform the same measurement multiple times. In this scenario we will have multiple set of datasets and since these universes are identical we will have a sample of datasets derived from  identical systems (just different universes) so same distributions. These measurements are not identical because every time we make a measurement there is an error.  \n",
    "\n",
    "We could then estimate the coefficients for each of these datasets and then use those estimates to calculate the ensemble (ensemble here means the collection of datasets from all the universes) standard deviation. This standard deviation shoould be the same (or similar) to the SE estimated with the formula. \n",
    "\n",
    "\n",
    "<img src=\"parallel.jpeg\">\n"
   ]
  },
  {
   "cell_type": "markdown",
   "metadata": {
    "slideshow": {
     "slide_type": "slide"
    },
    "variables": {
     "countdown(30)": "1 "
    }
   },
   "source": [
    "Unfortunately we do not access to such parallel universes. \n",
    "\n",
    "What can we do ? \n",
    "\n",
    "\n",
    "\n"
   ]
  },
  {
   "cell_type": "markdown",
   "metadata": {
    "slideshow": {
     "slide_type": "slide"
    },
    "variables": {
     "countdown(30)": "1 "
    }
   },
   "source": [
    "# think for a second \n",
    "{{countdown(30)}}"
   ]
  },
  {
   "cell_type": "markdown",
   "metadata": {
    "slideshow": {
     "slide_type": "slide"
    }
   },
   "source": [
    "**bootstrapping**\n",
    "\n",
    "The power of simulation: \n",
    "\n",
    "   - Select q randomly subsamples of size q out of the whole dataset\n",
    "   - Subsample with replacement. \n",
    "   - For each subsample we estimate the coefficients $\\beta_1$ \n",
    "   - From this  collection of $\\beta$'s we can estimate SE, confidence intervals etc"
   ]
  },
  {
   "cell_type": "code",
   "execution_count": 301,
   "metadata": {
    "collapsed": false
   },
   "outputs": [
    {
     "name": "stdout",
     "output_type": "stream",
     "text": [
      "CI = 3.02212982763\n",
      "CI = 0.0598006085917\n"
     ]
    },
    {
     "data": {
      "image/png": "[encoded data removed]",
      "text/plain": [
       "<matplotlib.figure.Figure at 0x1191a01d0>"
      ]
     },
     "metadata": {},
     "output_type": "display_data"
    }
   ],
   "source": [
    "# Load train set\n",
    "data = pd.read_csv(\"maxheartrate.csv\") \n",
    "\n",
    "x = data['age'].values\n",
    "y = data['maxheartrate'].values\n",
    "\n",
    "# Size of the data set\n",
    "n = x.shape[0]\n",
    "\n",
    "# set the subsample size  should be small enough so that repeats are less likely - \n",
    "# i.e. data size 1000 and sample size 100 will lead to many repeated points in the subsamples \n",
    "subsample_size = 300\n",
    "\n",
    "# No. of subsamples\n",
    "num_samples = 200\n",
    "    \n",
    "### Linear regression \n",
    "\n",
    "# Create a n  array to store coefficients for all subsamples\n",
    "coefs_a = np.zeros((num_samples, 2))\n",
    "\n",
    "\n",
    "for i in range(num_samples):\n",
    "    # Generate a random subsample of 50 data points\n",
    "    perm = np.random.permutation(n) # Generate a list of indices 0 to n and permute it\n",
    "    x_subsample = x[perm[:subsample_size]] # Get x-vals for the first 50 indices in permuted list\n",
    "    \n",
    "    y_subsample = y[perm[:subsample_size]] # Get y-vals for the first 50 indices in permuted list\n",
    "\n",
    "    # Fit linear regression model on subsample\n",
    "    xt= sm.add_constant(x_subsample)\n",
    "    model = sm.OLS( y_subsample, xt)\n",
    "    model_results= model.fit()\n",
    "    \n",
    "    # Store the coefficient for the model we obtain\n",
    "    coefs_a[i, :] = model_results.params\n",
    "    \n",
    "\n",
    "# Plot histogram of coefficients, and report their confidence intervals \n",
    "fig, axes = plt.subplots(1, 2, figsize=(12, 6))\n",
    "\n",
    "# Repeat for each coefficient\n",
    "for j in range(2):\n",
    "    # Compute mean for the j-th coefficent from subsamples\n",
    "    coef_j_mean = np.mean(coefs_a[:, j])\n",
    "    \n",
    "    # Compute confidence interval at 95% confidence level (use formula!)\n",
    "    conf_int_left = np.percentile(coefs_a[:, j], 2.5)\n",
    "    conf_int_right = np.percentile(coefs_a[:, j], 97.5)\n",
    "    print('CI =', np.mean(coef_j_mean.mean()-conf_int_left) ) \n",
    "    # Plot histogram of coefficient values\n",
    "    axes[j].hist(coefs_a[:, j], alpha=0.5)\n",
    "\n",
    "    # Plot vertical lines at mean and left, right extremes of confidence interval\n",
    "    axes[j].axvline(x = coef_j_mean, linewidth=3)\n",
    "    axes[j].axvline(x = conf_int_left, linewidth=1, c='r')\n",
    "    axes[j].axvline(x = conf_int_right, linewidth=1, c='r')\n",
    "    \n",
    "    # Set plot labels\n",
    "    axes[j].set_title('[' + str(round(conf_int_left, 4)) \n",
    "                      + ', ' \n",
    "                      + str(round(conf_int_right, 4)) + ']')\n",
    "    axes[j].set_xlabel('Predictor ' + str(j + 1))\n",
    "    axes[j].set_ylabel('Frequency')\n",
    "\n",
    "plt.show()"
   ]
  },
  {
   "cell_type": "markdown",
   "metadata": {
    "slideshow": {
     "slide_type": "slide"
    }
   },
   "source": [
    "### Compare to SE formulas we discussed in class \n",
    "\n",
    "- Calculate the SE using the formula filename \"maxheartrate.csv\")\n"
   ]
  },
  {
   "cell_type": "markdown",
   "metadata": {
    "slideshow": {
     "slide_type": "slide"
    }
   },
   "source": [
    "$$SE(\\hat{\\beta}_0)^2 = \\sigma^2 \\left[ \\frac{1}{n} + \\frac{\\bar{x}^2}{\\sum_i(x_i-\\bar{x})^2} \\right]$$\n",
    "\n",
    "$$SE(\\hat{\\beta}_1)^2 =  \\frac{ \\sigma^2}{\\sum_i(x_i-\\bar{x})^2}$$\n",
    "\n",
    "\n",
    "$$\\sigma \\approx RSE = \\sqrt{ \\frac{RSS}{n-2}} $$\n",
    "\n",
    "$$RSS  = \\sum_i ( y_i - \\hat{y_i} )^2 = \\sum_i \\,e_i^2$$\n"
   ]
  },
  {
   "cell_type": "code",
   "execution_count": 3,
   "metadata": {
    "collapsed": false
   },
   "outputs": [
    {
     "data": {
      "text/html": [
       "<div>\n",
       "<table border=\"1\" class=\"dataframe\">\n",
       "  <thead>\n",
       "    <tr style=\"text-align: right;\">\n",
       "      <th></th>\n",
       "      <th>age</th>\n",
       "      <th>maxheartrate</th>\n",
       "    </tr>\n",
       "  </thead>\n",
       "  <tbody>\n",
       "    <tr>\n",
       "      <th>0</th>\n",
       "      <td>10.000000</td>\n",
       "      <td>184.341231</td>\n",
       "    </tr>\n",
       "    <tr>\n",
       "      <th>1</th>\n",
       "      <td>10.026676</td>\n",
       "      <td>211.179287</td>\n",
       "    </tr>\n",
       "    <tr>\n",
       "      <th>2</th>\n",
       "      <td>10.053351</td>\n",
       "      <td>191.542827</td>\n",
       "    </tr>\n",
       "    <tr>\n",
       "      <th>3</th>\n",
       "      <td>10.080027</td>\n",
       "      <td>219.058595</td>\n",
       "    </tr>\n",
       "    <tr>\n",
       "      <th>4</th>\n",
       "      <td>10.106702</td>\n",
       "      <td>224.434545</td>\n",
       "    </tr>\n",
       "  </tbody>\n",
       "</table>\n",
       "</div>"
      ],
      "text/plain": [
       "         age  maxheartrate\n",
       "0  10.000000    184.341231\n",
       "1  10.026676    211.179287\n",
       "2  10.053351    191.542827\n",
       "3  10.080027    219.058595\n",
       "4  10.106702    224.434545"
      ]
     },
     "execution_count": 3,
     "metadata": {},
     "output_type": "execute_result"
    }
   ],
   "source": []
  },
  {
   "cell_type": "code",
   "execution_count": null,
   "metadata": {
    "collapsed": true
   },
   "outputs": [],
   "source": [
    "Y = data['maxheartrate']\n",
    "N = len(data)\n",
    "X_bar = \n",
    "# RSS = np.sum((Y_test-y_hat)**2)"
   ]
  }
 ],
 "metadata": {
  "anaconda-cloud": {},
  "celltoolbar": "Slideshow",
  "kernelspec": {
   "display_name": "Python [Root]",
   "language": "python",
   "name": "Python [Root]"
  },
  "language_info": {
   "codemirror_mode": {
    "name": "ipython",
    "version": 2
   },
   "file_extension": ".py",
   "mimetype": "text/x-python",
   "name": "python",
   "nbconvert_exporter": "python",
   "pygments_lexer": "ipython2",
   "version": "2.7.12"
  },
  "latex_envs": {
   "bibliofile": "biblio.bib",
   "cite_by": "apalike",
   "current_citInitial": 1,
   "eqLabelWithNumbers": true,
   "eqNumInitial": 0
  },
  "widgets": {
   "state": {
    "0189c7c6eae84f9aabe9272266f78828": {
     "views": []
    },
    "027c06a17a834eb0a1e95e316600b8a9": {
     "views": []
    },
    "0361a91c7caf4097846f6532b56123f1": {
     "views": []
    },
    "08e7792d314246fcb680cdc0bf9d53df": {
     "views": []
    },
    "0a9966fe29c64d24af9726ed11047858": {
     "views": []
    },
    "0abd38b99d094ce08095652d936b0169": {
     "views": []
    },
    "0f1e2e8d9a5d4e6284859459f41dcbc3": {
     "views": []
    },
    "0f4f0831d31b4b4b8cd1775df0fbcd90": {
     "views": []
    },
    "130d05271e084a76bd0ad79036012819": {
     "views": []
    },
    "1317285db4c842dea3df46c100757694": {
     "views": []
    },
    "144e999834af40efae23071b7e15e4ac": {
     "views": []
    },
    "155115c5586549f6a418b240d10e8931": {
     "views": []
    },
    "16269364a7024dcb89ebcc63b69471ae": {
     "views": []
    },
    "1aa71bbdc37a4e788d8ff03c50721068": {
     "views": []
    },
    "1c730ce71ef94dd09731f6464787b6f5": {
     "views": []
    },
    "1c781c0ab54249669d7966c3c8706b69": {
     "views": []
    },
    "1cf93d73b2f94a6188df29aef97a4f66": {
     "views": []
    },
    "1fc5602242d84c9bbd420bb61c2ce003": {
     "views": []
    },
    "21423a2b5d9a4ee48f13f01880865cca": {
     "views": []
    },
    "28292e16abd7426283d7f7dd03ca3dc6": {
     "views": []
    },
    "28543a5866124a0d9891d452db1c1615": {
     "views": []
    },
    "28a259101f794e6598bdad7c73abedae": {
     "views": []
    },
    "28d937a818d34fcaa0c8af14283bf427": {
     "views": []
    },
    "298ad6973d1541fea33be4b758897c75": {
     "views": []
    },
    "2d85a3f5e51541f4b7d6e54e751e4d01": {
     "views": []
    },
    "2dd0c1cb94a54e7c956770fffb06308b": {
     "views": []
    },
    "2ef0a71f30434004941a1a7fbfd06513": {
     "views": []
    },
    "32b81d44030e40ea95f8df3ed996e70c": {
     "views": []
    },
    "33ea42cccc944927a9679af55ead6c71": {
     "views": []
    },
    "340fc3465d9d4521aa03fa3722096e9e": {
     "views": []
    },
    "3429f7811d6d4c2bb5e0f179f95e75c8": {
     "views": []
    },
    "399995cee57e4e34b6feba83d2430d4b": {
     "views": []
    },
    "3a3b0a430d334f07aac24a67498b79dd": {
     "views": []
    },
    "3ada42cf2df944e9964ed92187e6829d": {
     "views": []
    },
    "3bfbbfc9d96543e9aa2711da50829742": {
     "views": []
    },
    "3c4ec0842b534955994d7a6763ca8a4a": {
     "views": []
    },
    "3d692b294dd04d2994fe1a758d5a5947": {
     "views": []
    },
    "3f50631e6d2d4658b76d7bba25da74bb": {
     "views": []
    },
    "406e3f8aaff442c18d42d8e2eef3fb53": {
     "views": [
      {
       "cell_index": 29
      }
     ]
    },
    "44a84c5c5e0c443ba09d0b299449bc40": {
     "views": []
    },
    "48910e4616d745bc9c6efebc05394a2e": {
     "views": []
    },
    "4a422d5546354b03a6846bd1bc0c60cb": {
     "views": []
    },
    "4bfc787712ce4d0bbe27df3b1603abb1": {
     "views": []
    },
    "4cb273b4d76743fea8b3877c8652ada0": {
     "views": []
    },
    "4e21b45e33a345fb8a95a57603dbdefd": {
     "views": []
    },
    "4e326a2515e241c99dd56ff93724ded3": {
     "views": []
    },
    "4f04588c97684938b370c2eba2049b9a": {
     "views": []
    },
    "4fdf2b6f139c42388d96a7c13240c0c3": {
     "views": []
    },
    "53514d94a0214024a0bf71d24d2dfa19": {
     "views": []
    },
    "56fa51cd4a144e979f74f3d8da04a49b": {
     "views": []
    },
    "581fdefbbb39466da9aeb7d6d7e7a074": {
     "views": []
    },
    "5982d82bb8354b63b7bf9d2889d40f00": {
     "views": []
    },
    "5b2ed3cb8be7478f9dcda14bbb9a0ec9": {
     "views": []
    },
    "5bc8fabbedb74cca9fe9acbf643dd33d": {
     "views": []
    },
    "60b79335478a4a8ebb7d95d0ca24206f": {
     "views": []
    },
    "63856a872d2a4504aaec47e428d62ddc": {
     "views": []
    },
    "6a995ea06f484626ad592c8270455e4c": {
     "views": []
    },
    "6b55ea20837942deb7d9558c20a6f2cf": {
     "views": []
    },
    "6b9139bbdd414d9aa42c3e990a058cbf": {
     "views": []
    },
    "6bd5d9e57b734e8ba8e2282ed370bbc4": {
     "views": []
    },
    "6f7c2163644c4f5988d3d91fc6c0ae53": {
     "views": []
    },
    "75f06742e66645b796d7924483aa5397": {
     "views": []
    },
    "768cbc9d154f42458118f3919ce1990f": {
     "views": []
    },
    "7c37c49a2a6e408e8b00a48fe869d76f": {
     "views": []
    },
    "7c404405beff46f2a03a2ef425c882f1": {
     "views": []
    },
    "7e5aacdf859845f6b05d3af6ed990829": {
     "views": []
    },
    "8015a5ca3aac44b890c73f688fba2914": {
     "views": []
    },
    "815633a29554427294962450482dda9b": {
     "views": []
    },
    "828dd9d9fa4342c894edeb4c489dbe8e": {
     "views": []
    },
    "8671fb7d3a1e44619b6aeed1c3451dae": {
     "views": []
    },
    "8943bc2b123f493388cfb99a50c7a90e": {
     "views": []
    },
    "8c1d0cfb63d5411c939caf00dd707367": {
     "views": []
    },
    "97bed8249ec54956a95d5a75bb60a9c5": {
     "views": []
    },
    "99a0e19c1cb74399b3d8e56a7161b1d2": {
     "views": []
    },
    "9a8b169abd58437e9f9318b6c4e0130c": {
     "views": []
    },
    "9afbf7c53e7e430089d12b78e4c343b6": {
     "views": []
    },
    "9d1bfeae59bc4c37941ce52e6d871c8f": {
     "views": []
    },
    "a021efa5293845ee92643a4db1b18624": {
     "views": []
    },
    "a64f1b93cfc64dc594bdfd54fcffaa69": {
     "views": []
    },
    "a87321bf252e4a269387f4e7ee83218e": {
     "views": []
    },
    "a87682d7269d46cabb140cdd0a27fb82": {
     "views": []
    },
    "a9721f0e4bb2448caedb29d82d7e8a18": {
     "views": []
    },
    "a9edea3236934601a521534083e22b73": {
     "views": []
    },
    "b3385f5be7cf4b8498f4b17c6b6978dc": {
     "views": []
    },
    "b3ff497ebe904692ab85c11ad043a815": {
     "views": []
    },
    "b832d2a72ff94af9971c93c137fb91f2": {
     "views": []
    },
    "bb44a402f6804c1898de54c00d5e0c85": {
     "views": []
    },
    "be732b74d8d1405fb9fb5b6c4f07756b": {
     "views": []
    },
    "c4ccb1c8db114f68b6b238a352826d95": {
     "views": []
    },
    "c63a44bc825c45bcb4943cd92daf9f0e": {
     "views": []
    },
    "c6e51f1c4af2413fa9e7aa4e06b8d887": {
     "views": []
    },
    "cc73a59349d84a6fbc4565a2a10d4f19": {
     "views": []
    },
    "cd3489b327a5493b857d7dc7085e99a6": {
     "views": []
    },
    "d06a002db9864604b676c9286307072f": {
     "views": []
    },
    "d0d06ffbb0de4886b8d7bb825b464624": {
     "views": []
    },
    "d1d3a875676f4185b7b286a661406422": {
     "views": []
    },
    "d1d547e16cee433598b773caf89223b6": {
     "views": []
    },
    "d2e371dafc004a16b28d8c05edf3e91f": {
     "views": []
    },
    "d3814bc781da4be894d18908bc854cf2": {
     "views": []
    },
    "d4e3c59bc6c9431d9654775d858a276f": {
     "views": []
    },
    "d690b0598fc347d090a4379ca66a299c": {
     "views": []
    },
    "da91b063d39548cc9bcf563fb5c9c7c5": {
     "views": []
    },
    "e0793ecae5a94f8ab59bbb5ddbeaf43d": {
     "views": []
    },
    "e2e35e862e0e4230a62986414e2ad20c": {
     "views": [
      {
       "cell_index": 33
      }
     ]
    },
    "e6de349aa3cd42b999ebaca14f432ff9": {
     "views": []
    },
    "eb8bfecdd5944b2a92e9295dce7d826b": {
     "views": []
    },
    "f24134ad1d6a47d18aafdfdbf923f776": {
     "views": []
    },
    "f5a3f9baa2f54c80bc9447b9383d2045": {
     "views": []
    },
    "f65c638e42024986b51fe56fe8302b44": {
     "views": []
    },
    "f6a4f6235b7742a9884b3d5b3650042f": {
     "views": []
    },
    "f9d4a3026038471fbe18729e851bc892": {
     "views": []
    },
    "fbd4392280134930b6196b6c5aaf2103": {
     "views": []
    }
   },
   "version": "1.1.2"
  }
 },
 "nbformat": 4,
 "nbformat_minor": 0
}
