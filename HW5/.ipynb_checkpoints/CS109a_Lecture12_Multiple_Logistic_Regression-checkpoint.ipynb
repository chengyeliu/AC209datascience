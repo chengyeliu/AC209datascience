{
 "cells": [
  {
   "cell_type": "code",
   "execution_count": 6,
   "metadata": {
    "collapsed": false,
    "scrolled": true,
    "slideshow": {
     "slide_type": "slide"
    }
   },
   "outputs": [
    {
     "name": "stdout",
     "output_type": "stream",
     "text": [
      "           GameId  GameDate  Quarter  Minute  Second OffenseTeam DefenseTeam  \\\n",
      "42748  2015112200  11/22/15        4      10      18         CHI         DEN   \n",
      "27523  2015110500   11/5/15        3       9       2         CIN         CLE   \n",
      "6035   2016010304    1/3/16        4       5      48         HOU         JAC   \n",
      "43672  2015120603   12/6/15        4       1      12         CIN         CLE   \n",
      "\n",
      "       Down  ToGo  YardLine      ...       IsTwoPointConversion  \\\n",
      "42748     2     4        96      ...                          0   \n",
      "27523     1    10        51      ...                          0   \n",
      "6035      2     7        54      ...                          0   \n",
      "43672     4     2        71      ...                          0   \n",
      "\n",
      "       IsTwoPointConversionSuccessful  RushDirection  YardLineFixed  \\\n",
      "42748                               0            NaN              4   \n",
      "27523                               0   RIGHT TACKLE             49   \n",
      "6035                                0         CENTER             46   \n",
      "43672                               0            NaN             29   \n",
      "\n",
      "      YardLineDirection  IsPenaltyAccepted  PenaltyTeam  IsNoPlay  \\\n",
      "42748               OPP                  0          NaN         0   \n",
      "27523               OPP                  0          NaN         0   \n",
      "6035                OPP                  0          NaN         0   \n",
      "43672               OPP                  0          NaN         0   \n",
      "\n",
      "       PenaltyType  PenaltyYards  \n",
      "42748          NaN             0  \n",
      "27523          NaN             0  \n",
      "6035           NaN             0  \n",
      "43672          NaN             0  \n",
      "\n",
      "[4 rows x 45 columns]\n"
     ]
    }
   ],
   "source": [
    "%matplotlib inline\n",
    "import sys\n",
    "import numpy as np\n",
    "import pylab as pl\n",
    "import pandas as pd\n",
    "import statsmodels.api as sm\n",
    "import matplotlib.pyplot as plt\n",
    "import matplotlib\n",
    "import sklearn.linear_model as sk\n",
    "\n",
    "#read the NFL play-by-play data\n",
    "nfldata = pd.read_csv(\"NFLplaybyplay-2015.csv\")\n",
    "\n",
    "# shuffle the data\n",
    "nfldata = nfldata.reindex(np.random.permutation(nfldata.index))\n",
    "\n",
    "# For simplicity, we will select only 500 points form the dataset.\n",
    "N = 500\n",
    "nfldata_sm = nfldata.sample(N)\n",
    "print(nfldata_sm[1:5])\n"
   ]
  },
  {
   "cell_type": "code",
   "execution_count": 58,
   "metadata": {
    "collapsed": false
   },
   "outputs": [
    {
     "name": "stdout",
     "output_type": "stream",
     "text": [
      "Estimated beta1: \n",
      " [[ 0.06258754]]\n",
      "Estimated beta0: \n",
      " [-7.42547808]\n",
      "Estimated beta1: \n",
      " [[ 1.10625354]]\n",
      "Estimated beta0: \n",
      " [-4.06118557]\n"
     ]
    }
   ],
   "source": [
    "def polynomial_basis (x, degree):\n",
    "    p = np.arange (1, degree + 1)\n",
    "    return x[:, np.newaxis] ** p\n",
    "\n",
    "# Create data frame of predictors\n",
    "X1 = nfldata[[\"YardLine\"]]\n",
    "X2 = nfldata[[\"IsPass\"]]\n",
    "\n",
    "# Create logistic regression object\n",
    "logitm1 = sk.LogisticRegression(C = 1000000)\n",
    "logitm1.fit (X1, nfldata[\"IsTouchdown\"])\n",
    "\n",
    "# The coefficients\n",
    "print('Estimated beta1: \\n', logitm1.coef_)\n",
    "print('Estimated beta0: \\n', logitm1.intercept_)\n",
    "\n",
    "logitm1.fit (X2, nfldata[\"IsTouchdown\"])\n",
    "print('Estimated beta1: \\n', logitm1.coef_)\n",
    "print('Estimated beta0: \\n', logitm1.intercept_)\n"
   ]
  },
  {
   "cell_type": "markdown",
   "metadata": {},
   "source": [
    "## Multiple Logistic Regression"
   ]
  },
  {
   "cell_type": "markdown",
   "metadata": {},
   "source": [
    "Just like in linear regression, the logistic regression model can be extended to incorporate multiple predictors/features.  The logistic model (written in the log-odds format) can then be written as:\n",
    "$$ \\ln\\left(\\frac{P(Y=1)}{1-P(Y=1)}\\right) = \\beta_0+\\beta_1 X_1+\\dots+\\beta_p X_p .$$\n",
    "Maximum likelihood methods can still be used to generate estimates for the $p+1$ parameters: $\\beta_0,\\beta_1,\\dots,\\beta_p $."
   ]
  },
  {
   "cell_type": "code",
   "execution_count": 59,
   "metadata": {
    "collapsed": false
   },
   "outputs": [
    {
     "name": "stdout",
     "output_type": "stream",
     "text": [
      "Estimated beta1: \n",
      " [[ 0.06547811  1.2066147 ]]\n",
      "Estimated beta0: \n",
      " [-8.30059191]\n"
     ]
    }
   ],
   "source": [
    "def polynomial_basis (x, degree):\n",
    "    p = np.arange (1, degree + 1)\n",
    "    return x[:, np.newaxis] ** p\n",
    "\n",
    "# Create data frame of predictors\n",
    "X = nfldata[[\"YardLine\",\"IsPass\"]]\n",
    "#print(X[0:5])\n",
    "\n",
    "# Create logistic regression object\n",
    "logitm = sk.LogisticRegression(C = 1000000)\n",
    "logitm.fit (X, nfldata[\"IsTouchdown\"])\n",
    "\n",
    "# The coefficients\n",
    "print('Estimated beta1: \\n', logitm.coef_)\n",
    "print('Estimated beta0: \\n', logitm.intercept_)"
   ]
  },
  {
   "cell_type": "code",
   "execution_count": 49,
   "metadata": {
    "collapsed": false
   },
   "outputs": [
    {
     "data": {
      "image/png": "[encoded data removed]",
      "text/plain": [
       "<matplotlib.figure.Figure at 0x117eb0160>"
      ]
     },
     "metadata": {},
     "output_type": "display_data"
    }
   ],
   "source": [
    "x = np.linspace(0, 100, 100)\n",
    "x = polynomial_basis (x, 1)\n",
    "x0 = np.insert(x,1,0,axis=1)\n",
    "x1 = np.insert(x,1,1,axis=1)\n",
    "\n",
    "# Plot outputs\n",
    "plt.scatter(nfldata[\"YardLine\"],nfldata[\"IsTouchdown\"],  color='black')\n",
    "plt.plot(x, logitm.predict_proba(x0)[:,1],  color='red' , lw=3)\n",
    "plt.plot(x, logitm.predict_proba(x1)[:,1],  color='blue' , lw=3)\n",
    "plt.xlabel (\"Yard Line\")\n",
    "plt.ylabel(\"A Touchdown was Scored\")\n",
    "plt.xlim(0,100)\n",
    "plt.show()\n"
   ]
  },
  {
   "cell_type": "code",
   "execution_count": 50,
   "metadata": {
    "collapsed": false
   },
   "outputs": [
    {
     "name": "stdout",
     "output_type": "stream",
     "text": [
      "       YardLine  IsPass  Interaction\n",
      "24918        35       0            0\n",
      "26375        26       0            0\n",
      "17855        85       0            0\n",
      "28974        26       1           26\n",
      "18408        44       0            0\n",
      "Estimated beta1: \n",
      " [[ 0.06769992  1.46499966 -0.00319916]]\n",
      "Estimated beta0: \n",
      " [-8.48339234]\n",
      "Optimization terminated successfully.\n",
      "         Current function value: 0.102461\n",
      "         Iterations 10\n",
      "                           Logit Regression Results                           \n",
      "==============================================================================\n",
      "Dep. Variable:            IsTouchdown   No. Observations:                46277\n",
      "Model:                          Logit   Df Residuals:                    46273\n",
      "Method:                           MLE   Df Model:                            3\n",
      "Date:                Wed, 19 Oct 2016   Pseudo R-squ.:                  0.2503\n",
      "Time:                        09:15:04   Log-Likelihood:                -4741.6\n",
      "converged:                       True   LL-Null:                       -6324.5\n",
      "                                        LLR p-value:                     0.000\n",
      "===============================================================================\n",
      "                  coef    std err          z      P>|z|      [95.0% Conf. Int.]\n",
      "-------------------------------------------------------------------------------\n",
      "Intercept      -8.5188      0.243    -35.000      0.000        -8.996    -8.042\n",
      "YardLine        0.0681      0.003     23.354      0.000         0.062     0.074\n",
      "IsPass          1.5004      0.285      5.256      0.000         0.941     2.060\n",
      "Interaction    -0.0036      0.003     -1.038      0.299        -0.010     0.003\n",
      "===============================================================================\n"
     ]
    }
   ],
   "source": [
    "# Create data frame of predictors\n",
    "nfldata['Interaction'] = nfldata[\"YardLine\"]*nfldata[\"IsPass\"]\n",
    "X = nfldata[[\"YardLine\",\"IsPass\",\"Interaction\"]]\n",
    "print(X[0:5])\n",
    "\n",
    "# Create logistic regression object\n",
    "logitm = sk.LogisticRegression(C = 100000000000000000)\n",
    "logitm.fit (X, nfldata[\"IsTouchdown\"])\n",
    "\n",
    "# The coefficients\n",
    "print('Estimated beta1: \\n', logitm.coef_)\n",
    "print('Estimated beta0: \\n', logitm.intercept_)\n",
    "\n",
    "nfldata['Intercept'] = 1.0\n",
    "logit_sm = sm.Logit(nfldata['IsTouchdown'], nfldata[[\"Intercept\",\"YardLine\",\"IsPass\",\"Interaction\"]])\n",
    "fit_sm = logit_sm.fit()\n",
    "print(fit_sm.summary())"
   ]
  },
  {
   "cell_type": "code",
   "execution_count": 51,
   "metadata": {
    "collapsed": false
   },
   "outputs": [
    {
     "data": {
      "image/png": "[encoded data removed]",
      "text/plain": [
       "<matplotlib.figure.Figure at 0x117313be0>"
      ]
     },
     "metadata": {},
     "output_type": "display_data"
    }
   ],
   "source": [
    "x = np.linspace(0, 100, 100)\n",
    "x = polynomial_basis (x, 1)\n",
    "x0 = np.insert(x,1,0,axis=1)\n",
    "x0 = np.insert(x0,1,0,axis=1)\n",
    "x1 = np.insert(x,1,1,axis=1)\n",
    "x1 = np.insert(x1,2,x.flatten(),axis=1)\n",
    "\n",
    "# Plot outputs\n",
    "plt.scatter(nfldata[\"YardLine\"],nfldata[\"IsTouchdown\"],  color='black')\n",
    "plt.plot(x, logitm.predict_proba(x0)[:,1],  color='red' , lw=3)\n",
    "plt.plot(x, logitm.predict_proba(x1)[:,1],  color='blue' , lw=3)\n",
    "plt.xlabel (\"Yard Line\")\n",
    "plt.ylabel(\"A Touchdown was Scored\")\n",
    "plt.xlim(0,100)\n",
    "plt.show()\n"
   ]
  },
  {
   "cell_type": "markdown",
   "metadata": {
    "slideshow": {
     "slide_type": "-"
    }
   },
   "source": [
    "## Regularization in Logistic Regression"
   ]
  },
  {
   "cell_type": "code",
   "execution_count": 57,
   "metadata": {
    "collapsed": false
   },
   "outputs": [
    {
     "data": {
      "image/png": "[encoded data removed]",
      "text/plain": [
       "<matplotlib.figure.Figure at 0x119061cc0>"
      ]
     },
     "metadata": {},
     "output_type": "display_data"
    }
   ],
   "source": [
    "beta1_l1 = []\n",
    "beta1_l2 = []\n",
    "Cs = []\n",
    "X = polynomial_basis (nfldata_sm[\"YardLine\"], 1)\n",
    "\n",
    "for i in range(1, 500):\n",
    "    C = i/10\n",
    "    logitm_l1 = sk.LogisticRegression(C = C, penalty = \"l1\")\n",
    "    logitm_l1.fit (X, nfldata_sm[\"IsTouchdown\"])\n",
    "    logitm_l2 = sk.LogisticRegression(C = C, penalty = \"l2\")\n",
    "    logitm_l2.fit (X, nfldata_sm[\"IsTouchdown\"])\n",
    "    beta1_l1.append(logitm_l1.coef_[0])\n",
    "    beta1_l2.append(logitm_l2.coef_[0])\n",
    "    Cs.append(C)\n",
    "\n",
    "plt.plot(Cs, beta1_l1,  color='black', lw=3)\n",
    "plt.plot(Cs, beta1_l2,  color='blue', lw=3)\n",
    "plt.xlabel (\"C\")\n",
    "plt.ylabel(\"beta1\")\n",
    "plt.ylim(0,0.08)\n",
    "plt.show()\n"
   ]
  },
  {
   "cell_type": "markdown",
   "metadata": {},
   "source": [
    "## Logistic Regression for $Y$ with more than 2 Categories"
   ]
  },
  {
   "cell_type": "markdown",
   "metadata": {},
   "source": [
    "There are several extensions to standard logistic regression when the response variable $Y$ has more than 2 categories.  The two most common are ordinal logistic regression and multinomial logistic regression.  Ordinal logistic regression is used when the categories have a specific hierarchy (like class year: Freshman, Sophomore, Junior, Senior; or a 7-point rating scale from strongly disagree to strongly agree).  Multinomial logistic regression is used when the categories have no inherent order (like eye color: blue, green, brown, hazel, et...)."
   ]
  },
  {
   "cell_type": "code",
   "execution_count": 62,
   "metadata": {
    "collapsed": false
   },
   "outputs": [
    {
     "name": "stdout",
     "output_type": "stream",
     "text": [
      "Estimated beta1: \n",
      " [[-0.01460736]\n",
      " [ 0.00635893]\n",
      " [ 0.00652455]]\n",
      "Estimated beta0: \n",
      " [-0.26422696 -0.61186328 -1.20051275]\n"
     ]
    }
   ],
   "source": [
    "\n",
    "X = polynomial_basis (nfldata[\"YardLine\"], 1)\n",
    "\n",
    "nfldata[\"PlayType\"]=nfldata[\"IsPass\"]+2*nfldata[\"IsRush\"]\n",
    "\n",
    "logitm = sk.LogisticRegression(C = 10000000)\n",
    "logitm.fit (X, nfldata[\"PlayType\"])\n",
    "\n",
    "# The coefficients\n",
    "print('Estimated beta1: \\n', logitm.coef_)\n",
    "print('Estimated beta0: \\n', logitm.intercept_)\n"
   ]
  },
  {
   "cell_type": "code",
   "execution_count": null,
   "metadata": {
    "collapsed": true
   },
   "outputs": [],
   "source": []
  }
 ],
 "metadata": {
  "anaconda-cloud": {},
  "celltoolbar": "Slideshow",
  "kernelspec": {
   "display_name": "Python [Root]",
   "language": "python",
   "name": "Python [Root]"
  },
  "language_info": {
   "codemirror_mode": {
    "name": "ipython",
    "version": 2
   },
   "file_extension": ".py",
   "mimetype": "text/x-python",
   "name": "python",
   "nbconvert_exporter": "python",
   "pygments_lexer": "ipython2",
   "version": "2.7.12"
  }
 },
 "nbformat": 4,
 "nbformat_minor": 0
}
