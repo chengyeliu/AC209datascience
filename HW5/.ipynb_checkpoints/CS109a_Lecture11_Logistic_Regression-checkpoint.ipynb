{
 "cells": [
  {
   "cell_type": "markdown",
   "metadata": {
    "slideshow": {
     "slide_type": "slide"
    }
   },
   "source": [
    "# Classification"
   ]
  },
  {
   "cell_type": "markdown",
   "metadata": {
    "slideshow": {
     "slide_type": "slide"
    }
   },
   "source": [
    "## The Classification Problem"
   ]
  },
  {
   "cell_type": "markdown",
   "metadata": {
    "slideshow": {
     "slide_type": "fragment"
    }
   },
   "source": [
    "Given a dataset $\\{(\\boldsymbol{x}_1,y_1),(\\boldsymbol{x}_2,y_2),\\cdots, (\\boldsymbol{x}_N,y_N)\\}$, where the $y$ are categorical (sometimes refered to as $\\textit{qualitative}$), we would like to be able to predict which category $y$ takes on given $x$.  Linear regression does not work well, or is not appropriate at all, in this setting.  A categorical variable $y$ could be enocded to be quantitative.  For example, if $Y$ represents concentration of Harvard undergrads, then $y$ could take on the values:\n",
    "\n",
    "$$ y = \\left \\{ \\begin{array}{ll}\n",
    "1 &  if \\text{ Computer Science (CS)} \\\\\n",
    "2 &  if \\text{ Statistics} \\\\\n",
    "3 &  \\text{otherwise} \\end{array}. \\right. $$\n",
    "\n",
    "A linear regression could be used to predict $y$ from $\\boldsymbol{x}$.  What would be wrong with such a model?  The model would imply a specific ordering of the outcome, and would treat a one-unit change in y equivalent.  The jump from $y=1$ to $y=2$ (CS to Statistics) should not be interpreted as the same as a jump from $y=2$ to $y=3$ (Statistics to everyone else).  Similarly, the response variable could be reordered such that $y=1$ represents Statistics and $y=2$ represents CS, and then the model estimates and predictions would be fundamentally different.  If the categorical response variable was $\\textit{ordinal}$ (had a natural ordering...like class year, Freshman, Sophomore, etc...), then a linear regression model would make some sense but is still not ideal.\n",
    "\n",
    "The simplest form of classification is when the response variable $Y$ has only two categories, and then an ordering of the categories is natural.  For example, an upperclassmen Harvard student could be categorized as (note, the $y=0$ category is a \"catch-all\" so it would involve both River House students and those who live in other situations: off campus, etc...):\n",
    "\n",
    "$$ y = \\left \\{ \\begin{array}{ll}\n",
    "1 &  if \\text{ lives in the Quad} \\\\\n",
    "0 &  \\text{otherwise} \\end{array}. \\right. $$\n",
    "\n",
    "Linear regression could be used to predict $y$ directly from a set of covariates (like sex, whether an athlete or not, concentration, GPA, etc...), and if $\\hat{y}\\geq0.5$, we could predict the student lives in the Quad and predict other houses if $\\hat{y}<0.5$.\n",
    "\n",
    "What could go wrong with this linear regression model?  The main issue is you could get non-sensical values for $\\hat{y}$.  Since this is modeling $P(y=1)$, values for $\\hat{y}$ below 0 and above 1 would be at odds with the natural measure for $y$, and linear regression can lead to this issue.\n",
    "\n"
   ]
  },
  {
   "cell_type": "markdown",
   "metadata": {
    "slideshow": {
     "slide_type": "slide"
    }
   },
   "source": [
    "# Logistic Regression "
   ]
  },
  {
   "cell_type": "markdown",
   "metadata": {
    "slideshow": {
     "slide_type": "slide"
    }
   },
   "source": [
    "## Logistic Regression Basics"
   ]
  },
  {
   "cell_type": "markdown",
   "metadata": {
    "slideshow": {
     "slide_type": "fragment"
    }
   },
   "source": [
    "\n",
    "Logistic Regression addresses the problem of estimating a probability, $P(y=1)$, to be outside the range of $[0,1]$. The logistic regression model uses a function, called the $\\textit{logistic}$ function, to model $P(Y=1)$:\n",
    "$$ P(Y=1) = \\frac{e^{\\beta_0+\\beta_1 X}}{1+e^{\\beta_0+\\beta_1 X}}.$$\n",
    "As a result the model will predict $P(Y=1)$ with an $S$-shaped curve, as seen below, which is the general shape of the logistic function.  $\\beta_0$ shifts the curve right or left and $\\beta_1$ controls how steep the S-shaped curve is.  Note: if $\\beta_1$ is positive, then the pedicted $ P(Y=1)$ goes from zero for small values of $X$ to one for large values of $X$ and if $\\beta_1$ is negative, then $ P(Y=1)$ goes from one for small values of $X$ to zero for large values of $X$.\n",
    "\n",
    "With a little bit of algebraic work, the logistic model can be rewritten as:\n",
    "$$ \\ln\\left(\\frac{P(Y=1)}{1-P(Y=1)}\\right) = \\beta_0+\\beta_1 X.$$\n",
    "The value inside the natural log function, $P(Y=1)/(1-P(Y=1))$, is called the $\\textit{odds}$, thus logistic regression is said to model the $\\textit{log-odds}$ with a linear function of the predictors or features, $X$.  This gives us the natural interpretation of the estimates similar to linear regression: a one unit change in $X$ is associated with a $\\beta_1$ change in the log-odds of $Y=1$; or better yet, a one unit change in $X$ is associated with an $e^\\beta_1$ change in the odds that $Y=1$.  \n",
    "\n",
    "Below are four different logistic models with different values for $\\beta_0$ and $\\beta_1$: $\\beta_0 = 0, \\beta_1 = 1$ is in black, $\\beta_0 = 2, \\beta_1 = 1$ is in red, $\\beta_0 = 0, \\beta_1 = 3$ is in blue, and $\\beta_0 = 0, \\beta_1 = -1$ is in green."
   ]
  },
  {
   "cell_type": "code",
   "execution_count": 62,
   "metadata": {
    "collapsed": false
   },
   "outputs": [
    {
     "data": {
      "image/png": "[encoded data removed]",
      "text/plain": [
       "<matplotlib.figure.Figure at 0x11757bcc0>"
      ]
     },
     "metadata": {},
     "output_type": "display_data"
    }
   ],
   "source": [
    "%matplotlib inline\n",
    "import sys\n",
    "import numpy as np\n",
    "import pylab as pl\n",
    "import pandas as pd\n",
    "import statsmodels.api as sm\n",
    "import matplotlib.pyplot as plt\n",
    "import matplotlib\n",
    "\n",
    "x = np.linspace(-5, 5, 100)\n",
    "y1 = np.exp(0+1*x)/(1+np.exp(0+1*x))\n",
    "y2 = np.exp(2+1*x)/(1+np.exp(2+1*x))\n",
    "y3 = np.exp(0+3*x)/(1+np.exp(0+3*x))\n",
    "y4 = np.exp(0-1*x)/(1+np.exp(0-1*x))\n",
    "\n",
    "\n",
    "plt.plot(x,y1,color='black')\n",
    "plt.plot(x,y2,color='red')\n",
    "plt.plot(x,y3,color='blue')\n",
    "plt.plot(x,y4,color='green')\n",
    "\n",
    "plt.show()"
   ]
  },
  {
   "cell_type": "code",
   "execution_count": 63,
   "metadata": {
    "collapsed": false,
    "scrolled": true,
    "slideshow": {
     "slide_type": "slide"
    }
   },
   "outputs": [
    {
     "name": "stdout",
     "output_type": "stream",
     "text": [
      "           GameId  GameDate  Quarter  Minute  Second OffenseTeam DefenseTeam  \\\n",
      "17303  2015100411   10/4/15        2      13      57         MIN         DEN   \n",
      "4825   2015122701  12/27/15        1       5      19         MIA         IND   \n",
      "45216  2015122704  12/27/15        1      11      33          KC         CLE   \n",
      "28439  2015110804   11/8/15        4      10      35         BUF         MIA   \n",
      "\n",
      "       Down  ToGo  YardLine      ...       IsTwoPointConversion  \\\n",
      "17303     2    10        48      ...                          0   \n",
      "4825      1    10        69      ...                          0   \n",
      "45216     1    10        62      ...                          0   \n",
      "28439     1    10        64      ...                          0   \n",
      "\n",
      "       IsTwoPointConversionSuccessful  RushDirection  YardLineFixed  \\\n",
      "17303                               0     LEFT GUARD             48   \n",
      "4825                                0            NaN             31   \n",
      "45216                               0       LEFT END             38   \n",
      "28439                               0            NaN             36   \n",
      "\n",
      "      YardLineDirection  IsPenaltyAccepted  PenaltyTeam  IsNoPlay  \\\n",
      "17303               OWN                  0          NaN         0   \n",
      "4825                OPP                  0          NaN         0   \n",
      "45216               OPP                  0          NaN         0   \n",
      "28439               OPP                  1          BUF         1   \n",
      "\n",
      "       PenaltyType  PenaltyYards  \n",
      "17303          NaN             0  \n",
      "4825           NaN             0  \n",
      "45216          NaN             0  \n",
      "28439  FALSE START             5  \n",
      "\n",
      "[4 rows x 45 columns]\n"
     ]
    }
   ],
   "source": [
    "\n",
    "\n",
    "\n",
    "\n",
    "#read the NFL play-by-play data\n",
    "nfldata = pd.read_csv(\"NFLplaybyplay-2015.csv\")\n",
    "\n",
    "# shuffle the data\n",
    "nfldata = nfldata.reindex(np.random.permutation(nfldata.index))\n",
    "\n",
    "# For simplicity, we will select only 500 points form the dataset.\n",
    "N = 500\n",
    "nfldata_sm = nfldata.sample(N)\n",
    "print(nfldata_sm[1:5])\n",
    "\n",
    "\n",
    "\n",
    "\n"
   ]
  },
  {
   "cell_type": "markdown",
   "metadata": {
    "slideshow": {
     "slide_type": "slide"
    }
   },
   "source": [
    "## Estimation in Logistic Regression "
   ]
  },
  {
   "cell_type": "markdown",
   "metadata": {
    "slideshow": {
     "slide_type": "fragment"
    }
   },
   "source": [
    "In order to estimate the logistic regression parameters, $\\beta_0$ and $\\beta_1$, from real data, the method of maximum likelihood is used.  The method of maximum likelihood attempts to choose the best values for the parameters which optimizes (maximizes) the joint pdf for the data based on some distributional assumption.  Here, the assumption is that the data, $Y$, are being generated from a Bernoulli distribution with parameter dependent on $\\beta_0$ and $\\beta_1$, specifically:\n",
    "\n",
    "Since the observations can be reasonably assumed to be independent, these individual observations contribute to the overall joint PMB by multiplying together.  This PMF is then viewed from the perspective that $\\beta_0$ and $\\beta_1$ are unknown, and thus the best choices for them are those that maximize this likelihood function."
   ]
  },
  {
   "cell_type": "code",
   "execution_count": 87,
   "metadata": {
    "collapsed": false
   },
   "outputs": [
    {
     "name": "stdout",
     "output_type": "stream",
     "text": [
      "Estimated beta1: \n",
      " [[ 0.07234665]]\n",
      "Estimated beta0: \n",
      " [-8.10135283]\n"
     ]
    },
    {
     "data": {
      "image/png": "[encoded data removed]",
      "text/plain": [
       "<matplotlib.figure.Figure at 0x11ee5afd0>"
      ]
     },
     "metadata": {},
     "output_type": "display_data"
    }
   ],
   "source": [
    "\n",
    "# The following function creates the polynomial design matrix.\n",
    "def polynomial_basis (x, degree):\n",
    "    p = np.arange (1, degree + 1)\n",
    "    return x[:, np.newaxis] ** p\n",
    "\n",
    "# We create the design matrix of a polynomial of 1 degree.\n",
    "X = polynomial_basis (nfldata_sm[\"YardLine\"], 1)\n",
    "# print(X[0:5])\n",
    "\n",
    "plt.scatter(nfldata_sm[\"YardLine\"],nfldata_sm[\"IsTouchdown\"],  color='black')\n",
    "plt.xlabel (\"Yard Line\")\n",
    "plt.ylabel(\"A Touchdown was Scored\")\n",
    "#plt.show()\n",
    "\n",
    "# Create linear regression object\n",
    "lm = sk.LinearRegression()\n",
    "lm.fit (X, nfldata_sm[\"IsTouchdown\"])\n",
    "\n",
    "# The coefficients\n",
    "#print('Coefficients: \\n', lm.coef_)\n",
    "\n",
    "# Create logistic regression object\n",
    "logitm = sk.LogisticRegression(C = 1000000)\n",
    "logitm.fit (X, nfldata_sm[\"IsTouchdown\"])\n",
    "\n",
    "# The coefficients\n",
    "print('Estimated beta1: \\n', logitm.coef_)\n",
    "print('Estimated beta0: \\n', logitm.intercept_)"
   ]
  },
  {
   "cell_type": "code",
   "execution_count": 85,
   "metadata": {
    "collapsed": false
   },
   "outputs": [
    {
     "data": {
      "image/png": "[encoded data removed]",
      "text/plain": [
       "<matplotlib.figure.Figure at 0x11d669710>"
      ]
     },
     "metadata": {},
     "output_type": "display_data"
    }
   ],
   "source": [
    "\n",
    "# Plot outputs\n",
    "plt.scatter(nfldata_sm[\"YardLine\"],nfldata_sm[\"IsTouchdown\"],  color='black')\n",
    "plt.xlim(0,300)\n",
    "plt.plot(X, lm.predict(X), color='blue',lw=3)\n",
    "x = np.linspace(0, 300, 100)\n",
    "x = polynomial_basis (x, 1)\n",
    "#plt.plot(x, logitm.predict_proba(x),  color='red' , lw=3)\n",
    "plt.plot(x, logitm.predict_proba(x)[:,1],  color='red' , lw=3)\n",
    "plt.xlabel (\"Yard Line\")\n",
    "plt.ylabel(\"A Touchdown was Scored\")\n",
    "\n",
    "plt.show()\n"
   ]
  },
  {
   "cell_type": "code",
   "execution_count": 80,
   "metadata": {
    "collapsed": false
   },
   "outputs": [
    {
     "name": "stdout",
     "output_type": "stream",
     "text": [
      "Estimated beta1: \n",
      " [[ 3.13593754]]\n",
      "Estimated beta0: \n",
      " [-5.68016099]\n",
      "0.003401360544217687\n",
      "0.07281553398058252\n"
     ]
    }
   ],
   "source": [
    "X2 = polynomial_basis (nfldata_sm[\"IsPass\"], 1)\n",
    "logitm.fit (X2,nfldata_sm[\"IsTouchdown\"])\n",
    "\n",
    "# The coefficients\n",
    "print('Estimated beta1: \\n', logitm.coef_)\n",
    "print('Estimated beta0: \\n', logitm.intercept_)\n",
    "\n",
    "Y=nfldata_sm[\"IsTouchdown\"]\n",
    "#passes=nfldata[\"IsPass\"0]==0\n",
    "print(np.mean(Y[nfldata[\"IsPass\"]==0]))\n",
    "print(np.mean(Y[nfldata[\"IsPass\"]==1]))\n"
   ]
  }
 ],
 "metadata": {
  "anaconda-cloud": {},
  "celltoolbar": "Slideshow",
  "kernelspec": {
   "display_name": "Python [Root]",
   "language": "python",
   "name": "Python [Root]"
  },
  "language_info": {
   "codemirror_mode": {
    "name": "ipython",
    "version": 2
   },
   "file_extension": ".py",
   "mimetype": "text/x-python",
   "name": "python",
   "nbconvert_exporter": "python",
   "pygments_lexer": "ipython2",
   "version": "2.7.12"
  }
 },
 "nbformat": 4,
 "nbformat_minor": 0
}
