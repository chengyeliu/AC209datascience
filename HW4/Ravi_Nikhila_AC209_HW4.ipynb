{
 "cells": [
  {
   "cell_type": "markdown",
   "metadata": {},
   "source": [
    "# CS 109A/AC 209A/STAT 121A Data Science: Homework 4\n",
    "**Harvard University**<br>\n",
    "**Fall 2016**<br>\n",
    "**Instructors: W. Pan, P. Protopapas, K. Rader**<br>\n",
    "**Due Date: ** Wednesday, October 5th, 2016 at 11:59pm"
   ]
  },
  {
   "cell_type": "markdown",
   "metadata": {},
   "source": [
    "Download the `IPython` notebook as well as the data file from Vocareum and complete locally.\n",
    "\n",
    "To submit your assignment, in Vocareum, upload (using the 'Upload' button on your Jupyter Dashboard) your solution to Vocareum as a single notebook with following file name format:\n",
    "\n",
    "`last_first_CourseNumber_HW4.ipynb`\n",
    "\n",
    "where `CourseNumber` is the course in which you're enrolled (CS 109a, Stats 121a, AC 209a). Submit your assignment in Vocareum using the 'Submit' button.\n",
    "\n",
    "**Avoid editing your file in Vocareum after uploading. If you need to make a change in a solution. Delete your old solution file from Vocareum and upload a new solution. Click submit only ONCE after verifying that you have uploaded the correct file. The assignment will CLOSE after you click the submit button.**\n",
    "\n",
    "Problems on homework assignments are equally weighted. The Challenge Question is required for AC 209A students and optional for all others. Student who complete the Challenge Problem as optional extra credit will receive +0.5% towards your final grade for each correct solution. "
   ]
  },
  {
   "cell_type": "markdown",
   "metadata": {},
   "source": [
    "Import libraries"
   ]
  },
  {
   "cell_type": "code",
   "execution_count": 118,
   "metadata": {
    "collapsed": false
   },
   "outputs": [],
   "source": [
    "import numpy as np\n",
    "import pandas as pd\n",
    "from sklearn.linear_model import LinearRegression as Lin_Reg\n",
    "from sklearn.linear_model import Ridge as Ridge_Reg\n",
    "from sklearn.linear_model import Lasso as Lasso_Reg\n",
    "from sklearn.cross_validation import KFold\n",
    "from sklearn.decomposition import PCA\n",
    "import statsmodels.regression.linear_model as sm\n",
    "from statsmodels.regression.linear_model import OLS\n",
    "import sklearn.preprocessing as Preprocessing\n",
    "import itertools as it\n",
    "import matplotlib\n",
    "import matplotlib.pyplot as plt\n",
    "import matplotlib.cm as cmx\n",
    "import matplotlib.colors as colors\n",
    "import scipy as sp\n",
    "from itertools import combinations\n",
    "%matplotlib inline"
   ]
  },
  {
   "cell_type": "markdown",
   "metadata": {},
   "source": [
    "## Problem 0: Basic Information\n",
    "\n",
    "Fill in your basic information. \n",
    "\n",
    "### Part (a): Your name"
   ]
  },
  {
   "cell_type": "markdown",
   "metadata": {},
   "source": [
    "[Ravi, Nikhila]"
   ]
  },
  {
   "cell_type": "markdown",
   "metadata": {},
   "source": [
    "### Part (b): Course Number"
   ]
  },
  {
   "cell_type": "markdown",
   "metadata": {},
   "source": [
    "[ AC 209a]"
   ]
  },
  {
   "cell_type": "markdown",
   "metadata": {},
   "source": [
    "### Part (c): Who did you work with?"
   ]
  },
  {
   "cell_type": "markdown",
   "metadata": {},
   "source": [
    "Niloy Biswas\n",
    "\n",
    "Danielle Rosenburg\n"
   ]
  },
  {
   "cell_type": "markdown",
   "metadata": {},
   "source": [
    "**All data sets can be found in the ``datasets`` folder and are in comma separated value (CSV) format**"
   ]
  },
  {
   "cell_type": "markdown",
   "metadata": {},
   "source": [
    "## Problem 1: Variable selection and regularization\n",
    "\n",
    "The data set for this problem is provided in ``dataset_1.txt`` and contains 10 predictors and a response variable.\n",
    "\n",
    "### Part (a): Analyze correlation among predictors\n",
    "- By visually inspecting the data set, do find that some of the predictors are correlated amongst themselves?\n",
    "\n",
    "\n",
    "- Compute the cofficient of correlation between each pair of predictors, and visualize the matrix of correlation coefficients using a heat map. Do the predictors fall naturally into groups based on the correlation values?\n",
    "\n",
    "\n",
    "- If you were asked to select a minimal subset of predictors based on the correlation information in order to build a good regression model, how many predictors will you pick, and which ones will you choose? "
   ]
  },
  {
   "cell_type": "code",
   "execution_count": 2,
   "metadata": {
    "collapsed": false
   },
   "outputs": [
    {
     "data": {
      "text/html": [
       "<div>\n",
       "<table border=\"1\" class=\"dataframe\">\n",
       "  <thead>\n",
       "    <tr style=\"text-align: right;\">\n",
       "      <th></th>\n",
       "      <th>0</th>\n",
       "      <th>1</th>\n",
       "      <th>2</th>\n",
       "      <th>3</th>\n",
       "      <th>4</th>\n",
       "      <th>5</th>\n",
       "      <th>6</th>\n",
       "      <th>7</th>\n",
       "      <th>8</th>\n",
       "      <th>9</th>\n",
       "      <th>10</th>\n",
       "    </tr>\n",
       "  </thead>\n",
       "  <tbody>\n",
       "    <tr>\n",
       "      <th>0</th>\n",
       "      <td>0.959357</td>\n",
       "      <td>0.959357</td>\n",
       "      <td>0.959357</td>\n",
       "      <td>0.343727</td>\n",
       "      <td>0.524083</td>\n",
       "      <td>0.537768</td>\n",
       "      <td>0.435598</td>\n",
       "      <td>0.831999</td>\n",
       "      <td>0.153247</td>\n",
       "      <td>0.005016</td>\n",
       "      <td>0.289394</td>\n",
       "    </tr>\n",
       "    <tr>\n",
       "      <th>1</th>\n",
       "      <td>0.616969</td>\n",
       "      <td>0.616969</td>\n",
       "      <td>0.616969</td>\n",
       "      <td>0.287376</td>\n",
       "      <td>0.513844</td>\n",
       "      <td>0.497775</td>\n",
       "      <td>0.452732</td>\n",
       "      <td>0.914609</td>\n",
       "      <td>0.367390</td>\n",
       "      <td>0.444473</td>\n",
       "      <td>-0.277574</td>\n",
       "    </tr>\n",
       "    <tr>\n",
       "      <th>2</th>\n",
       "      <td>0.995941</td>\n",
       "      <td>0.995941</td>\n",
       "      <td>0.995941</td>\n",
       "      <td>0.107294</td>\n",
       "      <td>0.097106</td>\n",
       "      <td>0.146751</td>\n",
       "      <td>0.136414</td>\n",
       "      <td>0.635926</td>\n",
       "      <td>0.535209</td>\n",
       "      <td>0.899457</td>\n",
       "      <td>-0.513097</td>\n",
       "    </tr>\n",
       "    <tr>\n",
       "      <th>3</th>\n",
       "      <td>0.821732</td>\n",
       "      <td>0.821732</td>\n",
       "      <td>0.821732</td>\n",
       "      <td>0.202558</td>\n",
       "      <td>0.329504</td>\n",
       "      <td>0.359471</td>\n",
       "      <td>0.281453</td>\n",
       "      <td>0.106263</td>\n",
       "      <td>0.479327</td>\n",
       "      <td>0.256271</td>\n",
       "      <td>-0.182353</td>\n",
       "    </tr>\n",
       "    <tr>\n",
       "      <th>4</th>\n",
       "      <td>0.302423</td>\n",
       "      <td>0.302423</td>\n",
       "      <td>0.302423</td>\n",
       "      <td>0.184564</td>\n",
       "      <td>0.270263</td>\n",
       "      <td>0.293385</td>\n",
       "      <td>0.263866</td>\n",
       "      <td>0.378630</td>\n",
       "      <td>0.740241</td>\n",
       "      <td>0.468589</td>\n",
       "      <td>-0.625117</td>\n",
       "    </tr>\n",
       "  </tbody>\n",
       "</table>\n",
       "</div>"
      ],
      "text/plain": [
       "         0         1         2         3         4         5         6   \\\n",
       "0  0.959357  0.959357  0.959357  0.343727  0.524083  0.537768  0.435598   \n",
       "1  0.616969  0.616969  0.616969  0.287376  0.513844  0.497775  0.452732   \n",
       "2  0.995941  0.995941  0.995941  0.107294  0.097106  0.146751  0.136414   \n",
       "3  0.821732  0.821732  0.821732  0.202558  0.329504  0.359471  0.281453   \n",
       "4  0.302423  0.302423  0.302423  0.184564  0.270263  0.293385  0.263866   \n",
       "\n",
       "         7         8         9         10  \n",
       "0  0.831999  0.153247  0.005016  0.289394  \n",
       "1  0.914609  0.367390  0.444473 -0.277574  \n",
       "2  0.635926  0.535209  0.899457 -0.513097  \n",
       "3  0.106263  0.479327  0.256271 -0.182353  \n",
       "4  0.378630  0.740241  0.468589 -0.625117  "
      ]
     },
     "execution_count": 2,
     "metadata": {},
     "output_type": "execute_result"
    }
   ],
   "source": [
    "# Load data\n",
    "data = np.loadtxt('datasets/dataset_1.txt', delimiter=',', skiprows=1)\n",
    "\n",
    "# Split predictors and response\n",
    "x = data[:, :-1]\n",
    "y = data[:, -1]\n",
    "\n",
    "df = pd.DataFrame(data)\n",
    "df.head()"
   ]
  },
  {
   "cell_type": "code",
   "execution_count": 3,
   "metadata": {
    "collapsed": false
   },
   "outputs": [
    {
     "data": {
      "image/png": "[encoded data removed]",
      "text/plain": [
       "<matplotlib.figure.Figure at 0x1177a4690>"
      ]
     },
     "metadata": {},
     "output_type": "display_data"
    }
   ],
   "source": [
    "# Compute matrix of correlation coefficients\n",
    "# each row of X needs to be a predictor so transpose X\n",
    "corr_matrix = np.corrcoef(x.T)\n",
    "\n",
    "# Display heat map \n",
    "fig, ax = plt.subplots(1, 1, figsize=(6, 6))\n",
    "\n",
    "ax.pcolor(corr_matrix)\n",
    "\n",
    "ax.set_title('Heatmap of correlation matrix')\n",
    "\n",
    "plt.show()"
   ]
  },
  {
   "cell_type": "markdown",
   "metadata": {},
   "source": [
    "**By visually inspecting the data set, do find that some of the predictors are correlated amongst themselves?**\n",
    "It is difficult to say from inspection of the data if the predictors are correlated but pairs of predictors can be compared - the values for predictors 0, 1 and 2 are very simiilar so it is likely that these predictors are correlated. Predictors 3, 4, 5 and 6 also have similar values so may be correlated as well. \n",
    "\n",
    "**Do the predictors fall naturally into groups based on the correlation values?**\n",
    "There are regions of red in the heat map which correspond to predictors which are correlated with each other. 0, 1 and 2 are strongly correlated, and 3, 4, 5 and 6 are also strongly correlated.  As the predictors within these groups are correlated amongst themselves, only one from each group is necessary in the predictor selection. \n",
    "\n",
    "**If you were asked to select a minimal subset of predictors based on the correlation information in order to build a good regression model, how many predictors will you pick, and which ones will you choose?**\n",
    "From the groups of correlated predictors, only one is necessary, so one predictor out of 0,1,2 and one predictor from the set 3, 4,5,6. The remaining predictors 7,8,9 are not correlated so would all need to be included, resulting in a set of 5 predictors. "
   ]
  },
  {
   "cell_type": "markdown",
   "metadata": {},
   "source": [
    "### Part (b): Selecting minimal subset of predictors\n",
    "\n",
    "- Apply the variable selection methods discussed in class to choose a minimal subset of predictors that yield high prediction accuracy:\n",
    "    \n",
    "    - Exhaustive search\n",
    "    \n",
    "    - Step-wise forward selection **or** Step-wise backward selection  \n",
    "\n",
    "&emsp;&nbsp;&nbsp; In each method, use the Bayesian Information Criterion (BIC) to choose the subset size.\n",
    "\n",
    "- Do the chosen subsets match the ones you picked using the correlation matrix you had visualized in Part (a)?\n",
    "\n",
    "**Note**: You may use the `statsmodels`'s `OLS` module to fit a linear regression model and evaluate BIC. You may **not** use library functions that implement variable selection."
   ]
  },
  {
   "cell_type": "code",
   "execution_count": 120,
   "metadata": {
    "collapsed": false
   },
   "outputs": [
    {
     "name": "stdout",
     "output_type": "stream",
     "text": [
      "Best subset by exhaustive search:\n",
      "[0, 1, 2, 3, 7, 9]\n"
     ]
    }
   ],
   "source": [
    "### Best Subset Selection\n",
    "min_bic = 1e10 # set some initial large value for min BIC score\n",
    "best_subset = [] # best subset of predictors\n",
    "\n",
    "# Create all possible subsets of the set of 10 predictors\n",
    "predictor_set = set(range(10)) # predictor set = {0, 1, 2, 3, 4, 5, 6, 7, 8, 9}\n",
    "\n",
    "# Repeat for every possible size of subset\n",
    "for size_k in range(10): \n",
    "    # Create all possible subsets of size 'size', \n",
    "    # using the 'combination' function from the 'itertools' library\n",
    "    subsets_of_size_k = it.combinations(predictor_set, size_k + 1) \n",
    "    \n",
    "    max_r_squared = -1e10 # set some initial small value for max R^2 score\n",
    "    best_k_subset = [] # best subset of predictors of size k\n",
    "    \n",
    "    # Iterate over all subsets of our predictor set\n",
    "    for predictor_subset in subsets_of_size_k:    \n",
    "        # Use only a subset of predictors in the training data\n",
    "        x_subset = x[:, predictor_subset]\n",
    "#         x_subset = sm.add_constant(x_subset)\n",
    "        # Fit and evaluate R^2\n",
    "        model = OLS(y, x_subset)\n",
    "        results = model.fit()\n",
    "        r_squared = results.rsquared\n",
    "        \n",
    "        # Update max R^2 and best predictor subset of size k\n",
    "        # If current predictor subset has a higher R^2 score than that of the best subset \n",
    "        # we've found so far, remember the current predictor subset as the best!\n",
    "        if(r_squared > max_r_squared): \n",
    "            max_r_squared = r_squared\n",
    "            best_k_subset = predictor_subset[:]\n",
    "                \n",
    "\n",
    "    # Use only the best subset of size k for the predictors\n",
    "    x_subset = x[:, best_k_subset]\n",
    "        \n",
    "    # Fit and evaluate BIC of the best subset of size k\n",
    "    model = OLS(y, x_subset)\n",
    "    results = model.fit()\n",
    "    bic = results.bic\n",
    "    \n",
    "    # Update minimum BIC and best predictor subset\n",
    "    # If current predictor has a lower BIC score than that of the best subset \n",
    "    # we've found so far, remember the current predictor as the best!\n",
    "    if(bic < min_bic): \n",
    "        min_bic = bic\n",
    "        best_subset = best_k_subset[:]\n",
    "    \n",
    "print('Best subset by exhaustive search:')\n",
    "print sorted(best_subset)"
   ]
  },
  {
   "cell_type": "code",
   "execution_count": 5,
   "metadata": {
    "collapsed": false
   },
   "outputs": [
    {
     "name": "stdout",
     "output_type": "stream",
     "text": [
      "Step-wise forward subset selection:\n",
      "[0, 5, 7, 8, 9]\n"
     ]
    }
   ],
   "source": [
    "### Step-wise Forward Selection\n",
    "d = x.shape[1] # total no. of predictors\n",
    "\n",
    "# Keep track of current set of chosen predictors, and the remaining set of predictors\n",
    "current_predictors = [] \n",
    "remaining_predictors = range(d)\n",
    "\n",
    "# Set some initial large value for min BIC score for all possible subsets\n",
    "global_min_bic = 1e10 \n",
    "\n",
    "# Keep track of the best subset of predictors\n",
    "best_subset = [] \n",
    "\n",
    "# Iterate over all possible subset sizes, 0 predictors to d predictors\n",
    "for size in range(d):    \n",
    "    max_r_squared = -1e10 # set some initial small value for max R^2\n",
    "    best_predictor = -1 # set some throwaway initial number for the best predictor to add\n",
    "    bic_with_best_predictor = 1e10 # set some initial large value for BIC score   \n",
    "        \n",
    "    # Iterate over all remaining predictors to find best predictor to add\n",
    "    for i in remaining_predictors:\n",
    "        # Make copy of current set of predictors\n",
    "        temp = current_predictors[:]\n",
    "        # Add predictor 'i'\n",
    "        temp.append(i)\n",
    "                                    \n",
    "        # Use only a subset of predictors in the training data\n",
    "        x_subset = x[:, temp]\n",
    "        \n",
    "        # Fit and evaluate R^2\n",
    "        model = OLS(y, x_subset)\n",
    "        results = model.fit()\n",
    "        r_squared = results.rsquared\n",
    "        \n",
    "        # Check if we get a higher R^2 value than than current max R^2, if so, update\n",
    "        if(r_squared > max_r_squared):\n",
    "            max_r_squared = r_squared\n",
    "            best_predictor = i\n",
    "            bic_with_best_predictor = results.bic\n",
    "    \n",
    "    # Remove best predictor from remaining list, and add best predictor to current list\n",
    "    remaining_predictors.remove(best_predictor)\n",
    "    current_predictors.append(best_predictor)\n",
    "    \n",
    "    # Check if BIC for with the predictor we just added is lower than \n",
    "    # the global minimum across all subset of predictors\n",
    "    if(bic_with_best_predictor < global_min_bic):\n",
    "        best_subset = current_predictors[:]\n",
    "        global_min_bic = bic_with_best_predictor\n",
    "    \n",
    "print 'Step-wise forward subset selection:'\n",
    "print sorted(best_subset) # add 1 as indices start from 0"
   ]
  },
  {
   "cell_type": "code",
   "execution_count": 6,
   "metadata": {
    "collapsed": false
   },
   "outputs": [
    {
     "name": "stdout",
     "output_type": "stream",
     "text": [
      "Step-wise backward subset selection:\n",
      "[2, 5, 7, 8, 9]\n"
     ]
    }
   ],
   "source": [
    "##  Step-wise Backward Selection\n",
    "d = x.shape[1] # total no. of predictors\n",
    "\n",
    "# Keep track of current set of chosen predictors\n",
    "current_predictors = range(d)\n",
    "\n",
    "# First, fit and evaluate BIC using all 'd' number of predictors\n",
    "model = OLS(y, x)\n",
    "results = model.fit()\n",
    "bic_all = results.bic\n",
    "\n",
    "# Set the minimum BIC score, initially, to the BIC score using all 'd' predictors\n",
    "global_min_bic = bic_all\n",
    "# Keep track of the best subset of predictors\n",
    "best_subset = [] \n",
    "\n",
    "# Iterate over all possible subset sizes, d predictors to 1 predictor\n",
    "for size in range(d - 1, 1, -1): # stop before 0 to avoid choosing an empty set of predictors\n",
    "    max_r_squared = -1e10 # set some initial small value for max R^2\n",
    "    worst_predictor = -1 # set some throwaway initial number for the worst predictor to remove\n",
    "    bic_without_worst_predictor = 1e10 # set some initial large value for min BIC score  \n",
    "        \n",
    "    # Iterate over current set of predictors (for potential elimination)\n",
    "    for i in current_predictors:\n",
    "        # Create copy of current predictors, and remove predictor 'i'\n",
    "        temp = current_predictors[:]\n",
    "        temp.remove(i)\n",
    "                                    \n",
    "        # Use only a subset of predictors in the training data\n",
    "        x_subset = x[:, temp]\n",
    "        \n",
    "        # Fit and evaluate R^2\n",
    "        model = OLS(y, x_subset)\n",
    "        results = model.fit()\n",
    "        r_squared = results.rsquared\n",
    "        \n",
    "        # Check if we get a higher R^2 value than than current max R^2, if so, update\n",
    "        if(r_squared > max_r_squared):\n",
    "            max_r_squared = r_squared\n",
    "            worst_predictor = i\n",
    "            bic_without_worst_predictor = results.bic\n",
    "          \n",
    "    # Remove worst predictor from current set of predictors\n",
    "    current_predictors.remove(worst_predictor)\n",
    "    \n",
    "    # Check if BIC for the predictor we just removed is lower than \n",
    "    # the global minimum across all subset of predictors\n",
    "    # Cannot use R2 to decide between the best subset as the R2 increases with the number of predictors as the flexibility of the model increases. \n",
    "    # Have to use AIC/BIC as they have a term which penalises models with larger number of terms due to the log(k) temrs. \n",
    "\n",
    "    if(bic_without_worst_predictor < global_min_bic):\n",
    "        best_subset = current_predictors[:]\n",
    "        global_min_bic = bic_without_worst_predictor\n",
    "    \n",
    "print 'Step-wise backward subset selection:'\n",
    "print sorted(best_subset)"
   ]
  },
  {
   "cell_type": "markdown",
   "metadata": {},
   "source": [
    "**Do the chosen subsets match the ones you picked using the correlation matrix you had visualized in Part (a)?**\n",
    "\n",
    "Some of the predictors match the ones chosen from Part (a). \n",
    "- Exhaustive: [0, 5, 7, 8, 9]\n",
    "- Forward: [0, 5, 7, 8, 9] \n",
    "- Backward: [2, 5, 7, 8, 9]\n",
    "\n",
    "The three methods return similar results for the predictor subsets with exhaustive search and forward subset selection resulting in subsets with exactly the same predictors and backward selection differing in the choice of predictor 2 instead of 0. In each of the three methods, only one predictor has been chosen from each of the correlated predictor sets {0,1,2}, {3,4,5,6}. All three of the uncorrelated predictors {7,8,9} have been chosen. \n"
   ]
  },
  {
   "cell_type": "markdown",
   "metadata": {},
   "source": [
    "### Part (c): Apply Lasso and Ridge regression\n",
    "\n",
    "- Apply Lasso regression with regularization parameter $\\lambda = 0.01$ and fit a regression model.\n",
    "\n",
    "    - Identify the predictors that are assigned non-zero coefficients. Do these correspond to  the correlation matrix in Part (a)?\n",
    "\n",
    "\n",
    "- Apply Ridge regression with regularization parameter $\\lambda = 0.01$ and fit a regression model.\n",
    "\n",
    "    - Is there a difference between the model parameters you obtain different and those obtained from Lasso regression? If so, explain why.\n",
    "\n",
    "    - Identify the predictors that are assigned non-zero coefficients. Do these correspond to  the correlation matrix in Part (a)?\n",
    "\n",
    "\n",
    "- Is there anything peculiar that you observe about the coefficients Ridge regression assigns to the first three predictors? Do you observe the same with Lasso regression? Give an explanation for your observation.\n",
    "\n",
    "**Note**: You may use the `statsmodels` or `sklearn` to perform Lasso and Ridge regression."
   ]
  },
  {
   "cell_type": "code",
   "execution_count": 7,
   "metadata": {
    "collapsed": false
   },
   "outputs": [
    {
     "name": "stdout",
     "output_type": "stream",
     "text": [
      "Lasso:\n",
      "Coefficients: [ 0.02717417  0.          0.         -0.         -0.02532806 -0.         -0.\n",
      "  0.04397321 -0.40612185 -0.22260474]\n",
      "Predictors with non-zero coefficients: [0, 4, 7, 8, 9]\n"
     ]
    }
   ],
   "source": [
    "# Lasso regression\n",
    "reg = Lasso_Reg(alpha = 0.01)\n",
    "reg.fit(x, y)\n",
    "coefficients = reg.coef_\n",
    "\n",
    "print 'Lasso:'\n",
    "print 'Coefficients:', coefficients\n",
    "print  'Predictors with non-zero coefficients:', [i for i, item in enumerate(coefficients) if abs(item) > 0]"
   ]
  },
  {
   "cell_type": "code",
   "execution_count": 8,
   "metadata": {
    "collapsed": false
   },
   "outputs": [
    {
     "name": "stdout",
     "output_type": "stream",
     "text": [
      "Ridge:\n",
      "Coefficients: [ 0.04353543  0.04353543  0.04353543  0.55217415 -0.19706852 -0.61421737\n",
      "  0.30484213  0.18742866 -0.50083242 -0.35908145]\n",
      "Predictors with non-zero coefficients: [0, 1, 2, 3, 4, 5, 6, 7, 8, 9]\n"
     ]
    }
   ],
   "source": [
    "# Ridge regression: Fit and evaluate \n",
    "reg = Ridge_Reg(alpha = 0.01)\n",
    "reg.fit(x, y)\n",
    "coefficients = reg.coef_\n",
    "\n",
    "print 'Ridge:'\n",
    "print 'Coefficients:', coefficients\n",
    "print 'Predictors with non-zero coefficients:', [i for i, item in enumerate(coefficients) if abs(item) > 0]"
   ]
  },
  {
   "cell_type": "markdown",
   "metadata": {},
   "source": [
    "Lasso Regression\n",
    "- Some of the predictors with non zero coefficients match the predictors chosen from the correlation matrix - 0,7,8,9 are in accordance with the previous choice but the Lasso model also chooses predictor 4 which was not chosen previously. However similar to part (b), only one predictor has been chosen from each of the correlated predictor sets {0,1,2}, {3, 4,5,6} and all three of the remaining uncorrelated predictors {7,8,9} have been chosen. \n",
    "\n",
    "Ridge Regression \n",
    "- All predictors have non zero coefficients as this method does not squash coefficient values to zero like Lasso regression\n",
    "- The parameter values are very different to the values from Lasso regression \n",
    "- Three of the parameters have the same coefficient (0.0435)\n",
    "\n",
    "With Ridge Regression, the coefficients for predictors 0, 1 and 2 are all the same as the predictors are correlated. However for Lasso Regression, predictor 0 has a non-zero coefficient and predictors 1 and 2 have zero coefficient as they are not necessary for the model (as they are correlated with predictor 0). Similarly from the other subset of correlated predictors {3,4,5,6}, predictor 4 has a non-zero coefficient while predictors 3, 5 and 6 have zero coefficient as only one predictor from this subset is required. The remaining three predictors all have non-zero coefficients."
   ]
  },
  {
   "cell_type": "markdown",
   "metadata": {},
   "source": [
    "## Problem 2: Cross-validation and Bootstrapping\n",
    "In this problem, you will work with an expanded version of the automobile pricing data set you analyzed in Homework 3. The data set is contained ``dataset_2.txt``, with 26 attribues (i.e. predictors) for each automobile and corresponding prices. \n",
    "\n",
    "### Part(a): Encode categorical attributes and fill missing values\n",
    "Identify the categorical attributes in the data. Replace their values with the one-hot binary encoding. You may do this using the `get_dummies()` function in `pandas`. If you do this task correctly, you should get a total of 69 predictors after the encoding.\n"
   ]
  },
  {
   "cell_type": "markdown",
   "metadata": {},
   "source": [
    "### Load the data:"
   ]
  },
  {
   "cell_type": "code",
   "execution_count": 122,
   "metadata": {
    "collapsed": false
   },
   "outputs": [
    {
     "data": {
      "text/html": [
       "<div>\n",
       "<table border=\"1\" class=\"dataframe\">\n",
       "  <thead>\n",
       "    <tr style=\"text-align: right;\">\n",
       "      <th></th>\n",
       "      <th>horsepower</th>\n",
       "      <th>highway-mpg</th>\n",
       "      <th>symboling</th>\n",
       "      <th>normalized-losses</th>\n",
       "      <th>make</th>\n",
       "      <th>fuel-type</th>\n",
       "      <th>aspiration</th>\n",
       "      <th>num-of-doors</th>\n",
       "      <th>body-style</th>\n",
       "      <th>drive-wheels</th>\n",
       "      <th>...</th>\n",
       "      <th>engine-type</th>\n",
       "      <th>num-of-cylinders</th>\n",
       "      <th>engine-size</th>\n",
       "      <th>fuel-system</th>\n",
       "      <th>bore</th>\n",
       "      <th>stroke</th>\n",
       "      <th>compression-ratio</th>\n",
       "      <th>peak-rpm</th>\n",
       "      <th>city-mpg</th>\n",
       "      <th>price</th>\n",
       "    </tr>\n",
       "  </thead>\n",
       "  <tbody>\n",
       "    <tr>\n",
       "      <th>0</th>\n",
       "      <td>95.0</td>\n",
       "      <td>24.0</td>\n",
       "      <td>0.0</td>\n",
       "      <td>120.232558</td>\n",
       "      <td>peugot</td>\n",
       "      <td>gas</td>\n",
       "      <td>std</td>\n",
       "      <td>four</td>\n",
       "      <td>wagon</td>\n",
       "      <td>rwd</td>\n",
       "      <td>...</td>\n",
       "      <td>l</td>\n",
       "      <td>four</td>\n",
       "      <td>120.0</td>\n",
       "      <td>mpfi</td>\n",
       "      <td>3.46</td>\n",
       "      <td>2.19</td>\n",
       "      <td>8.4</td>\n",
       "      <td>5000.0</td>\n",
       "      <td>19.0</td>\n",
       "      <td>16695.0</td>\n",
       "    </tr>\n",
       "    <tr>\n",
       "      <th>1</th>\n",
       "      <td>116.0</td>\n",
       "      <td>30.0</td>\n",
       "      <td>2.0</td>\n",
       "      <td>134.000000</td>\n",
       "      <td>toyota</td>\n",
       "      <td>gas</td>\n",
       "      <td>std</td>\n",
       "      <td>two</td>\n",
       "      <td>hardtop</td>\n",
       "      <td>rwd</td>\n",
       "      <td>...</td>\n",
       "      <td>ohc</td>\n",
       "      <td>four</td>\n",
       "      <td>146.0</td>\n",
       "      <td>mpfi</td>\n",
       "      <td>3.62</td>\n",
       "      <td>3.50</td>\n",
       "      <td>9.3</td>\n",
       "      <td>4800.0</td>\n",
       "      <td>24.0</td>\n",
       "      <td>11199.0</td>\n",
       "    </tr>\n",
       "    <tr>\n",
       "      <th>2</th>\n",
       "      <td>121.0</td>\n",
       "      <td>28.0</td>\n",
       "      <td>0.0</td>\n",
       "      <td>188.000000</td>\n",
       "      <td>bmw</td>\n",
       "      <td>gas</td>\n",
       "      <td>std</td>\n",
       "      <td>two</td>\n",
       "      <td>sedan</td>\n",
       "      <td>rwd</td>\n",
       "      <td>...</td>\n",
       "      <td>ohc</td>\n",
       "      <td>six</td>\n",
       "      <td>164.0</td>\n",
       "      <td>mpfi</td>\n",
       "      <td>3.31</td>\n",
       "      <td>3.19</td>\n",
       "      <td>9.0</td>\n",
       "      <td>4250.0</td>\n",
       "      <td>21.0</td>\n",
       "      <td>20970.0</td>\n",
       "    </tr>\n",
       "    <tr>\n",
       "      <th>3</th>\n",
       "      <td>184.0</td>\n",
       "      <td>16.0</td>\n",
       "      <td>0.0</td>\n",
       "      <td>120.232558</td>\n",
       "      <td>mercedes-benz</td>\n",
       "      <td>gas</td>\n",
       "      <td>std</td>\n",
       "      <td>four</td>\n",
       "      <td>sedan</td>\n",
       "      <td>rwd</td>\n",
       "      <td>...</td>\n",
       "      <td>ohcv</td>\n",
       "      <td>eight</td>\n",
       "      <td>308.0</td>\n",
       "      <td>mpfi</td>\n",
       "      <td>3.80</td>\n",
       "      <td>3.35</td>\n",
       "      <td>8.0</td>\n",
       "      <td>4500.0</td>\n",
       "      <td>14.0</td>\n",
       "      <td>40960.0</td>\n",
       "    </tr>\n",
       "    <tr>\n",
       "      <th>4</th>\n",
       "      <td>111.0</td>\n",
       "      <td>29.0</td>\n",
       "      <td>0.0</td>\n",
       "      <td>102.000000</td>\n",
       "      <td>subaru</td>\n",
       "      <td>gas</td>\n",
       "      <td>turbo</td>\n",
       "      <td>four</td>\n",
       "      <td>sedan</td>\n",
       "      <td>4wd</td>\n",
       "      <td>...</td>\n",
       "      <td>ohcf</td>\n",
       "      <td>four</td>\n",
       "      <td>108.0</td>\n",
       "      <td>mpfi</td>\n",
       "      <td>3.62</td>\n",
       "      <td>2.64</td>\n",
       "      <td>7.7</td>\n",
       "      <td>4800.0</td>\n",
       "      <td>24.0</td>\n",
       "      <td>11259.0</td>\n",
       "    </tr>\n",
       "  </tbody>\n",
       "</table>\n",
       "<p>5 rows × 26 columns</p>\n",
       "</div>"
      ],
      "text/plain": [
       "   horsepower  highway-mpg  symboling  normalized-losses           make  \\\n",
       "0        95.0         24.0        0.0         120.232558         peugot   \n",
       "1       116.0         30.0        2.0         134.000000         toyota   \n",
       "2       121.0         28.0        0.0         188.000000            bmw   \n",
       "3       184.0         16.0        0.0         120.232558  mercedes-benz   \n",
       "4       111.0         29.0        0.0         102.000000         subaru   \n",
       "\n",
       "  fuel-type aspiration num-of-doors body-style drive-wheels   ...     \\\n",
       "0       gas        std         four      wagon          rwd   ...      \n",
       "1       gas        std          two    hardtop          rwd   ...      \n",
       "2       gas        std          two      sedan          rwd   ...      \n",
       "3       gas        std         four      sedan          rwd   ...      \n",
       "4       gas      turbo         four      sedan          4wd   ...      \n",
       "\n",
       "  engine-type  num-of-cylinders  engine-size  fuel-system  bore  stroke  \\\n",
       "0           l              four        120.0         mpfi  3.46    2.19   \n",
       "1         ohc              four        146.0         mpfi  3.62    3.50   \n",
       "2         ohc               six        164.0         mpfi  3.31    3.19   \n",
       "3        ohcv             eight        308.0         mpfi  3.80    3.35   \n",
       "4        ohcf              four        108.0         mpfi  3.62    2.64   \n",
       "\n",
       "  compression-ratio peak-rpm  city-mpg    price  \n",
       "0               8.4   5000.0      19.0  16695.0  \n",
       "1               9.3   4800.0      24.0  11199.0  \n",
       "2               9.0   4250.0      21.0  20970.0  \n",
       "3               8.0   4500.0      14.0  40960.0  \n",
       "4               7.7   4800.0      24.0  11259.0  \n",
       "\n",
       "[5 rows x 26 columns]"
      ]
     },
     "execution_count": 122,
     "metadata": {},
     "output_type": "execute_result"
    }
   ],
   "source": [
    "data = pd.read_csv('./datasets/dataset_2.txt')\n",
    "data.head(5)"
   ]
  },
  {
   "cell_type": "code",
   "execution_count": 182,
   "metadata": {
    "collapsed": false
   },
   "outputs": [
    {
     "data": {
      "text/html": [
       "<div>\n",
       "<table border=\"1\" class=\"dataframe\">\n",
       "  <thead>\n",
       "    <tr style=\"text-align: right;\">\n",
       "      <th></th>\n",
       "      <th>horsepower</th>\n",
       "      <th>highway-mpg</th>\n",
       "      <th>-2.0</th>\n",
       "      <th>0.0</th>\n",
       "      <th>1.0</th>\n",
       "      <th>1.09604519774</th>\n",
       "      <th>2.0</th>\n",
       "      <th>3.0</th>\n",
       "      <th>normalized-losses</th>\n",
       "      <th>audi</th>\n",
       "      <th>...</th>\n",
       "      <th>1bbl</th>\n",
       "      <th>2bbl</th>\n",
       "      <th>idi</th>\n",
       "      <th>mpfi</th>\n",
       "      <th>spdi</th>\n",
       "      <th>bore</th>\n",
       "      <th>stroke</th>\n",
       "      <th>compression-ratio</th>\n",
       "      <th>peak-rpm</th>\n",
       "      <th>city-mpg</th>\n",
       "    </tr>\n",
       "  </thead>\n",
       "  <tbody>\n",
       "    <tr>\n",
       "      <th>0</th>\n",
       "      <td>95.0</td>\n",
       "      <td>24.0</td>\n",
       "      <td>0.0</td>\n",
       "      <td>1.0</td>\n",
       "      <td>0.0</td>\n",
       "      <td>0.0</td>\n",
       "      <td>0.0</td>\n",
       "      <td>0.0</td>\n",
       "      <td>120.232558</td>\n",
       "      <td>0.0</td>\n",
       "      <td>...</td>\n",
       "      <td>0.0</td>\n",
       "      <td>0.0</td>\n",
       "      <td>0.0</td>\n",
       "      <td>1.0</td>\n",
       "      <td>0.0</td>\n",
       "      <td>3.46</td>\n",
       "      <td>2.19</td>\n",
       "      <td>8.4</td>\n",
       "      <td>5000.0</td>\n",
       "      <td>19.0</td>\n",
       "    </tr>\n",
       "    <tr>\n",
       "      <th>1</th>\n",
       "      <td>116.0</td>\n",
       "      <td>30.0</td>\n",
       "      <td>0.0</td>\n",
       "      <td>0.0</td>\n",
       "      <td>0.0</td>\n",
       "      <td>0.0</td>\n",
       "      <td>1.0</td>\n",
       "      <td>0.0</td>\n",
       "      <td>134.000000</td>\n",
       "      <td>0.0</td>\n",
       "      <td>...</td>\n",
       "      <td>0.0</td>\n",
       "      <td>0.0</td>\n",
       "      <td>0.0</td>\n",
       "      <td>1.0</td>\n",
       "      <td>0.0</td>\n",
       "      <td>3.62</td>\n",
       "      <td>3.50</td>\n",
       "      <td>9.3</td>\n",
       "      <td>4800.0</td>\n",
       "      <td>24.0</td>\n",
       "    </tr>\n",
       "    <tr>\n",
       "      <th>2</th>\n",
       "      <td>121.0</td>\n",
       "      <td>28.0</td>\n",
       "      <td>0.0</td>\n",
       "      <td>1.0</td>\n",
       "      <td>0.0</td>\n",
       "      <td>0.0</td>\n",
       "      <td>0.0</td>\n",
       "      <td>0.0</td>\n",
       "      <td>188.000000</td>\n",
       "      <td>0.0</td>\n",
       "      <td>...</td>\n",
       "      <td>0.0</td>\n",
       "      <td>0.0</td>\n",
       "      <td>0.0</td>\n",
       "      <td>1.0</td>\n",
       "      <td>0.0</td>\n",
       "      <td>3.31</td>\n",
       "      <td>3.19</td>\n",
       "      <td>9.0</td>\n",
       "      <td>4250.0</td>\n",
       "      <td>21.0</td>\n",
       "    </tr>\n",
       "    <tr>\n",
       "      <th>3</th>\n",
       "      <td>184.0</td>\n",
       "      <td>16.0</td>\n",
       "      <td>0.0</td>\n",
       "      <td>1.0</td>\n",
       "      <td>0.0</td>\n",
       "      <td>0.0</td>\n",
       "      <td>0.0</td>\n",
       "      <td>0.0</td>\n",
       "      <td>120.232558</td>\n",
       "      <td>0.0</td>\n",
       "      <td>...</td>\n",
       "      <td>0.0</td>\n",
       "      <td>0.0</td>\n",
       "      <td>0.0</td>\n",
       "      <td>1.0</td>\n",
       "      <td>0.0</td>\n",
       "      <td>3.80</td>\n",
       "      <td>3.35</td>\n",
       "      <td>8.0</td>\n",
       "      <td>4500.0</td>\n",
       "      <td>14.0</td>\n",
       "    </tr>\n",
       "    <tr>\n",
       "      <th>4</th>\n",
       "      <td>111.0</td>\n",
       "      <td>29.0</td>\n",
       "      <td>0.0</td>\n",
       "      <td>1.0</td>\n",
       "      <td>0.0</td>\n",
       "      <td>0.0</td>\n",
       "      <td>0.0</td>\n",
       "      <td>0.0</td>\n",
       "      <td>102.000000</td>\n",
       "      <td>0.0</td>\n",
       "      <td>...</td>\n",
       "      <td>0.0</td>\n",
       "      <td>0.0</td>\n",
       "      <td>0.0</td>\n",
       "      <td>1.0</td>\n",
       "      <td>0.0</td>\n",
       "      <td>3.62</td>\n",
       "      <td>2.64</td>\n",
       "      <td>7.7</td>\n",
       "      <td>4800.0</td>\n",
       "      <td>24.0</td>\n",
       "    </tr>\n",
       "  </tbody>\n",
       "</table>\n",
       "<p>5 rows × 69 columns</p>\n",
       "</div>"
      ],
      "text/plain": [
       "   horsepower  highway-mpg  -2.0  0.0  1.0  1.09604519774  2.0  3.0  \\\n",
       "0        95.0         24.0   0.0  1.0  0.0            0.0  0.0  0.0   \n",
       "1       116.0         30.0   0.0  0.0  0.0            0.0  1.0  0.0   \n",
       "2       121.0         28.0   0.0  1.0  0.0            0.0  0.0  0.0   \n",
       "3       184.0         16.0   0.0  1.0  0.0            0.0  0.0  0.0   \n",
       "4       111.0         29.0   0.0  1.0  0.0            0.0  0.0  0.0   \n",
       "\n",
       "   normalized-losses  audi    ...     1bbl  2bbl  idi  mpfi  spdi  bore  \\\n",
       "0         120.232558   0.0    ...      0.0   0.0  0.0   1.0   0.0  3.46   \n",
       "1         134.000000   0.0    ...      0.0   0.0  0.0   1.0   0.0  3.62   \n",
       "2         188.000000   0.0    ...      0.0   0.0  0.0   1.0   0.0  3.31   \n",
       "3         120.232558   0.0    ...      0.0   0.0  0.0   1.0   0.0  3.80   \n",
       "4         102.000000   0.0    ...      0.0   0.0  0.0   1.0   0.0  3.62   \n",
       "\n",
       "   stroke  compression-ratio  peak-rpm  city-mpg  \n",
       "0    2.19                8.4    5000.0      19.0  \n",
       "1    3.50                9.3    4800.0      24.0  \n",
       "2    3.19                9.0    4250.0      21.0  \n",
       "3    3.35                8.0    4500.0      14.0  \n",
       "4    2.64                7.7    4800.0      24.0  \n",
       "\n",
       "[5 rows x 69 columns]"
      ]
     },
     "execution_count": 182,
     "metadata": {},
     "output_type": "execute_result"
    }
   ],
   "source": [
    "# extract the x and y values\n",
    "x_df = data.iloc[:, 0:-1]\n",
    "y_df = data.iloc[:,-1]\n",
    "\n",
    "num_predictors = np.shape(x_df)[1]\n",
    "new_df = pd.DataFrame({})\n",
    "\n",
    "# expand the categorical variables\n",
    "for column in x_df.columns:\n",
    "    # check for categorical variables: if number of unique items is less than 8 or data type is an object\n",
    "    if (len(x_df[column].unique()) < 8 or (x_df[column].dtype == np.dtype('object'))):\n",
    "        # apply one-hot encoding to categorical variables\n",
    "        encoded_col = pd.get_dummies(x_df[column])\n",
    "        new_df = pd.concat([new_df, encoded_col], axis=1) \n",
    "    else:\n",
    "        new_df = pd.concat([new_df, x_df[column]], axis=1)\n",
    "        \n",
    "new_df.head()"
   ]
  },
  {
   "cell_type": "markdown",
   "metadata": {},
   "source": [
    "### Part (b): Apply regular linear regression\n",
    "- Split the data set into train and test sets, with the first 25% of the data for training and the remaining for testing.  \n",
    "\n",
    "\n",
    "- Use regular linear regression to fit a model to the training set and evaluate the R^2 score of the fitted model on both the training and test sets. What do you observe about these values?\n",
    "\n",
    "\n",
    "- You had seen in class that the R^2 value of a least-squares fit to a data set would lie between 0 and 1. Is this true for the test R^2 values reported above? If not, give a reason for why this is the case.\n",
    "\n",
    "\n",
    "- Is there a need for regularization while fitting a linear model to this data set?\n",
    "\n",
    "**Note**: You may use the `statsmodels` or `sklearn` to fit a linear regression model and evaluate the fits."
   ]
  },
  {
   "cell_type": "markdown",
   "metadata": {},
   "source": [
    "### Create testing and training sets:"
   ]
  },
  {
   "cell_type": "code",
   "execution_count": 124,
   "metadata": {
    "collapsed": false
   },
   "outputs": [
    {
     "name": "stdout",
     "output_type": "stream",
     "text": [
      "Training data shape:  (51, 69)\n",
      "Testing data shape:  (154, 69)\n"
     ]
    }
   ],
   "source": [
    "# Convert data frame to array\n",
    "x_q2 = new_df.values\n",
    "y_q2 = y_df.values\n",
    "\n",
    "n = np.shape(new_df)[0]\n",
    "n_train = int(np.round(n*0.25))\n",
    "\n",
    "# Take first 25% for training and the rest for testing\n",
    "x_train = x_q2[0:n_train, :]\n",
    "x_test = x_q2[n_train:, :]\n",
    "y_train = y_q2[0:n_train]\n",
    "y_test = y_q2[n_train:]\n",
    "\n",
    "print 'Training data shape: ', x_train.shape\n",
    "print 'Testing data shape: ', x_test.shape"
   ]
  },
  {
   "cell_type": "markdown",
   "metadata": {},
   "source": [
    "### Fit an OLS model to the data:"
   ]
  },
  {
   "cell_type": "code",
   "execution_count": 183,
   "metadata": {
    "collapsed": false
   },
   "outputs": [
    {
     "name": "stdout",
     "output_type": "stream",
     "text": [
      "R2 of linear fit on testing data:  -5.97542556701\n",
      "R2 of linear fit on training data:  1.0\n"
     ]
    }
   ],
   "source": [
    "reg = Lin_Reg()\n",
    "reg.fit(x_train, y_train)\n",
    "\n",
    "# score the model against the test and train sets\n",
    "test_r_squared_plain = reg.score(x_test, y_test)\n",
    "train_r_squared_plain = reg.score(x_train, y_train)\n",
    "\n",
    "print 'R2 of linear fit on testing data: ', test_r_squared_plain\n",
    "print 'R2 of linear fit on training data: ', train_r_squared_plain"
   ]
  },
  {
   "cell_type": "markdown",
   "metadata": {},
   "source": [
    "The $R^2$ value for the test set is negative and the $R^2$ for the training set is exactly 1. The $R^2$ values do not lie between 0 and 1 as expected. \n",
    "\n",
    "The training data has shape (51,69) so there are more predictors than data points. One can easily obtain a model with $R^2$ = 1 when p > n as the model can be made to perfectly fit the data. However such a model does not generalise well to test data sets as can be seen in the $R^2$ value of the model prediction on the test set which is -5.97 indicating a very poor fit. Many of the predictors could be noise features that are not truly associated with the response and the inclusion of these predictors in the model leads to a deterioration in the fit of the model and consequently a decrease in the quality of predictions on the test set. \n",
    "\n",
    "**Is there a need for regularization while fitting a linear model to this data set?**\n",
    "\n",
    "This data set has 69 predictors, and only 205 data points (across test and train). In the training set, the number of predictors is greater than the number of data points so regularisation is necessary in order to reduce the number of parameters in the linear model to prevent overfitting to the training set. Regularisation enables either reduction of the predictor coefficient magnitudes or predictor subset selection which can reduce the complexity of the model. \n",
    "\n",
    "Ridge regression is effective in situations where the number of predictors is of the same order of magnitude as the number of  observations. In this situation least squares estimates have high variance and low bias - i.e. a small change in the training data can cause a large change in the coefficient estimates. However by varying the value of $\\lambda$ in ridge regression, the variance in the estimates can be decreased for a small increase in bias. "
   ]
  },
  {
   "cell_type": "markdown",
   "metadata": {},
   "source": [
    "### Part (c): Apply Ridge regression\n",
    "\n",
    "- Apply Ridge regression on the training set for different values of the regularization parameter $\\lambda$ in the range $\\{10^{-7}, 10^{-6}, \\ldots, 10^7\\}$. Evaluate the R^2 score for the models you obtain on both the train and test sets. Plot both values as a function of $\\lambda$. \n",
    "\n",
    "\n",
    "- Explain the relationship between the regularization parameter and the training and test R^2 scores.\n",
    "\n",
    "\n",
    "- How does the best test R^2 value obtained using Ridge regression compare with that of plain linear regression? Explain.\n",
    "\n",
    "**Note**: You may use the `statsmodels` or `sklearn` to fit a ridge regression model and evaluate the fits."
   ]
  },
  {
   "cell_type": "markdown",
   "metadata": {},
   "source": [
    "### Define helper functions:"
   ]
  },
  {
   "cell_type": "code",
   "execution_count": 129,
   "metadata": {
    "collapsed": false
   },
   "outputs": [],
   "source": [
    "def RidgeReg(x_test, y_test, x_train, y_train, min_el, max_el):\n",
    "    # create a vector of lambda exponents spaced between min and max\n",
    "    ells = np.array(range(min_el, max_el+1))\n",
    "    \n",
    "    num_lambdas = len(ells)\n",
    "    num_datapoints, num_predictors = np.shape(x_train)\n",
    "    \n",
    "    # initialise empty arrays to store r squared values and coefficients\n",
    "    train_r_squared = np.zeros(num_lambdas)\n",
    "    test_r_squared = np.zeros(num_lambdas)\n",
    "    coeff_a =np.zeros((num_lambdas, num_predictors))\n",
    "    test_mse = np.zeros(num_lambdas)\n",
    "    \n",
    "    # iterate through the lambdas\n",
    "    for i, ell in enumerate(ells):\n",
    "        \n",
    "        # fit ridge regression model\n",
    "        reg = Ridge_Reg(alpha=10**ell)\n",
    "        reg.fit(x_train, y_train)\n",
    "        \n",
    "        # calcualte the Mean squared error of predicting on the test set\n",
    "        test_mse[i] = calculateMSE(y_test, reg.predict(x_test)) \n",
    "        \n",
    "        # calculate r2 for testing and training sets\n",
    "        test_r_squared[i] = reg.score(x_test, y_test)\n",
    "        train_r_squared[i] = reg.score(x_train, y_train)\n",
    "        \n",
    "        print 'Lambda = ', 10**ell, '  Test R2 =  ', reg.score(x_test, y_test)\n",
    "        \n",
    "        # save the coefficients for plotting\n",
    "        coeff_a[i,:] = reg.coef_\n",
    "        \n",
    "    return train_r_squared, test_r_squared, coeff_a, ells, test_mse\n",
    "\n",
    "# function to calculate the mean squared error of predicting on the test set after fitting on the training set\n",
    "def calculateMSE(y_test, y_predict):\n",
    "    return np.sum((y_test-y_predict)**2)/float(len(y_test))\n",
    "\n",
    "def PlotR2(lambdas, test_r_squared_plain, train_r_squared, test_r_squared):\n",
    "    # Plot train and test R-squared as a function parameter value\n",
    "    fig, ax = plt.subplots(1, 1, figsize=(12, 12))\n",
    "    \n",
    "    # plain regression R2\n",
    "    ax.axhline(y = test_r_squared_plain, c='g', label = 'Plain Regression')\n",
    "    \n",
    "    # test and train R2\n",
    "    ax.semilogx(10.0**lambdas, (train_r_squared), c='b', label='Ridge: Train')\n",
    "    ax.semilogx(10.0**lambdas, (test_r_squared), c='r', label='Ridge: Test')\n",
    "\n",
    "    # add labels \n",
    "    ax.set_xlabel('Regularization parameter $\\lambda$')\n",
    "    ax.set_ylabel(r'$R^2$ score')\n",
    "    ax.legend(loc = 'best')\n",
    "\n",
    "    print 'Regression: max R^2 score on training set', max(train_r_squared)\n",
    "    print 'Regression: max R^2 score on test set', max(test_r_squared)\n",
    "    plt.show()\n",
    "\n",
    "def PlotCoeff(lambdas, coeff_a, legend=[]):\n",
    "    plt.figure(figsize=(12,12))\n",
    "    \n",
    "    # plot the coefficients \n",
    "    h=plt.semilogx(10**lambdas, coeff_a);\n",
    "    plt.ylabel(\"Standarized Coefficients\")\n",
    "    plt.xlabel(r'Regularization parameter $\\lambda$')\n",
    "    \n",
    "    # add a legend\n",
    "    if len(legend):\n",
    "        plt.legend(h, legend, bbox_to_anchor=(1.05, 1), loc=2, borderaxespad=0.)\n",
    "    plt.grid(True)\n",
    "    plt.show()\n",
    "    "
   ]
  },
  {
   "cell_type": "markdown",
   "metadata": {},
   "source": [
    "### Run ridge regression on the data set for lambda between -7 and 7"
   ]
  },
  {
   "cell_type": "code",
   "execution_count": 130,
   "metadata": {
    "collapsed": false
   },
   "outputs": [
    {
     "name": "stdout",
     "output_type": "stream",
     "text": [
      "Lambda =  1e-07   Test R2 =   -5.89227425901\n",
      "Lambda =  1e-06   Test R2 =   -5.21202360653\n",
      "Lambda =  1e-05   Test R2 =   -1.90773999412\n",
      "Lambda =  0.0001   Test R2 =   0.447401196266\n",
      "Lambda =  0.001   Test R2 =   0.734763670048\n",
      "Lambda =  0.01   Test R2 =   0.854146105564\n",
      "Lambda =  0.1   Test R2 =   0.902097882893\n",
      "Lambda =  1   Test R2 =   0.913535120277\n",
      "Lambda =  10   Test R2 =   0.907227614732\n",
      "Lambda =  100   Test R2 =   0.878508903995\n",
      "Lambda =  1000   Test R2 =   0.8582976111\n",
      "Lambda =  10000   Test R2 =   0.833771806445\n",
      "Lambda =  100000   Test R2 =   0.736549071507\n",
      "Lambda =  1000000   Test R2 =   0.646594109916\n",
      "Lambda =  10000000   Test R2 =   0.447433554266\n"
     ]
    }
   ],
   "source": [
    "train_r_squared, test_r_squared, coeff_a, lambdas, test_mse = RidgeReg(x_test, y_test, x_train, y_train, -7,7) "
   ]
  },
  {
   "cell_type": "markdown",
   "metadata": {},
   "source": [
    "### Plot the $R^2$ for ridge regression on the testing and training set and the $R^2$ on the test set from plain regression:"
   ]
  },
  {
   "cell_type": "code",
   "execution_count": 131,
   "metadata": {
    "collapsed": false
   },
   "outputs": [
    {
     "name": "stdout",
     "output_type": "stream",
     "text": [
      "Regression: max R^2 score on training set 0.999999988576\n",
      "Regression: max R^2 score on test set 0.913535120277\n"
     ]
    },
    {
     "data": {
      "image/png": "[encoded data removed]",
      "text/plain": [
       "<matplotlib.figure.Figure at 0x11c020050>"
      ]
     },
     "metadata": {},
     "output_type": "display_data"
    }
   ],
   "source": [
    "PlotR2(lambdas, test_r_squared_plain, train_r_squared, test_r_squared)"
   ]
  },
  {
   "cell_type": "markdown",
   "metadata": {},
   "source": [
    "**Explain the relationship between the regularization parameter and the training and test R^2 scores.**\n",
    "\n",
    "For very small values of $\\lambda$ the $R^2$ for the test set is highly negative. The $R^2$ value increases sharply from lambda of $10^{-6}$, reaching a peak of 0.91 at $\\lambda =1$. For subsequent values of $\\lambda$, the $R^2$ of the testing and training set match closely and both start decreasing to 0 for $\\lambda$  values greater than $10^4$. \n",
    "As $\\lambda$ increases the flexibility of the ridge regression fit decreases, which leads to decreased variance in the predictions and hence better performance of the model on the test set (for a trade off of a small increase in the bias). For very large vaues of $\\lambda$ the increase in bias results in a decrease in the $R^2$ to zero. \n",
    "\n",
    "**How does the best test R^2 value obtained using Ridge regression compare with that of plain linear regression? Explain.**\n",
    "\n",
    "Best $R^2$ from ridge regression (0.91) is much higher than best $R^2$ from linear regression (-5.97). Ridge regression reduces the coefficients of some predictors so they are dampened in the model. This reduces overfitting to the training set and enables the model to better generalise to the test set. "
   ]
  },
  {
   "cell_type": "markdown",
   "metadata": {},
   "source": [
    "### Part (d): Tune regularization parameter using cross-validation and bootstrapping\n",
    "-  Evaluate the performance of the Ridge regression for different regularization parameters $\\lambda$ using 5-fold cross validation **or** bootstrapping on the training set. \n",
    "\n",
    "    - Plot the cross-validation (CV) or bootstrapping R^2 score as a function of $\\lambda$. \n",
    "    \n",
    "    - How closely does the CV score or bootstrapping score match the R^2 score on the test set? Does the model with lowest CV score or bootstrapping score correspond to the one with maximum R^2 on the test set?\n",
    "    \n",
    "    - Does the model chosen by CV or bootstrapping perform better than plain linear regression?\n",
    "\n",
    "**Note**: You may use the `statsmodels` or `sklearn` to fit a linear regression model and evaluate the fits. You may also use `kFold` from `sklearn.cross_validation`. "
   ]
  },
  {
   "cell_type": "markdown",
   "metadata": {},
   "source": [
    "### Define helper functions:"
   ]
  },
  {
   "cell_type": "code",
   "execution_count": 187,
   "metadata": {
    "collapsed": true
   },
   "outputs": [],
   "source": [
    "def crossValidate(x_train, y_train):\n",
    "    num_points = np.shape(x_train)[0]\n",
    "    \n",
    "    # generate array of lambda values\n",
    "    lambdas = np.array(range(-7, 8))\n",
    "    num_lambdas = len(lambdas)\n",
    "    \n",
    "    # initialise empty arrays for saving r2 values\n",
    "    test_CV_r_squared = np.zeros(num_lambdas)\n",
    "    test_CV_MSE = np.zeros(num_lambdas)\n",
    "\n",
    "    # generate folds \n",
    "    kf = KFold(num_points, n_folds=5, shuffle=True)\n",
    "    \n",
    "    # iterate through the lambda values\n",
    "    for n, l in enumerate(lambdas):\n",
    "        \n",
    "        # initialise empty array to save r2 and mse values from the folds\n",
    "        lambda_test_r2 = np.zeros(5)\n",
    "        lambda_mse = np.zeros(5)\n",
    "        \n",
    "        i=0\n",
    "        \n",
    "        # iterate through the folds\n",
    "        for train_index, test_index in kf:\n",
    "            # split into test and train sets\n",
    "            Xtrain, Xtest = x_train[train_index], x_train[test_index]\n",
    "            Ytrain, Ytest = y_train[train_index], y_train[test_index]\n",
    "            \n",
    "            # fit a ridge regression model for the particular value of lambda\n",
    "            reg = Ridge_Reg(alpha=10**l)\n",
    "            reg.fit(Xtrain, Ytrain)\n",
    "            \n",
    "            # calculate the MSE of predicting on the test set from training on the training set\n",
    "            lambda_mse[i] = calculateMSE(Ytest, reg.predict(Xtest)) \n",
    "            \n",
    "            # calculate r2 for the testing set\n",
    "            lambda_test_r2[i] = reg.score(Xtest, Ytest)\n",
    "            i +=1\n",
    "        \n",
    "        # calculat the average MSE and R2 from all five folds\n",
    "        test_CV_MSE[n] = np.mean(lambda_mse)\n",
    "        test_CV_r_squared[n] = np.mean(lambda_test_r2)\n",
    "        \n",
    "        print 'Lambda = ', 10**l, '   Test R2 = ', np.mean(lambda_test_r2)\n",
    "        \n",
    "    # return an array of MSE and R2 (arrays with one element per lambda value)\n",
    "    return test_CV_MSE, test_CV_r_squared, lambdas"
   ]
  },
  {
   "cell_type": "markdown",
   "metadata": {},
   "source": [
    "### Plot the $R^2$ and mean squared errors"
   ]
  },
  {
   "cell_type": "code",
   "execution_count": 190,
   "metadata": {
    "collapsed": false
   },
   "outputs": [
    {
     "name": "stdout",
     "output_type": "stream",
     "text": [
      "Lambda =  1e-07    Test R2 =  -5.90941184885\n",
      "Lambda =  1e-06    Test R2 =  -5.48239408394\n",
      "Lambda =  1e-05    Test R2 =  -2.83917896341\n",
      "Lambda =  0.0001    Test R2 =  0.0438773357978\n",
      "Lambda =  0.001    Test R2 =  0.14547593835\n",
      "Lambda =  0.01    Test R2 =  0.286327218252\n",
      "Lambda =  0.1    Test R2 =  0.555672285725\n",
      "Lambda =  1    Test R2 =  0.571097992524\n",
      "Lambda =  10    Test R2 =  0.495198635895\n",
      "Lambda =  100    Test R2 =  0.49560772148\n",
      "Lambda =  1000    Test R2 =  0.534708257114\n",
      "Lambda =  10000    Test R2 =  0.541221506452\n",
      "Lambda =  100000    Test R2 =  0.463879726371\n",
      "Lambda =  1000000    Test R2 =  0.474700212414\n",
      "Lambda =  10000000    Test R2 =  0.397073129313\n"
     ]
    },
    {
     "data": {
      "image/png": "[encoded data removed]",
      "text/plain": [
       "<matplotlib.figure.Figure at 0x127331510>"
      ]
     },
     "metadata": {},
     "output_type": "display_data"
    }
   ],
   "source": [
    "# calculate the test MSE and R2 from running cross validation on the training data\n",
    "test_CV_MSE, test_CV_r_squared, lambdas = crossValidate(x_train, y_train)\n",
    "\n",
    "# plot the MSE of predicting on the test set (from cross validation)\n",
    "fig, ax1 = plt.subplots(1, 1, figsize=(12, 12))\n",
    "ax1.semilogx(10.0**lambdas, (test_CV_MSE), c='b', label='MSE Test set')\n",
    "ax1.legend(loc='best')\n",
    "ax1.grid(True)"
   ]
  },
  {
   "cell_type": "code",
   "execution_count": 191,
   "metadata": {
    "collapsed": false
   },
   "outputs": [
    {
     "data": {
      "image/png": "[encoded data removed]",
      "text/plain": [
       "<matplotlib.figure.Figure at 0x1276c3e10>"
      ]
     },
     "metadata": {},
     "output_type": "display_data"
    }
   ],
   "source": [
    "fig, ax1 = plt.subplots(1, 1, figsize=(12, 12))\n",
    "ax1.semilogx(10.0**lambdas, (test_CV_r_squared), c='b', label='CV test r squared')\n",
    "ax1.semilogx(10.0**lambdas, (test_r_squared), c='r', label='Test R2 ')\n",
    "ax1.legend(loc='best')\n",
    "ax1.grid(True)"
   ]
  },
  {
   "cell_type": "markdown",
   "metadata": {},
   "source": [
    "**How closely does the CV score or bootstrapping score match the R^2 score on the test set?**\n",
    "\n",
    "The $R^2$ for the test set from cross validation follows a similar shape to the $R^2$ score on the test set from plain ridge regression. The maximum $R^2$ from cross validation is achieved for $\\lambda = 1$ and from ridge regression prediction on the test set, the maximum value of $R^2$ is also achieved with $\\lambda = 1$. Therefore both CV and plain ridge regression select the same model. \n",
    "\n",
    "**Does the model with lowest CV score or bootstrapping score correspond to the one with maximum R^2 on the test set?**\n",
    "\n",
    "The average of the errors from all $k$ folds can be used as the cross validation score: \n",
    "\n",
    "$$ CV_k = \\frac{1}{k} \\sum_i {\\rm MSE}_i $$\n",
    "\n",
    "The MSE is very low for models with $\\lambda$ greater that $10^-2$ and the $R^2$ from both CV and plain ridge regression is correspondingly high. The lowest MSE is achieved for $\\lambda = 1$ which corresponds to the model selected by the R^2 measure. This is as expected from the expression for $R^2$, as the RSS is n * MSE (where n is the number of data points). \n",
    "\n",
    "**Does the model chosen by CV or bootstrapping perform better than plain linear regression?**\n",
    "\n",
    "With plain linear regression, the $R^2$ score for the test set was highly negative (-5.9). With ridge regression and a lambda of 1, a CV $R^2$ of 0.57 can be achieved and a MSE close zero ($R^2$ of 0.91 on the full test set). Therefore the model chosen by CV performs significantly better than plain linear regression. "
   ]
  },
  {
   "cell_type": "markdown",
   "metadata": {},
   "source": [
    "## Problem 3: Ridge regression *via* ordinary least-squares regression\n",
    "\n",
    "We present an approach to implement Ridge regression using oridinary least-squares regression. Given a matrix of responses $\\mathbf{X} \\in \\mathbb{R}^{n\\times p}$ and response vector $\\mathbf{y} \\in \\mathbb{R}^{n}$, one can implement Ridge regression with regularization parameter $\\lambda$ as follows:\n",
    "\n",
    "- Augment the matrix of predictors $\\mathbf{X}$ with $p$ new rows containing the scaled identity matrix $\\sqrt{\\lambda}\\mathbf{I} \\in \\mathbb{R}^{p \\times p}$, i.e.\n",
    "$$\\overline{\\mathbf{X}} \\,=\\, \n",
    "\\begin{bmatrix}\n",
    "X_{11} & \\ldots & X_{1p}\\\\\n",
    "\\vdots & \\ddots & \\vdots\\\\\n",
    "X_{n1} & \\ldots & X_{np}\\\\\n",
    "\\sqrt{\\lambda} & \\ldots & 0\\\\\n",
    "\\vdots & \\ddots & \\vdots\\\\\n",
    "0 & \\ldots & \\sqrt{\\lambda}\n",
    "\\end{bmatrix}\n",
    "\\,\\in\\,\n",
    "\\mathbb{R}^{(n+p)\\times p}\n",
    ".\n",
    "$$\n",
    "\n",
    "\n",
    "- Augment the response vector $\\mathbf{y}$ with a column of $p$ zeros, i.e.\n",
    "$$\n",
    "\\overline{\\mathbf{y}} \\,=\\, \n",
    "\\begin{bmatrix}\n",
    "y_{1}\\\\\n",
    "\\vdots\\\\\n",
    "y_{n}\\\\\n",
    "0\\\\\n",
    "\\vdots\\\\\n",
    "0\n",
    "\\end{bmatrix}\n",
    "\\,\\in\\,\n",
    "\\mathbb{R}^{n+p}.\n",
    "$$\n",
    "\n",
    "\n",
    "- Apply ordinary least-squares regression on the augmented data set $(\\overline{\\mathbf{X}}, \\overline{\\mathbf{y}})$.\n",
    "\n",
    "### Part (a): Show the proposed approach implements Ridge regression\n",
    "Show that the approach proposed above implements Ridge regression with parameter $\\lambda$."
   ]
  },
  {
   "cell_type": "markdown",
   "metadata": {},
   "source": [
    "\n",
    "The objective function for ridge regression is of the form:\n",
    "\n",
    "$$L_{ridge}(\\beta) = (Y-X\\beta)^T(Y-X\\beta) + \\lambda\\beta^T\\beta $$\n",
    "\n",
    "This gives a normal equations for ridge regression of the form:\n",
    "$$(X^T\\,X + \\lambda I)\\beta =  X^T Y $$\n",
    "\n",
    "so $\\beta$ could be solved using the following matrix inverse:\n",
    "\n",
    "$$\\beta = (X^T\\,X + \\lambda I)^{-1} X^T Y $$\n",
    "\n",
    "Alternatively, X and Y can be augmented so the objective function has the same form as for ordinary least squares. This requires incorporating the $\\lambda\\beta^2$ term into an augmented $\\overline{\\mathbf{X}}$ matrix and $\\overline{\\mathbf{y}}$ vector. The augmentation variables $(\\overline{\\mathbf{X}}, \\overline{\\mathbf{y}})$ should result in an objective function of the following form in order to be solved using ordinary least squares :\n",
    "$$L_{OLS}(\\beta)= (\\overline{\\mathbf{y}} - \\overline{\\mathbf{X}})^T(\\overline{\\mathbf{y}} - \\overline{\\mathbf{X}})$$\n",
    "\n",
    "It is necessary to show that the objective functions are equivalent i.e.\n",
    "$$(Y-X\\beta)^T(Y-X\\beta) + \\lambda\\beta^2  = (\\overline{\\mathbf{y}}-\\overline{\\mathbf{X}}\\beta)^T(\\overline{\\mathbf{y}}-\\overline{\\mathbf{X}}\\beta)$$\n",
    "\n",
    "As $\\lambda >0$ the square root $\\sqrt{\\lambda}$ will be positive so the matrix X (an n×p matrix) can be augemented by appending the p x p matrix  $\\sqrt{\\lambda}I$, and the vector Y can be extended by appending a column of p zeros.\n",
    "\n",
    "The following observations can be made about the augmented $\\overline{\\mathbf{X}}$ matrix and $\\overline{\\mathbf{y}}$ vector:\n",
    "-  $\\overline{\\mathbf{y}}^T\\overline{\\mathbf{y}}=y^Ty$, as the bottom p terms of $\\overline{\\mathbf{y}}$ are all zero.\n",
    "- $\\overline{\\mathbf{y}}^T\\overline{\\mathbf{X}}=y^TX$, as the bottom p terms of $\\overline{\\mathbf{y}}$ are all zero.\n",
    "- $\\overline{\\mathbf{X}}^T\\overline{\\mathbf{X}}=\\Big( X^T \\ \\sqrt{\\lambda}I_p \\Big) \\begin{pmatrix}X \\\\ \\sqrt{\\lambda}I_p\\end{pmatrix} = (X^T X + \\lambda I_p)$\n",
    "\n",
    "Therefore the following can be proved:\n",
    "$$ \n",
    "\\begin{aligned}\n",
    "L_{OLS}({\\beta}) &= (\\overline{\\mathbf{y}}-\\overline{\\mathbf{X}}\\beta)^T(\\overline{\\mathbf{y}} - \\overline{\\mathbf{X}}\\beta) \\\\\n",
    "&= \\overline{\\mathbf{y}}^T\\overline{\\mathbf{y}} -2\\overline{\\mathbf{y}}^T\\overline{\\mathbf{X}} \\beta + \\beta^T \\overline{\\mathbf{X}}^T\\overline{\\mathbf{X}} \\beta \\\\\n",
    "&= y^Ty -2y^TX + \\beta^T (X^T X + \\lambda I_p) \\beta \\\\\n",
    "&= y^Ty -2y^TX + \\beta^T(X^T X)\\beta + \\lambda \\beta^T\\beta \\\\\n",
    "&= (y-X\\beta)^T(y-X\\beta) + \\lambda\\beta^T\\beta \\\\\n",
    "&= L_{RIDGE}(\\beta) \\\\\n",
    "\\end{aligned}\n",
    "$$\n",
    "\n",
    "This proves that both the loss functions are the equivalent so least squares performed with the augmented variables $(\\overline{\\mathbf{X}}, \\overline{\\mathbf{y}})$ is equivalent to ridge regression with X, y and $\\lambda$."
   ]
  },
  {
   "cell_type": "markdown",
   "metadata": {},
   "source": [
    "### Part (b): Debug our implementation of ridge regression\n",
    "You're a grader for CS109A, the following is an implemention of Ridge regression (via the above approach) submitted by a student. The dataset is ``dataset_3.txt``. The regression model is fitted to a training set, and the R^2 scores of the fitted model on the training and test sets are plotted as a function of the regularization parameter. Grade this solution according to the following rubric (each category is equally weighted): \n",
    "\n",
    "- correctness\n",
    "\n",
    "- interpretation (if applicable)\n",
    "\n",
    "- code/algorithm design\n",
    "\n",
    "- presentation\n",
    "\n",
    "In addition to providing an holistic grade (between 0 to 5), provide a corrected version of this code that is submission quality."
   ]
  },
  {
   "cell_type": "code",
   "execution_count": 22,
   "metadata": {
    "collapsed": false
   },
   "outputs": [
    {
     "data": {
      "text/plain": [
       "[<matplotlib.lines.Line2D at 0x11a462510>]"
      ]
     },
     "execution_count": 22,
     "metadata": {},
     "output_type": "execute_result"
    },
    {
     "data": {
      "image/png": "[encoded data removed]",
      "text/plain": [
       "<matplotlib.figure.Figure at 0x11c5e81d0>"
      ]
     },
     "metadata": {},
     "output_type": "display_data"
    }
   ],
   "source": [
    "# Fit\n",
    "def ridge(x_train, y_train, reg_param):\n",
    "    n=np.shape(x_train)[0] # x is an n x p matrix so should be taking the element 1 of the shape\n",
    "    x_train=np.concatenate((x_train,reg_param*np.identity(n)),axis=1) \n",
    "    # need to take the square root of the reg_param and also concatenate along axis 0 not axis 1\n",
    "    y_train_=np.zeros((n+np.shape(x_train)[1],1)) # wrong dimension of x used \n",
    "    for c in range(n):\n",
    "        y_train_[c]= y_train[c]\n",
    "    import sklearn # group all import statements at the top of the code block\n",
    "    model = sklearn.linear_model.LinearRegression()\n",
    "    model.fit(x_train,y_train.reshape(-1,1)) # don't reshape inline and also dimensions of x and y don't match\n",
    "    return model\n",
    "\n",
    "# Score\n",
    "def score(m,x_test,y_test, reg_param):\n",
    "    # same errors as above\n",
    "    n=np.shape(x_train)[0]\n",
    "    x_test=np.concatenate((x_test,reg_param*np.identity(n)),axis=1)\n",
    "    y_test_=np.zeros((n+np.shape(x_test)[1],1))\n",
    "    for c in range(n):\n",
    "        y_test_[c]= y_test[c]\n",
    "    return m.score(x_test,y_test.reshape(-1,1))\n",
    "\n",
    "# Load\n",
    "data = np.loadtxt('datasets/dataset_3.txt', delimiter=',')\n",
    "n = data.shape[0]\n",
    "n = int(np.round(n*0.5))\n",
    "\n",
    "x_train = data[0:n,0:100] # also adding the 100th column?\n",
    "y_train = data[0:n,100] \n",
    "x_test = data[n:2*n,0:100] \n",
    "y_test = data[n:2*n,100]\n",
    "\n",
    "# Params\n",
    "a=np.zeros(5)\n",
    "for i in range(-2,2):\n",
    "    a[i+2]=10**i\n",
    "\n",
    "# Iterate\n",
    "rstr =np.zeros(5)\n",
    "rsts =np.zeros(5)\n",
    "for j in range(0,5):    \n",
    "    m =ridge(x_train,y_train,a[i])\n",
    "    rstr[j]=score(m,x_train,y_train,a[j])\n",
    "    rsts[i]=score(m,x_test,y_test,a[i])\n",
    "\n",
    "# Plot\n",
    "plt.plot(a,rstr)\n",
    "plt.plot(a,rsts)"
   ]
  },
  {
   "cell_type": "markdown",
   "metadata": {},
   "source": [
    "Grading:\n",
    "\n",
    "**Correctness**\n",
    "\n",
    "Several careless errors in the implementation including \n",
    "- forgetting to take the square root of the regression parameter\n",
    "- using the wrong size matrix to append to the X matrix and y vector (using n to mean the number of data points instead of the number of predictors)\n",
    "- reshaping the y vector into the wrong shape\n",
    "- no shuffling of data before splitting into test and train sets\n",
    "\n",
    "**Interpretation (if applicable)**\n",
    "- no interpretation of resulting fit of the model or the plotted result. This indicates a lack of understanding of the method and model. \n",
    "\n",
    "**Code/algorithm design**\n",
    "- importing modules within functions instead of at the top of the scope\n",
    "- inefficient methods such as for loops instead of single line operations such as array concatenation\n",
    "- poor labelling of variables e.g. rstr\n",
    "- insufficient commenting of code\n",
    "- verbose way of extracting elements from an array i.e. data[n:2*n,0:100]  instead of data[n:, 0:-1]\n",
    "\n",
    "**Presentation**\n",
    "- no legend or axes labels on plot\n",
    "- plot not generated on log axes\n",
    "\n",
    "Grade 1/5"
   ]
  },
  {
   "cell_type": "markdown",
   "metadata": {},
   "source": [
    "### Correct Implementation:"
   ]
  },
  {
   "cell_type": "code",
   "execution_count": 76,
   "metadata": {
    "collapsed": false
   },
   "outputs": [
    {
     "data": {
      "text/plain": [
       "<matplotlib.legend.Legend at 0x12508acd0>"
      ]
     },
     "execution_count": 76,
     "metadata": {},
     "output_type": "execute_result"
    },
    {
     "data": {
      "image/png": "[encoded data removed]",
      "text/plain": [
       "<matplotlib.figure.Figure at 0x128197790>"
      ]
     },
     "metadata": {},
     "output_type": "display_data"
    }
   ],
   "source": [
    "from sklearn.linear_model import LinearRegression as Lin_Reg\n",
    "\n",
    "# define helper functions\n",
    "def ridge_reg(x_train, y_train, reg_param):\n",
    "    n,p =np.shape(x_train) # x is an n x p matrix\n",
    "    # append a pxp matrix lambda*I to the X matrix\n",
    "    x_train=np.concatenate((x_train,np.sqrt(10.0**reg_param)*np.identity(p)),axis=0)\n",
    "    # append a column vector of length p to the y vector\n",
    "    y_train=np.concatenate((y_train,np.zeros(p)),axis=0)\n",
    "    model = Lin_Reg()\n",
    "    # what does reshape -1, 1\n",
    "    model.fit(x_train,y_train)\n",
    "    return model\n",
    "\n",
    "def score(m,x_test,y_test, reg_param):\n",
    "    n,p =np.shape(x_train) # x is an n x p matrix\n",
    "    # append a pxp matrix lambda*I to the X matrix\n",
    "    x_test=np.concatenate((x_test,np.sqrt(10.0**reg_param)*np.identity(p)),axis=0)\n",
    "    # append a column vector of length p to the y vector\n",
    "    y_test=np.concatenate((y_test,np.zeros(p)),axis=0)\n",
    "    return m.score(x_test,y_test)\n",
    "\n",
    "# Load the data\n",
    "data = np.loadtxt('datasets/dataset_3.txt', delimiter=',')\n",
    "\n",
    "# extract out x and y\n",
    "x_df = data[:, 0:-1]\n",
    "y_df = data[:, -1]\n",
    "\n",
    "n = data.shape[0]\n",
    "n_train = int(np.round(n*0.5))\n",
    "\n",
    "# shuffle data and split into test and train sets\n",
    "indices = np.random.permutation(range(n))\n",
    "train_indices = indices[0:n_train]\n",
    "test_indices = indices[n_train:]\n",
    "\n",
    "x_train = x_df[train_indices,:]\n",
    "y_train = y_df[train_indices]\n",
    "x_test = x_df[test_indices,:]\n",
    "y_test = y_df[test_indices]\n",
    "\n",
    "# Generate an array of lambda values \n",
    "lambdas=np.linspace(-2,2, 100)\n",
    "num_lambdas = len(lambdas)\n",
    "\n",
    "# Initialise empty arrays for storing r2 values\n",
    "r2_train =np.zeros(num_lambdas)\n",
    "r2_test =np.zeros(num_lambdas)\n",
    "\n",
    "# Iterate over the values of lambda \n",
    "for i in range(num_lambdas): \n",
    "    # fit a ridge regression model on the training set\n",
    "    model = ridge_reg(x_train,y_train,lambdas[i])\n",
    "    # predict on the test \n",
    "    r2_train[i]=score(model, x_train,y_train,lambdas[i])\n",
    "    r2_test[i]=score(model, x_test,y_test, lambdas[i])\n",
    "\n",
    "# Plot the rsquared values as a function of lambda\n",
    "fig, ax = plt.subplots(1, 1, figsize=(12, 12))\n",
    "ax.semilogx(10.0**lambdas, (r2_train), c='b', label='Ridge: Train')\n",
    "ax.semilogx(10.0**lambdas, (r2_test), c='r', label='Ridge: Test')\n",
    "\n",
    "ax.set_xlabel('Regularization parameter $\\lambda$')\n",
    "ax.set_ylabel(r'$R^2$ score')\n",
    "ax.legend(loc = 'best')"
   ]
  },
  {
   "cell_type": "markdown",
   "metadata": {},
   "source": [
    "The $R^2$ values for the training set decrease with increasing $\\lambda$ but the $R^2$ of the test set increase up to a max of approximately 0.8 for $\\lambda$ close to 1. \n",
    "\n",
    "The shape of data is (200, 100), so there are 100 predictors and 200 data points. If the data is split equally into test and train sets, then n = p so it is likley that the model will overfit the training set although the $R^2$ for the test set is still quite high. "
   ]
  },
  {
   "cell_type": "markdown",
   "metadata": {},
   "source": [
    "## Challenge Problem: Predicting Outcome of a Fund-raising Campaign\n",
    "You are provided a data set containing details of mail sent to 95,412 potential donors for a fund-raising campaign of a not-for-profit organization. This data set also contains the amount donated by each donor. The task is to build a model that can estimate the amount that a donor would donate using his/her attributes. The data is contained in the file `dataset_4.txt`. Each row contains 376 attributes for a donor, followed by the donation amount.\n",
    "\n",
    "**Note**: For additional information about the attributes used, please look up the file `dataset_4_description.txt`. This files also contains details of attributes that have been omitted from the data set.\n",
    "\n",
    "### Part (a): Fit regression model\n",
    "Build a suitable model to predict the donation amount. How good is your model? \n",
    "\n",
    "\n",
    "### Part (b): Evaluate the total profit of the fitted model\n",
    "Suppose you are told that the cost of mailing the donor is \\$7. Use your model to maximize profit. Implement, explain and rigorously justify your strategy. How does your strategry compare with blanket mailing everyone.\n",
    "\n",
    "### Part (c): Further Discussion\n",
    "In hindsight, thoroughly discuss the appropriatenes of using a regression model for this dataset (you must at least address the suitability with respect to profit maximization and model assumptions). Rigorously justify your reasoning. "
   ]
  },
  {
   "cell_type": "markdown",
   "metadata": {},
   "source": [
    "### Part (a) Fitting a Regression Model to the dataset. \n",
    "\n",
    "Proposed methodoloy:\n",
    "\n",
    "1. Expand the categorical predictors using one-hot encoding\n",
    "2. Split the data into training and testing sets \n",
    "3. Try OLS and look at the $R^2$ score on test and training sets\n",
    "4. Try Regularisation - Ridge Regression, Lasso Regression with different regularisation parameter values and evaluate $R^2$ values\n",
    "5. Predictor subset reduction - sse forward and backward selection or PCA to reduce predictor set\n",
    "6. Model Assesment using cross validation"
   ]
  },
  {
   "cell_type": "markdown",
   "metadata": {},
   "source": [
    "### Load and encode the data:"
   ]
  },
  {
   "cell_type": "code",
   "execution_count": 194,
   "metadata": {
    "collapsed": false
   },
   "outputs": [],
   "source": [
    "data_q4 = pd.read_csv('datasets/dataset_4.txt', sep=',')"
   ]
  },
  {
   "cell_type": "code",
   "execution_count": 195,
   "metadata": {
    "collapsed": false
   },
   "outputs": [
    {
     "name": "stdout",
     "output_type": "stream",
     "text": [
      "Shape before expansion:  (8928, 376)\n"
     ]
    },
    {
     "data": {
      "text/html": [
       "<div>\n",
       "<table border=\"1\" class=\"dataframe\">\n",
       "  <thead>\n",
       "    <tr style=\"text-align: right;\">\n",
       "      <th></th>\n",
       "      <th>ABC</th>\n",
       "      <th>ABD</th>\n",
       "      <th>ACC</th>\n",
       "      <th>ACG</th>\n",
       "      <th>ACL</th>\n",
       "      <th>ACS</th>\n",
       "      <th>ACT</th>\n",
       "      <th>ADD</th>\n",
       "      <th>ADM</th>\n",
       "      <th>ADR</th>\n",
       "      <th>...</th>\n",
       "      <th>X</th>\n",
       "      <th>C</th>\n",
       "      <th>L</th>\n",
       "      <th>X</th>\n",
       "      <th>CLUSTER2</th>\n",
       "      <th>A</th>\n",
       "      <th>B</th>\n",
       "      <th>C</th>\n",
       "      <th>D</th>\n",
       "      <th>_</th>\n",
       "    </tr>\n",
       "  </thead>\n",
       "  <tbody>\n",
       "    <tr>\n",
       "      <th>0</th>\n",
       "      <td>0.0</td>\n",
       "      <td>0.0</td>\n",
       "      <td>0.0</td>\n",
       "      <td>0.0</td>\n",
       "      <td>0.0</td>\n",
       "      <td>0.0</td>\n",
       "      <td>0.0</td>\n",
       "      <td>0.0</td>\n",
       "      <td>0.0</td>\n",
       "      <td>0.0</td>\n",
       "      <td>...</td>\n",
       "      <td>1.0</td>\n",
       "      <td>0.0</td>\n",
       "      <td>0.0</td>\n",
       "      <td>1.0</td>\n",
       "      <td>3.0</td>\n",
       "      <td>1.0</td>\n",
       "      <td>0.0</td>\n",
       "      <td>0.0</td>\n",
       "      <td>0.0</td>\n",
       "      <td>0.0</td>\n",
       "    </tr>\n",
       "    <tr>\n",
       "      <th>1</th>\n",
       "      <td>0.0</td>\n",
       "      <td>0.0</td>\n",
       "      <td>0.0</td>\n",
       "      <td>0.0</td>\n",
       "      <td>0.0</td>\n",
       "      <td>0.0</td>\n",
       "      <td>0.0</td>\n",
       "      <td>0.0</td>\n",
       "      <td>0.0</td>\n",
       "      <td>0.0</td>\n",
       "      <td>...</td>\n",
       "      <td>1.0</td>\n",
       "      <td>0.0</td>\n",
       "      <td>0.0</td>\n",
       "      <td>1.0</td>\n",
       "      <td>14.0</td>\n",
       "      <td>1.0</td>\n",
       "      <td>0.0</td>\n",
       "      <td>0.0</td>\n",
       "      <td>0.0</td>\n",
       "      <td>0.0</td>\n",
       "    </tr>\n",
       "    <tr>\n",
       "      <th>2</th>\n",
       "      <td>0.0</td>\n",
       "      <td>0.0</td>\n",
       "      <td>0.0</td>\n",
       "      <td>0.0</td>\n",
       "      <td>0.0</td>\n",
       "      <td>0.0</td>\n",
       "      <td>0.0</td>\n",
       "      <td>0.0</td>\n",
       "      <td>0.0</td>\n",
       "      <td>0.0</td>\n",
       "      <td>...</td>\n",
       "      <td>1.0</td>\n",
       "      <td>0.0</td>\n",
       "      <td>0.0</td>\n",
       "      <td>1.0</td>\n",
       "      <td>11.0</td>\n",
       "      <td>0.0</td>\n",
       "      <td>0.0</td>\n",
       "      <td>1.0</td>\n",
       "      <td>0.0</td>\n",
       "      <td>0.0</td>\n",
       "    </tr>\n",
       "    <tr>\n",
       "      <th>3</th>\n",
       "      <td>0.0</td>\n",
       "      <td>0.0</td>\n",
       "      <td>0.0</td>\n",
       "      <td>0.0</td>\n",
       "      <td>0.0</td>\n",
       "      <td>0.0</td>\n",
       "      <td>0.0</td>\n",
       "      <td>0.0</td>\n",
       "      <td>0.0</td>\n",
       "      <td>0.0</td>\n",
       "      <td>...</td>\n",
       "      <td>1.0</td>\n",
       "      <td>0.0</td>\n",
       "      <td>0.0</td>\n",
       "      <td>1.0</td>\n",
       "      <td>2.0</td>\n",
       "      <td>1.0</td>\n",
       "      <td>0.0</td>\n",
       "      <td>0.0</td>\n",
       "      <td>0.0</td>\n",
       "      <td>0.0</td>\n",
       "    </tr>\n",
       "    <tr>\n",
       "      <th>4</th>\n",
       "      <td>0.0</td>\n",
       "      <td>0.0</td>\n",
       "      <td>0.0</td>\n",
       "      <td>0.0</td>\n",
       "      <td>0.0</td>\n",
       "      <td>0.0</td>\n",
       "      <td>0.0</td>\n",
       "      <td>0.0</td>\n",
       "      <td>0.0</td>\n",
       "      <td>0.0</td>\n",
       "      <td>...</td>\n",
       "      <td>1.0</td>\n",
       "      <td>0.0</td>\n",
       "      <td>0.0</td>\n",
       "      <td>1.0</td>\n",
       "      <td>22.0</td>\n",
       "      <td>1.0</td>\n",
       "      <td>0.0</td>\n",
       "      <td>0.0</td>\n",
       "      <td>0.0</td>\n",
       "      <td>0.0</td>\n",
       "    </tr>\n",
       "  </tbody>\n",
       "</table>\n",
       "<p>5 rows × 3160 columns</p>\n",
       "</div>"
      ],
      "text/plain": [
       "   ABC  ABD  ACC  ACG  ACL  ACS  ACT  ADD  ADM  ADR ...     X    C    L    X  \\\n",
       "0  0.0  0.0  0.0  0.0  0.0  0.0  0.0  0.0  0.0  0.0 ...   1.0  0.0  0.0  1.0   \n",
       "1  0.0  0.0  0.0  0.0  0.0  0.0  0.0  0.0  0.0  0.0 ...   1.0  0.0  0.0  1.0   \n",
       "2  0.0  0.0  0.0  0.0  0.0  0.0  0.0  0.0  0.0  0.0 ...   1.0  0.0  0.0  1.0   \n",
       "3  0.0  0.0  0.0  0.0  0.0  0.0  0.0  0.0  0.0  0.0 ...   1.0  0.0  0.0  1.0   \n",
       "4  0.0  0.0  0.0  0.0  0.0  0.0  0.0  0.0  0.0  0.0 ...   1.0  0.0  0.0  1.0   \n",
       "\n",
       "   CLUSTER2    A    B    C    D    _  \n",
       "0       3.0  1.0  0.0  0.0  0.0  0.0  \n",
       "1      14.0  1.0  0.0  0.0  0.0  0.0  \n",
       "2      11.0  0.0  0.0  1.0  0.0  0.0  \n",
       "3       2.0  1.0  0.0  0.0  0.0  0.0  \n",
       "4      22.0  1.0  0.0  0.0  0.0  0.0  \n",
       "\n",
       "[5 rows x 3160 columns]"
      ]
     },
     "execution_count": 195,
     "metadata": {},
     "output_type": "execute_result"
    }
   ],
   "source": [
    "# extract the predictors and the response \n",
    "\n",
    "x_df_q4 = data_q4.iloc[:, 0:-1]\n",
    "y_df_q4 = data_q4.iloc[:,-1]\n",
    "\n",
    "print 'Shape before expansion: ', x_df_q4.shape\n",
    "num_predictors_q4 = np.shape(x_df_q4)[1]\n",
    "data_q4_expanded = pd.DataFrame({})\n",
    "\n",
    "# # only extract the numerical predictors and remove the categorical variables \n",
    "# for column in x_df_q4.columns:\n",
    "#     if ((x_df_q4[column].dtype != np.dtype('object'))):\n",
    "#         data_q4_numerical = pd.concat([data_q4_numerical, x_df_q4[column]], axis=1)\n",
    "\n",
    "for column in x_df_q4.columns:\n",
    "    # check for categorical variables: if number of unique items is less than 20 or data type is an object\n",
    "    if (len(x_df_q4[column].unique()) < 20 or (x_df_q4[column].dtype == np.dtype('object'))):\n",
    "        # apply one-hot encoding\n",
    "        encoded_col = pd.get_dummies(x_df_q4[column])\n",
    "        data_q4_expanded = pd.concat([data_q4_expanded, encoded_col], axis=1) \n",
    "    else:\n",
    "        data_q4_expanded = pd.concat([data_q4_expanded, x_df_q4[column]], axis=1) \n",
    "        \n",
    "data_q4_expanded.head()"
   ]
  },
  {
   "cell_type": "code",
   "execution_count": 196,
   "metadata": {
    "collapsed": false
   },
   "outputs": [],
   "source": [
    "x_q4 = data_q4_expanded.iloc[:, 0:-1].values\n",
    "y_q4 = y_df_q4.values.reshape(len(y_df_q4.values), 1)\n",
    "\n",
    "# ii. SPLIT TRAIN AND TEST SETS\n",
    "# No. of training points\n",
    "n = x_q4.shape[0]\n",
    "n_train = int(np.round(n*0.7))\n",
    "indices = np.random.permutation(range(n))\n",
    "train_indices = indices[0:n_train]\n",
    "test_indices = indices[n_train:]\n",
    "\n",
    "# First 25% train, remaining test \n",
    "# assume data has been randomly shuffled\n",
    "x_q4_train = x_q4[train_indices,:]\n",
    "y_q4_train = y_q4[train_indices]\n",
    "x_q4_test = x_q4[test_indices,:]\n",
    "y_q4_test = y_q4[test_indices]"
   ]
  },
  {
   "cell_type": "markdown",
   "metadata": {},
   "source": [
    "### Fit an Ordinary Least Squares model:"
   ]
  },
  {
   "cell_type": "code",
   "execution_count": 197,
   "metadata": {
    "collapsed": false
   },
   "outputs": [
    {
     "name": "stdout",
     "output_type": "stream",
     "text": [
      "Shape of Training set (6250, 3159)\n",
      "Shape of Testing set (2678, 3159)\n",
      "Plain Regression: R^2 score on training set 0.607703703575\n",
      "Plain Regression: R^2 score on test set -3.71394483198\n"
     ]
    }
   ],
   "source": [
    "reg_q4 = Lin_Reg()\n",
    "reg_q4.fit(x_q4_train, y_q4_train)\n",
    "\n",
    "train_rsquared_q4 = reg_q4.score(x_q4_train, y_q4_train)\n",
    "test_rsquared_q4 = reg_q4.score(x_q4_test, y_q4_test)\n",
    "\n",
    "print 'Shape of Training set', x_q4_train.shape\n",
    "print 'Shape of Testing set', x_q4_test.shape\n",
    "print 'Plain Regression: R^2 score on training set', train_rsquared_q4\n",
    "print 'Plain Regression: R^2 score on test set', test_rsquared_q4"
   ]
  },
  {
   "cell_type": "markdown",
   "metadata": {},
   "source": [
    "Plain OLS performs very poorly on the test data (with a negative $R^2$) as the number of predictors is very large and on the same order of magnitude as the number of data points. On the test set, the number of predictors is larger than the number of samples. The OLS model is likely to be overfitting to the training set as it is too flexible. This indicates that regularisation is necessary in order to fit a better model to the data. "
   ]
  },
  {
   "cell_type": "markdown",
   "metadata": {},
   "source": [
    "### Implement Regularisation: "
   ]
  },
  {
   "cell_type": "code",
   "execution_count": 84,
   "metadata": {
    "collapsed": false
   },
   "outputs": [
    {
     "name": "stdout",
     "output_type": "stream",
     "text": [
      "Ridge Regression: R^2 score on training set 0.534481239407\n",
      "Ridge Regression: R^2 score on test set -0.189511407756\n"
     ]
    }
   ],
   "source": [
    "# perform ridge regression with lambda = 1\n",
    "\n",
    "ridge_reg_q4 = Ridge_Reg(alpha=1.0)\n",
    "ridge_reg_q4.fit(x_q4_train, y_q4_train)\n",
    "train_rsquared_q4 = ridge_reg_q4.score(x_q4_train, y_q4_train)\n",
    "test_rsquared_q4 = ridge_reg_q4.score(x_q4_test, y_q4_test)\n",
    "\n",
    "print 'Ridge Regression: R^2 score on training set', train_rsquared_q4\n",
    "print 'Ridge Regression: R^2 score on test set', test_rsquared_q4"
   ]
  },
  {
   "cell_type": "markdown",
   "metadata": {},
   "source": [
    "Ride regression with a $\\lambda$ value of 1 performs better than OLS but the $R^2$ on the test set is still negative. The next step is to try ridge regresssion with several different values of lambda to find model parameters which optimise the $R^2$."
   ]
  },
  {
   "cell_type": "code",
   "execution_count": 85,
   "metadata": {
    "collapsed": false
   },
   "outputs": [
    {
     "name": "stdout",
     "output_type": "stream",
     "text": [
      "Lambda =  0.01   Test R2 =   -0.759893022765\n",
      "Lambda =  0.1   Test R2 =   -0.517808591423\n",
      "Lambda =  1   Test R2 =   -0.189511407756\n",
      "Lambda =  10   Test R2 =   0.0131946086588\n",
      "Lambda =  100   Test R2 =   0.104722866775\n",
      "Lambda =  1000   Test R2 =   0.129738416847\n",
      "Lambda =  10000   Test R2 =   0.123818605415\n",
      "Lambda =  100000   Test R2 =   0.119778267581\n",
      "Lambda =  1000000   Test R2 =   0.108732421861\n",
      "Lambda =  10000000   Test R2 =   0.0760363335485\n",
      "Lambda =  100000000   Test R2 =   0.0396966210334\n",
      "Lambda =  1000000000   Test R2 =   0.0187631260283\n",
      "Lambda =  10000000000   Test R2 =   0.0134864210986\n",
      "Lambda =  100000000000   Test R2 =   0.0115210591265\n",
      "Lambda =  1000000000000   Test R2 =   0.00638718238411\n",
      "Lambda =  10000000000000   Test R2 =   0.000908993851708\n",
      "Lambda =  100000000000000   Test R2 =   -8.85600494276e-05\n"
     ]
    },
    {
     "data": {
      "text/plain": [
       "<matplotlib.legend.Legend at 0x11c4f48d0>"
      ]
     },
     "execution_count": 85,
     "metadata": {},
     "output_type": "execute_result"
    },
    {
     "data": {
      "image/png": "[encoded data removed]",
      "text/plain": [
       "<matplotlib.figure.Figure at 0x11a4af050>"
      ]
     },
     "metadata": {},
     "output_type": "display_data"
    }
   ],
   "source": [
    "# Try ridge regression with different values of lambda\n",
    "train_r_squared, test_r_squared, coeff_a, lambdas, y_test_predict = RidgeReg(x_q4_test, y_q4_test, x_q4_train, y_q4_train, -2,15) \n",
    "# Plot\n",
    "fig, ax = plt.subplots(1, 1, figsize=(12, 12))\n",
    "ax.semilogx(10.0**lambdas, (train_r_squared), c='b', label='Ridge: Train')\n",
    "ax.semilogx(10.0**lambdas, (test_r_squared), c='r', label='Ridge: Test')\n",
    "\n",
    "ax.set_xlabel('Regularization parameter $\\lambda$')\n",
    "ax.set_ylabel(r'$R^2$ score')\n",
    "ax.legend(loc = 'best')"
   ]
  },
  {
   "cell_type": "markdown",
   "metadata": {},
   "source": [
    "When the parameter $\\lambda$ is varied, the $R^2$ on the test set improves. A maximum $R^2$ of 0.129 is achieved for $\\lambda = 1000$. For values of $\\lambda$ less than 1000, the $R^2$ is negative and for values greater than 1000, the $R^2$ is reduces to 0.  Lasso Regression can be tried with the same value of $\\lambda$ to see if it produces a better model by squashing some predictor coefficients to 0. "
   ]
  },
  {
   "cell_type": "markdown",
   "metadata": {},
   "source": [
    "### Implement Lasso Regression:"
   ]
  },
  {
   "cell_type": "code",
   "execution_count": 193,
   "metadata": {
    "collapsed": false
   },
   "outputs": [
    {
     "name": "stdout",
     "output_type": "stream",
     "text": [
      "Lasso Regression: R^2 score on training set 0.0113508857138\n",
      "Lasso Regression: R^2 score on test set 0.0118362372219\n"
     ]
    }
   ],
   "source": [
    "lasso_reg_q4 = Lasso_Reg(alpha=1000)\n",
    "lasso_reg_q4.fit(x_q4_train, y_q4_train)\n",
    "train_rsquared_q4 = lasso_reg_q4.score(x_q4_train, y_q4_train)\n",
    "test_rsquared_q4 = lasso_reg_q4.score(x_q4_test, y_q4_test)\n",
    "\n",
    "print 'Lasso Regression: R^2 score on training set', train_rsquared_q4\n",
    "print 'Lasso Regression: R^2 score on test set', test_rsquared_q4"
   ]
  },
  {
   "cell_type": "markdown",
   "metadata": {},
   "source": [
    "Lasso Regression with a $\\lambda$ value of 1000 performs worse than ridge regression with the same parameter value. "
   ]
  },
  {
   "cell_type": "code",
   "execution_count": 210,
   "metadata": {
    "collapsed": true
   },
   "outputs": [],
   "source": [
    "def LassoReg(x_test, y_test, x_train, y_train, min_el, max_el):\n",
    "    # create a vector of lambda exponents\n",
    "    ells = np.linspace(min_el, max_el, 100)\n",
    "    num_lambdas = len(ells)\n",
    "    num_predictors = np.shape(x_train)[1]\n",
    "    \n",
    "    # empty arrays to store r2 values and coefficients\n",
    "    train_r_squared = np.zeros(num_lambdas)\n",
    "    test_r_squared = np.zeros(num_lambdas)\n",
    "    coeff_a =np.zeros((num_lambdas, num_predictors))\n",
    "    test_mse = np.zeros(num_lambdas)\n",
    "    for i, ell in enumerate(ells):\n",
    "        # fit ridge regression model\n",
    "        reg = Lasso_Reg(alpha=10**ell)\n",
    "        reg.fit(x_train, y_train)\n",
    "        test_mse[i] = calculateMSE(y_test, reg.predict(x_test))\n",
    "        # calculate r2 for testing and training sets\n",
    "        r2_test = reg.score(x_test, y_test)\n",
    "        r2_train = reg.score(x_train, y_train)\n",
    "        test_r_squared[i] = r2_test\n",
    "        train_r_squared[i] = r2_train\n",
    "        coeff_a[i,:] = reg.coef_\n",
    "        \n",
    "    return train_r_squared, test_r_squared, coeff_a, ells, test_mse\n",
    "        "
   ]
  },
  {
   "cell_type": "code",
   "execution_count": 211,
   "metadata": {
    "collapsed": false
   },
   "outputs": [
    {
     "name": "stderr",
     "output_type": "stream",
     "text": [
      "//anaconda/lib/python2.7/site-packages/sklearn/linear_model/coordinate_descent.py:466: ConvergenceWarning: Objective did not converge. You might want to increase the number of iterations\n",
      "  ConvergenceWarning)\n"
     ]
    },
    {
     "data": {
      "image/png": "[encoded data removed]",
      "text/plain": [
       "<matplotlib.figure.Figure at 0x126fb2e10>"
      ]
     },
     "metadata": {},
     "output_type": "display_data"
    }
   ],
   "source": [
    "# try lasso regression with different values of lambda\n",
    "train_r_squared, test_r_squared, coeff_a, lambdas, test_mse = LassoReg(x_q4_test, y_q4_test, x_q4_train, y_q4_train, -2,15) \n",
    "# Plot\n",
    "fig, ax = plt.subplots(1, 1, figsize=(12, 12))\n",
    "ax.semilogx(10.0**lambdas, (train_r_squared), c='b', label='Lasso: Train')\n",
    "ax.semilogx(10.0**lambdas, (test_r_squared), c='r', label='Lasso: Test')\n",
    "\n",
    "ax.set_xlabel('Regularization parameter $\\lambda$')\n",
    "ax.set_ylabel(r'$R^2$ score')\n",
    "ax.legend(loc = 'best')\n",
    "ax.grid(True)\n"
   ]
  },
  {
   "cell_type": "markdown",
   "metadata": {},
   "source": [
    "Lasso regression does not perform well on this data set, with the highest achievable $R^2$ being 0.07 which is worse than with a ridge regression model. "
   ]
  },
  {
   "cell_type": "markdown",
   "metadata": {},
   "source": [
    "With this high dimensional data set where p is on the same order of magnitude as n, least squares regression is too flexible and hence overfits the data. It is possible to perfectly fit the training set, so the resulting model peforms extremely poorly on the independent test set. Even with regularisation, the highest achievable $R^2$ is 0.129 which still indicates a poor model.  However this is still better than the null model which involves blanket mailing all potential donors. \n",
    "\n",
    "Possible improvements in the prediction could be achieved using dimensionality reduction techniques as this will help to reduces the number of uncessary predictors in the model. "
   ]
  },
  {
   "cell_type": "markdown",
   "metadata": {},
   "source": [
    "### Implement PCA:"
   ]
  },
  {
   "cell_type": "code",
   "execution_count": 104,
   "metadata": {
    "collapsed": false
   },
   "outputs": [
    {
     "name": "stdout",
     "output_type": "stream",
     "text": [
      "[  1.46138246e-02   1.08260253e-02   9.36191220e-03 ...,   3.22093135e-37\n",
      "   1.08711132e-37   2.20126209e-38]\n"
     ]
    }
   ],
   "source": [
    "from sklearn.preprocessing import scale\n",
    "\n",
    "# scale the training data \n",
    "x_q4_train_scaled = scale(x_q4_train)\n",
    "x_q4_test_scaled = scale(x_q4_test)"
   ]
  },
  {
   "cell_type": "code",
   "execution_count": 199,
   "metadata": {
    "collapsed": false
   },
   "outputs": [
    {
     "name": "stdout",
     "output_type": "stream",
     "text": [
      "[  1.46138246e-02   1.08260253e-02   9.36191220e-03 ...,   3.22093135e-37\n",
      "   1.08711132e-37   2.20126209e-38]\n"
     ]
    }
   ],
   "source": [
    "# look at R2 fit of model with different number of PCA components \n",
    "\n",
    "pca = PCA()\n",
    "pca.fit(x_q4_train_scaled)\n",
    "\n",
    "print pca.explained_variance_ratio_\n"
   ]
  },
  {
   "cell_type": "code",
   "execution_count": 205,
   "metadata": {
    "collapsed": false
   },
   "outputs": [
    {
     "name": "stdout",
     "output_type": "stream",
     "text": [
      "Cumulative variance explained by  0  components =  0.014613824609\n",
      "Cumulative variance explained by  100  components =  0.290587925341\n",
      "Cumulative variance explained by  200  components =  0.421576724237\n",
      "Cumulative variance explained by  300  components =  0.510127458252\n",
      "Cumulative variance explained by  400  components =  0.578611245974\n",
      "Cumulative variance explained by  500  components =  0.635135669679\n",
      "Cumulative variance explained by  600  components =  0.683698121698\n",
      "Cumulative variance explained by  700  components =  0.726463421054\n",
      "Cumulative variance explained by  800  components =  0.764764913322\n",
      "Cumulative variance explained by  900  components =  0.799664901209\n",
      "Cumulative variance explained by  1000  components =  0.831792411221\n",
      "Cumulative variance explained by  1100  components =  0.860869913813\n",
      "Cumulative variance explained by  1200  components =  0.886643741905\n",
      "Cumulative variance explained by  1300  components =  0.909126044462\n",
      "Cumulative variance explained by  1400  components =  0.928463471822\n",
      "Cumulative variance explained by  1500  components =  0.944825083863\n",
      "Cumulative variance explained by  1600  components =  0.958422570561\n",
      "Cumulative variance explained by  1700  components =  0.969471817314\n",
      "Cumulative variance explained by  1800  components =  0.978201650816\n",
      "Cumulative variance explained by  1900  components =  0.984900229737\n",
      "Cumulative variance explained by  2000  components =  0.989895941671\n",
      "Cumulative variance explained by  2100  components =  0.993492864252\n",
      "Cumulative variance explained by  2200  components =  0.996021800043\n",
      "Cumulative variance explained by  2300  components =  0.997733549958\n",
      "Cumulative variance explained by  2400  components =  0.99885548095\n",
      "Cumulative variance explained by  2500  components =  0.999550016292\n",
      "Cumulative variance explained by  2600  components =  0.99989762461\n",
      "Cumulative variance explained by  2700  components =  0.999998899203\n",
      "Cumulative variance explained by  2800  components =  1.0\n",
      "Cumulative variance explained by  2900  components =  1.0\n",
      "Cumulative variance explained by  3000  components =  1.0\n",
      "Cumulative variance explained by  3100  components =  1.0\n"
     ]
    }
   ],
   "source": [
    "cumulative_variance = pca.explained_variance_ratio_.cumsum()\n",
    "\n",
    "for i, var in enumerate(cumulative_variance):\n",
    "    if i%100 == 0:\n",
    "        print 'Cumulative variance explained by ', i, ' components = ', var"
   ]
  },
  {
   "cell_type": "markdown",
   "metadata": {},
   "source": [
    "1500 PCA components could be used to explain nearly 95% of the variation in the data. This is half the number of predictors in the original data set. A model using 1500 PCA components could be fit to the data using OLS. "
   ]
  },
  {
   "cell_type": "code",
   "execution_count": 208,
   "metadata": {
    "collapsed": false
   },
   "outputs": [
    {
     "data": {
      "text/plain": [
       "PCA(copy=True, n_components=1500, whiten=False)"
      ]
     },
     "execution_count": 208,
     "metadata": {},
     "output_type": "execute_result"
    }
   ],
   "source": [
    "pca = PCA(n_components = 1500)\n",
    "pca.fit(x_q4_train_scaled)"
   ]
  },
  {
   "cell_type": "code",
   "execution_count": 207,
   "metadata": {
    "collapsed": false
   },
   "outputs": [
    {
     "name": "stdout",
     "output_type": "stream",
     "text": [
      "PCA R2 train =   0.167161828316\n",
      "PCA R2 test =  -0.218218332189\n"
     ]
    }
   ],
   "source": [
    "X_train_pca = pca.transform(x_q4_train_scaled)\n",
    "X_test_pca = pca.transform(x_q4_test_scaled)\n",
    "reg = Lin_Reg()\n",
    "reg.fit(X_train_pca, y_q4_train)\n",
    "r2_pca_test = reg.score(X_test_pca,y_q4_test)\n",
    "r2_pca_train = reg.score(X_train_pca,y_q4_train)\n",
    "\n",
    "print 'PCA R2 train =  ', r2_pca_train\n",
    "print 'PCA R2 test = ', r2_pca_test"
   ]
  },
  {
   "cell_type": "markdown",
   "metadata": {},
   "source": [
    "This shows that with a 1500 component PCA model the $R^2$ performance on the test set is worse than with ridge regression indicating that either the number of components needs to be changed or that PCA is not suitable for this dataset. It was not possible to run PCA with a large range of component numbers due to the size of the dataset.  \n",
    "\n",
    "The best model achieved so far has been with Ridge regression and a $\\lambda$ of 1000 so this will be used for the subsequent analysis. "
   ]
  },
  {
   "cell_type": "markdown",
   "metadata": {},
   "source": [
    "### Part (b): Profit Maximization:"
   ]
  },
  {
   "cell_type": "markdown",
   "metadata": {},
   "source": [
    "The best model achieved so far has been with Ridge regression and a $\\lambda$ of 1000. Although this model only has an $R^2$ of 0.129 it is still better than the null model of blanket mailing all potential donors.  A possible strategy for profit maximisation could be to fit the model on the entire data set to predict the donation amount of all the people on the mailing list.  From this, select all the individuals who are predicted to donate more than $7 and only mail them. The actual donation amounts of these selected individuals can then be used in the calculation of profit. "
   ]
  },
  {
   "cell_type": "code",
   "execution_count": 181,
   "metadata": {
    "collapsed": false
   },
   "outputs": [
    {
     "name": "stdout",
     "output_type": "stream",
     "text": [
      "Subset size =  5396\n",
      "Total number of people on the list =  8928\n",
      "Profit from only mailing people who are predicted to donate more than $7 =  $ 20306.53\n",
      "Profit from mailing a random subset of people (subset size is same as selected subset size) = $ 7454.95\n",
      "Profit from blanket mailing everyone =  $ 13112.7\n"
     ]
    }
   ],
   "source": [
    "# fit a ridge regression model with an alpha of 1000\n",
    "ridge_reg_q4 = Ridge_Reg(alpha=1000)\n",
    "ridge_reg_q4.fit(x_q4_train, y_q4_train)\n",
    "\n",
    "# actual donation amounts\n",
    "donors = y_q4.reshape(len(y_q4))\n",
    "max_num_donors = len(donors)\n",
    "\n",
    "# predicted donation of all the donors\n",
    "y_predict = ridge_reg_q4.predict(x_q4).flatten()\n",
    "\n",
    "# find the indices of the donors who are predicted to donate more than $7\n",
    "selected_donors = [i for i, y in enumerate(y_predict) if y>7]\n",
    "\n",
    "# find the profit by summing the actual contributions from the selected donors and subtracting the cost of mailing them\n",
    "profit_max = sum(donors[selected_donors]) - len(selected_donors)*7\n",
    "\n",
    "# find the profit of selecting a random subset of people of the same siles as the selected subset\n",
    "profit_random_subset = np.sum(np.random.choice(donors, len(selected_donors), replace=False)) - len(selected_donors)*7\n",
    "\n",
    "# find the profit of blanket mailing everyone\n",
    "profit_blanket = sum(donors) - max_num_donors*7\n",
    "\n",
    "print 'Subset size = ', len(selected_donors)\n",
    "print 'Total number of people on the list = ', max_num_donors\n",
    "print 'Profit from only mailing people who are predicted to donate more than $7 =  $',  profit_max\n",
    "print 'Profit from mailing a random subset of people (subset size is same as selected subset size) = $',  profit_random_subset\n",
    "print 'Profit from blanket mailing everyone =  $', profit_blanket\n"
   ]
  },
  {
   "cell_type": "markdown",
   "metadata": {},
   "source": [
    "Applying the proposed ridge regression model to the data set (with a $\\lambda$ of 1000) shows that only 5396 individuals out of the 8928 on the mailing list are predicted to donate more than $7. \n",
    "\n",
    "Comparing the profit from mailing everyone to the selective strategy shows that this method, results in a larger profit as it is more likely that the profit from each individual is positive. With the blanket mailing strategy, some individuals will result in positive profit but a loss will be made on others.  \n",
    "\n",
    "In addition comparing the selective mailing strategy to mailing a random subset of the same size shows that the selectiv strategy results in nearly 3x as much profit. "
   ]
  },
  {
   "cell_type": "markdown",
   "metadata": {},
   "source": [
    "### Part (c): Further Discussion"
   ]
  },
  {
   "cell_type": "markdown",
   "metadata": {},
   "source": [
    "It was not possible to fit a good regression model to this dataset indicating that the response variable does not have a clear relationship with the predictor that can be modelled. In cases where the relationship between the response and the predictors is close to linear, a regression model can be a good fit but it did not apply to this dataset. \n",
    "\n",
    "However, despite only being able to achieve a poor fit, a ridge regression model with $R^2$ of 0.129 proved to be enough to provide significant improvement to the blanket mailing strategy for profit maximisation. Simply being able to generate some prediction of the potential donation amounts of donors enables a selected and targeted mailing strategy which results in nearly double the profitability. \n",
    "\n",
    "Further investigation with this dataset could involve trying classification methods to determine if donors can be clustered into groups based on attributes and targeted in different ways or trying PCA with larger range of components.  "
   ]
  },
  {
   "cell_type": "code",
   "execution_count": null,
   "metadata": {
    "collapsed": true
   },
   "outputs": [],
   "source": []
  }
 ],
 "metadata": {
  "anaconda-cloud": {},
  "kernelspec": {
   "display_name": "Python [Root]",
   "language": "python",
   "name": "Python [Root]"
  },
  "language_info": {
   "codemirror_mode": {
    "name": "ipython",
    "version": 2
   },
   "file_extension": ".py",
   "mimetype": "text/x-python",
   "name": "python",
   "nbconvert_exporter": "python",
   "pygments_lexer": "ipython2",
   "version": "2.7.12"
  }
 },
 "nbformat": 4,
 "nbformat_minor": 0
}
