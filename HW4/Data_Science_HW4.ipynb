{
 "cells": [
  {
   "cell_type": "markdown",
   "metadata": {},
   "source": [
    "# CS 109A/AC 209A/STAT 121A Data Science: Homework 4\n",
    "**Harvard University**<br>\n",
    "**Fall 2016**<br>\n",
    "**Instructors: W. Pan, P. Protopapas, K. Rader**<br>\n",
    "**Due Date: ** Wednesday, October 5th, 2016 at 11:59pm"
   ]
  },
  {
   "cell_type": "markdown",
   "metadata": {},
   "source": [
    "Download the `IPython` notebook as well as the data file from Vocareum and complete locally.\n",
    "\n",
    "To submit your assignment, in Vocareum, upload (using the 'Upload' button on your Jupyter Dashboard) your solution to Vocareum as a single notebook with following file name format:\n",
    "\n",
    "`last_first_CourseNumber_HW4.ipynb`\n",
    "\n",
    "where `CourseNumber` is the course in which you're enrolled (CS 109a, Stats 121a, AC 209a). Submit your assignment in Vocareum using the 'Submit' button.\n",
    "\n",
    "**Avoid editing your file in Vocareum after uploading. If you need to make a change in a solution. Delete your old solution file from Vocareum and upload a new solution. Click submit only ONCE after verifying that you have uploaded the correct file. The assignment will CLOSE after you click the submit button.**\n",
    "\n",
    "Problems on homework assignments are equally weighted. The Challenge Question is required for AC 209A students and optional for all others. Student who complete the Challenge Problem as optional extra credit will receive +0.5% towards your final grade for each correct solution. "
   ]
  },
  {
   "cell_type": "markdown",
   "metadata": {},
   "source": [
    "Import libraries"
   ]
  },
  {
   "cell_type": "code",
   "execution_count": 77,
   "metadata": {
    "collapsed": false
   },
   "outputs": [],
   "source": [
    "import numpy as np\n",
    "import pandas as pd\n",
    "from sklearn.linear_model import LinearRegression as Lin_Reg\n",
    "from sklearn.linear_model import Ridge as Ridge_Reg\n",
    "from sklearn.linear_model import Lasso as Lasso_Reg\n",
    "from sklearn.cross_validation import KFold\n",
    "from statsmodels.regression.linear_model import OLS\n",
    "import sklearn.preprocessing as Preprocessing\n",
    "import itertools as it\n",
    "import matplotlib\n",
    "import matplotlib.pyplot as plt\n",
    "import matplotlib.cm as cmx\n",
    "import matplotlib.colors as colors\n",
    "import scipy as sp\n",
    "from itertools import combinations\n",
    "%matplotlib inline"
   ]
  },
  {
   "cell_type": "markdown",
   "metadata": {},
   "source": [
    "## Problem 0: Basic Information\n",
    "\n",
    "Fill in your basic information. \n",
    "\n",
    "### Part (a): Your name"
   ]
  },
  {
   "cell_type": "markdown",
   "metadata": {},
   "source": [
    "[Ravi, Nikhila]"
   ]
  },
  {
   "cell_type": "markdown",
   "metadata": {},
   "source": [
    "### Part (b): Course Number"
   ]
  },
  {
   "cell_type": "markdown",
   "metadata": {},
   "source": [
    "[ AC 209a]"
   ]
  },
  {
   "cell_type": "markdown",
   "metadata": {},
   "source": [
    "### Part (c): Who did you work with?"
   ]
  },
  {
   "cell_type": "markdown",
   "metadata": {},
   "source": [
    "[First and Land names of students with whom you have collaborated]"
   ]
  },
  {
   "cell_type": "markdown",
   "metadata": {},
   "source": [
    "**All data sets can be found in the ``datasets`` folder and are in comma separated value (CSV) format**"
   ]
  },
  {
   "cell_type": "markdown",
   "metadata": {},
   "source": [
    "## Problem 1: Variable selection and regularization\n",
    "\n",
    "The data set for this problem is provided in ``dataset_1.txt`` and contains 10 predictors and a response variable.\n",
    "\n",
    "### Part (a): Analyze correlation among predictors\n",
    "- By visually inspecting the data set, do find that some of the predictors are correlated amongst themselves?\n",
    "\n",
    "\n",
    "- Compute the cofficient of correlation between each pair of predictors, and visualize the matrix of correlation coefficients using a heat map. Do the predictors fall naturally into groups based on the correlation values?\n",
    "\n",
    "\n",
    "- If you were asked to select a minimal subset of predictors based on the correlation information in order to build a good regression model, how many predictors will you pick, and which ones will you choose? "
   ]
  },
  {
   "cell_type": "code",
   "execution_count": 4,
   "metadata": {
    "collapsed": false
   },
   "outputs": [
    {
     "data": {
      "text/html": [
       "<div>\n",
       "<table border=\"1\" class=\"dataframe\">\n",
       "  <thead>\n",
       "    <tr style=\"text-align: right;\">\n",
       "      <th></th>\n",
       "      <th>0</th>\n",
       "      <th>1</th>\n",
       "      <th>2</th>\n",
       "      <th>3</th>\n",
       "      <th>4</th>\n",
       "      <th>5</th>\n",
       "      <th>6</th>\n",
       "      <th>7</th>\n",
       "      <th>8</th>\n",
       "      <th>9</th>\n",
       "      <th>10</th>\n",
       "    </tr>\n",
       "  </thead>\n",
       "  <tbody>\n",
       "    <tr>\n",
       "      <th>0</th>\n",
       "      <td>0.959357</td>\n",
       "      <td>0.959357</td>\n",
       "      <td>0.959357</td>\n",
       "      <td>0.343727</td>\n",
       "      <td>0.524083</td>\n",
       "      <td>0.537768</td>\n",
       "      <td>0.435598</td>\n",
       "      <td>0.831999</td>\n",
       "      <td>0.153247</td>\n",
       "      <td>0.005016</td>\n",
       "      <td>0.289394</td>\n",
       "    </tr>\n",
       "    <tr>\n",
       "      <th>1</th>\n",
       "      <td>0.616969</td>\n",
       "      <td>0.616969</td>\n",
       "      <td>0.616969</td>\n",
       "      <td>0.287376</td>\n",
       "      <td>0.513844</td>\n",
       "      <td>0.497775</td>\n",
       "      <td>0.452732</td>\n",
       "      <td>0.914609</td>\n",
       "      <td>0.367390</td>\n",
       "      <td>0.444473</td>\n",
       "      <td>-0.277574</td>\n",
       "    </tr>\n",
       "    <tr>\n",
       "      <th>2</th>\n",
       "      <td>0.995941</td>\n",
       "      <td>0.995941</td>\n",
       "      <td>0.995941</td>\n",
       "      <td>0.107294</td>\n",
       "      <td>0.097106</td>\n",
       "      <td>0.146751</td>\n",
       "      <td>0.136414</td>\n",
       "      <td>0.635926</td>\n",
       "      <td>0.535209</td>\n",
       "      <td>0.899457</td>\n",
       "      <td>-0.513097</td>\n",
       "    </tr>\n",
       "    <tr>\n",
       "      <th>3</th>\n",
       "      <td>0.821732</td>\n",
       "      <td>0.821732</td>\n",
       "      <td>0.821732</td>\n",
       "      <td>0.202558</td>\n",
       "      <td>0.329504</td>\n",
       "      <td>0.359471</td>\n",
       "      <td>0.281453</td>\n",
       "      <td>0.106263</td>\n",
       "      <td>0.479327</td>\n",
       "      <td>0.256271</td>\n",
       "      <td>-0.182353</td>\n",
       "    </tr>\n",
       "    <tr>\n",
       "      <th>4</th>\n",
       "      <td>0.302423</td>\n",
       "      <td>0.302423</td>\n",
       "      <td>0.302423</td>\n",
       "      <td>0.184564</td>\n",
       "      <td>0.270263</td>\n",
       "      <td>0.293385</td>\n",
       "      <td>0.263866</td>\n",
       "      <td>0.378630</td>\n",
       "      <td>0.740241</td>\n",
       "      <td>0.468589</td>\n",
       "      <td>-0.625117</td>\n",
       "    </tr>\n",
       "  </tbody>\n",
       "</table>\n",
       "</div>"
      ],
      "text/plain": [
       "         0         1         2         3         4         5         6   \\\n",
       "0  0.959357  0.959357  0.959357  0.343727  0.524083  0.537768  0.435598   \n",
       "1  0.616969  0.616969  0.616969  0.287376  0.513844  0.497775  0.452732   \n",
       "2  0.995941  0.995941  0.995941  0.107294  0.097106  0.146751  0.136414   \n",
       "3  0.821732  0.821732  0.821732  0.202558  0.329504  0.359471  0.281453   \n",
       "4  0.302423  0.302423  0.302423  0.184564  0.270263  0.293385  0.263866   \n",
       "\n",
       "         7         8         9         10  \n",
       "0  0.831999  0.153247  0.005016  0.289394  \n",
       "1  0.914609  0.367390  0.444473 -0.277574  \n",
       "2  0.635926  0.535209  0.899457 -0.513097  \n",
       "3  0.106263  0.479327  0.256271 -0.182353  \n",
       "4  0.378630  0.740241  0.468589 -0.625117  "
      ]
     },
     "execution_count": 4,
     "metadata": {},
     "output_type": "execute_result"
    }
   ],
   "source": [
    "# Load data\n",
    "data = np.loadtxt('datasets/dataset_1.txt', delimiter=',', skiprows=1)\n",
    "\n",
    "# Split predictors and response\n",
    "x = data[:, :-1]\n",
    "y = data[:, -1]\n",
    "\n",
    "df = pd.DataFrame(data)\n",
    "df.head()"
   ]
  },
  {
   "cell_type": "code",
   "execution_count": 5,
   "metadata": {
    "collapsed": false
   },
   "outputs": [
    {
     "data": {
      "image/png": "[encoded data removed]",
      "text/plain": [
       "<matplotlib.figure.Figure at 0x114d33b50>"
      ]
     },
     "metadata": {},
     "output_type": "display_data"
    }
   ],
   "source": [
    "# Compute matrix of correlation coefficients\n",
    "# each row of X needs to be a predictor so transpose X\n",
    "corr_matrix = np.corrcoef(x.T)\n",
    "\n",
    "# Display heat map \n",
    "fig, ax = plt.subplots(1, 1, figsize=(6, 6))\n",
    "\n",
    "ax.pcolor(corr_matrix)\n",
    "\n",
    "ax.set_title('Heatmap of correlation matrix')\n",
    "\n",
    "plt.show()"
   ]
  },
  {
   "cell_type": "markdown",
   "metadata": {},
   "source": [
    "**By visually inspecting the data set, do find that some of the predictors are correlated amongst themselves?**\n",
    "It is difficult to say from inspection of the data if the predictors are correlated but pairs of predictors can be compared - the values for predictors 0, 1 and 2 are very simiilar so it is likely that these predictors are correlated. Predictors 4, 5 and 6 also have similar values so may be correlated as well. \n",
    "\n",
    "**Do the predictors fall naturally into groups based on the correlation values?**\n",
    "There are regions of red in the heat map which correspond to predictors which are correlated with each other. 0, 1 and 2 are strongly correlated, and 4, 5 and 6 are also correlated.  As the predictors within these groups are correlated amongst themselves, only one of them is necessary in the predictor selection. \n",
    "\n",
    "**If you were asked to select a minimal subset of predictors based on the correlation information in order to build a good regression model, how many predictors will you pick, and which ones will you choose?**\n",
    "From the groups of correlated predictors, only one is necessary, so one predictor out of 0,1,2 and one predictor from the set 4,5,6. The remaining predictors 3,7,8,9 are not correlated so would all need to be included, resulting in a set of 6 predictors. "
   ]
  },
  {
   "cell_type": "markdown",
   "metadata": {},
   "source": [
    "### Part (b): Selecting minimal subset of predictors\n",
    "\n",
    "- Apply the variable selection methods discussed in class to choose a minimal subset of predictors that yield high prediction accuracy:\n",
    "    \n",
    "    - Exhaustive search\n",
    "    \n",
    "    - Step-wise forward selection **or** Step-wise backward selection  \n",
    "\n",
    "&emsp;&nbsp;&nbsp; In each method, use the Bayesian Information Criterion (BIC) to choose the subset size.\n",
    "\n",
    "- Do the chosen subsets match the ones you picked using the correlation matrix you had visualized in Part (a)?\n",
    "\n",
    "**Note**: You may use the `statsmodels`'s `OLS` module to fit a linear regression model and evaluate BIC. You may **not** use library functions that implement variable selection."
   ]
  },
  {
   "cell_type": "code",
   "execution_count": 9,
   "metadata": {
    "collapsed": false
   },
   "outputs": [
    {
     "name": "stdout",
     "output_type": "stream",
     "text": [
      "Best subset by exhaustive search:\n",
      "[0, 5, 7, 8, 9]\n"
     ]
    }
   ],
   "source": [
    "### Best Subset Selection\n",
    "min_bic = 1e10 # set some initial large value for min BIC score\n",
    "best_subset = [] # best subset of predictors\n",
    "\n",
    "# Create all possible subsets of the set of 10 predictors\n",
    "predictor_set = set(range(10)) # predictor set = {0, 1, 2, 3, 4, 5, 6, 7, 8, 9}\n",
    "\n",
    "# Repeat for every possible size of subset\n",
    "for size_k in range(10): \n",
    "    # Create all possible subsets of size 'size', \n",
    "    # using the 'combination' function from the 'itertools' library\n",
    "    subsets_of_size_k = it.combinations(predictor_set, size_k + 1) \n",
    "    \n",
    "    max_r_squared = -1e10 # set some initial small value for max R^2 score\n",
    "    best_k_subset = [] # best subset of predictors of size k\n",
    "    \n",
    "    # Iterate over all subsets of our predictor set\n",
    "    for predictor_subset in subsets_of_size_k:    \n",
    "        # Use only a subset of predictors in the training data\n",
    "        x_subset = x[:, predictor_subset]\n",
    "\n",
    "        # Fit and evaluate R^2\n",
    "        model = OLS(y, x_subset)\n",
    "        results = model.fit()\n",
    "        r_squared = results.rsquared\n",
    "        \n",
    "        # Update max R^2 and best predictor subset of size k\n",
    "        # If current predictor subset has a higher R^2 score than that of the best subset \n",
    "        # we've found so far, remember the current predictor subset as the best!\n",
    "        if(r_squared > max_r_squared): \n",
    "            max_r_squared = r_squared\n",
    "            best_k_subset = predictor_subset[:]\n",
    "                \n",
    "\n",
    "    # Use only the best subset of size k for the predictors\n",
    "    x_subset = x[:, best_k_subset]\n",
    "        \n",
    "    # Fit and evaluate BIC of the best subset of size k\n",
    "    model = OLS(y, x_subset)\n",
    "    results = model.fit()\n",
    "    bic = results.bic\n",
    "    \n",
    "    # Update minimum BIC and best predictor subset\n",
    "    # If current predictor has a lower BIC score than that of the best subset \n",
    "    # we've found so far, remember the current predictor as the best!\n",
    "    if(bic < min_bic): \n",
    "        min_bic = bic\n",
    "        best_subset = best_k_subset[:]\n",
    "    \n",
    "print('Best subset by exhaustive search:')\n",
    "print sorted(best_subset)"
   ]
  },
  {
   "cell_type": "markdown",
   "metadata": {},
   "source": [
    "R2 depends monotonically with RSS, BIC depends monotonically with RSS within a subset.\n",
    "Therefore the highest R2 and min BIC will result in the best predictor"
   ]
  },
  {
   "cell_type": "code",
   "execution_count": 12,
   "metadata": {
    "collapsed": false
   },
   "outputs": [
    {
     "name": "stdout",
     "output_type": "stream",
     "text": [
      "Step-wise forward subset selection:\n",
      "[0, 5, 7, 8, 9]\n"
     ]
    }
   ],
   "source": [
    "### Step-wise Forward Selection\n",
    "d = x.shape[1] # total no. of predictors\n",
    "\n",
    "# Keep track of current set of chosen predictors, and the remaining set of predictors\n",
    "current_predictors = [] \n",
    "remaining_predictors = range(d)\n",
    "\n",
    "# Set some initial large value for min BIC score for all possible subsets\n",
    "global_min_bic = 1e10 \n",
    "\n",
    "# Keep track of the best subset of predictors\n",
    "best_subset = [] \n",
    "\n",
    "# Iterate over all possible subset sizes, 0 predictors to d predictors\n",
    "for size in range(d):    \n",
    "    max_r_squared = -1e10 # set some initial small value for max R^2\n",
    "    best_predictor = -1 # set some throwaway initial number for the best predictor to add\n",
    "    bic_with_best_predictor = 1e10 # set some initial large value for BIC score   \n",
    "        \n",
    "    # Iterate over all remaining predictors to find best predictor to add\n",
    "    for i in remaining_predictors:\n",
    "        # Make copy of current set of predictors\n",
    "        temp = current_predictors[:]\n",
    "        # Add predictor 'i'\n",
    "        temp.append(i)\n",
    "                                    \n",
    "        # Use only a subset of predictors in the training data\n",
    "        x_subset = x[:, temp]\n",
    "        \n",
    "        # Fit and evaluate R^2\n",
    "        model = OLS(y, x_subset)\n",
    "        results = model.fit()\n",
    "        r_squared = results.rsquared\n",
    "        \n",
    "        # Check if we get a higher R^2 value than than current max R^2, if so, update\n",
    "        if(r_squared > max_r_squared):\n",
    "            max_r_squared = r_squared\n",
    "            best_predictor = i\n",
    "            bic_with_best_predictor = results.bic\n",
    "    \n",
    "    # Remove best predictor from remaining list, and add best predictor to current list\n",
    "    remaining_predictors.remove(best_predictor)\n",
    "    current_predictors.append(best_predictor)\n",
    "    \n",
    "    # Check if BIC for with the predictor we just added is lower than \n",
    "    # the global minimum across all subset of predictors\n",
    "    if(bic_with_best_predictor < global_min_bic):\n",
    "        best_subset = current_predictors[:]\n",
    "        global_min_bic = bic_with_best_predictor\n",
    "    \n",
    "print 'Step-wise forward subset selection:'\n",
    "print sorted(best_subset) # add 1 as indices start from 0"
   ]
  },
  {
   "cell_type": "code",
   "execution_count": 13,
   "metadata": {
    "collapsed": false
   },
   "outputs": [
    {
     "name": "stdout",
     "output_type": "stream",
     "text": [
      "Step-wise backward subset selection:\n",
      "[2, 5, 7, 8, 9]\n"
     ]
    }
   ],
   "source": [
    "##  Step-wise Backward Selection\n",
    "d = x.shape[1] # total no. of predictors\n",
    "\n",
    "# Keep track of current set of chosen predictors\n",
    "current_predictors = range(d)\n",
    "\n",
    "# First, fit and evaluate BIC using all 'd' number of predictors\n",
    "model = OLS(y, x)\n",
    "results = model.fit()\n",
    "bic_all = results.bic\n",
    "\n",
    "# Set the minimum BIC score, initially, to the BIC score using all 'd' predictors\n",
    "global_min_bic = bic_all\n",
    "# Keep track of the best subset of predictors\n",
    "best_subset = [] \n",
    "\n",
    "# Iterate over all possible subset sizes, d predictors to 1 predictor\n",
    "for size in range(d - 1, 1, -1): # stop before 0 to avoid choosing an empty set of predictors\n",
    "    max_r_squared = -1e10 # set some initial small value for max R^2\n",
    "    worst_predictor = -1 # set some throwaway initial number for the worst predictor to remove\n",
    "    bic_without_worst_predictor = 1e10 # set some initial large value for min BIC score  \n",
    "        \n",
    "    # Iterate over current set of predictors (for potential elimination)\n",
    "    for i in current_predictors:\n",
    "        # Create copy of current predictors, and remove predictor 'i'\n",
    "        temp = current_predictors[:]\n",
    "        temp.remove(i)\n",
    "                                    \n",
    "        # Use only a subset of predictors in the training data\n",
    "        x_subset = x[:, temp]\n",
    "        \n",
    "        # Fit and evaluate R^2\n",
    "        model = OLS(y, x_subset)\n",
    "        results = model.fit()\n",
    "        r_squared = results.rsquared\n",
    "        \n",
    "        # Check if we get a higher R^2 value than than current max R^2, if so, update\n",
    "        if(r_squared > max_r_squared):\n",
    "            max_r_squared = r_squared\n",
    "            worst_predictor = i\n",
    "            bic_without_worst_predictor = results.bic\n",
    "          \n",
    "    # Remove worst predictor from current set of predictors\n",
    "    current_predictors.remove(worst_predictor)\n",
    "    \n",
    "    # Check if BIC for the predictor we just removed is lower than \n",
    "    # the global minimum across all subset of predictors\n",
    "    if(bic_without_worst_predictor < global_min_bic):\n",
    "        best_subset = current_predictors[:]\n",
    "        global_min_bic = bic_without_worst_predictor\n",
    "    \n",
    "print 'Step-wise backward subset selection:'\n",
    "print sorted(best_subset)"
   ]
  },
  {
   "cell_type": "markdown",
   "metadata": {},
   "source": [
    "**Do the chosen subsets match the ones you picked using the correlation matrix you had visualized in Part (a)?**\n",
    "\n",
    "Some of the predictors match the ones chosen from Part (a). \n",
    "Exhaustive: [0, 5, 7, 8, 9]\n",
    "Forward: [0, 5, 7, 8, 9] \n",
    "Backward: [2, 5, 7, 8, 9]\n",
    "\n",
    "The three methods return similar results for the predictor subsets with exhaustive search and forward subset selection resulting in subsets with exactly the same predictors and backward selection differing in the choice of predictor 2 instead of 0. In each of the three methods, only one predictor has been chosen from each of the correlated predictor sets {0,1,2}, {4,5,6}. Out of the remaining four uncorrelated predictors {3,7,8,9}, three have been chosen. \n",
    "\n",
    "\n",
    "stepwise - only use the predictors selected from that subset for the remaining subsets\n",
    "size 1  - choose x1\n",
    "size 2 - only choose subsets which have subset 1\n",
    "size 3 - only include subsets with best predictors from size 2\n",
    "\n",
    "But this method is not optimal!!\n",
    "\n",
    "Create two lists \n",
    "- current predictors and remaining predictors\n",
    "- best predictors at each stage get added to the current list\n",
    "- remaining predictors used to form the subsets with the current predictors\n",
    "\n",
    "Cannot use R2 to decide between the best subset as the R2 increases with the number of predictors as the flexibility of the model increases. \n",
    "Have to use AIC/BIC as they have a term which penalises models with larger number of terms due to the log(k) temrs. \n"
   ]
  },
  {
   "cell_type": "markdown",
   "metadata": {},
   "source": [
    "### Part (c): Apply Lasso and Ridge regression\n",
    "\n",
    "- Apply Lasso regression with regularization parameter $\\lambda = 0.01$ and fit a regression model.\n",
    "\n",
    "    - Identify the predictors that are assigned non-zero coefficients. Do these correspond to  the correlation matrix in Part (a)?\n",
    "\n",
    "\n",
    "- Apply Ridge regression with regularization parameter $\\lambda = 0.01$ and fit a regression model.\n",
    "\n",
    "    - Is there a difference between the model parameters you obtain different and those obtained from Lasso regression? If so, explain why.\n",
    "\n",
    "    - Identify the predictors that are assigned non-zero coefficients. Do these correspond to  the correlation matrix in Part (a)?\n",
    "\n",
    "\n",
    "- Is there anything peculiar that you observe about the coefficients Ridge regression assigns to the first three predictors? Do you observe the same with Lasso regression? Give an explanation for your observation.\n",
    "\n",
    "**Note**: You may use the `statsmodels` or `sklearn` to perform Lasso and Ridge regression."
   ]
  },
  {
   "cell_type": "code",
   "execution_count": 14,
   "metadata": {
    "collapsed": false
   },
   "outputs": [
    {
     "name": "stdout",
     "output_type": "stream",
     "text": [
      "Lasso:\n",
      "Coefficients: [ 0.02717417  0.          0.         -0.         -0.02532806 -0.         -0.\n",
      "  0.04397321 -0.40612185 -0.22260474]\n",
      "Predictors with non-zero coefficients: [0, 4, 7, 8, 9]\n"
     ]
    }
   ],
   "source": [
    "# Lasso regression\n",
    "reg = Lasso_Reg(alpha = 0.01)\n",
    "reg.fit(x, y)\n",
    "coefficients = reg.coef_\n",
    "\n",
    "print 'Lasso:'\n",
    "print 'Coefficients:', coefficients\n",
    "print  'Predictors with non-zero coefficients:', [i for i, item in enumerate(coefficients) if abs(item) > 0]"
   ]
  },
  {
   "cell_type": "code",
   "execution_count": 15,
   "metadata": {
    "collapsed": false
   },
   "outputs": [
    {
     "name": "stdout",
     "output_type": "stream",
     "text": [
      "Ridge:\n",
      "Coefficients: [ 0.04353543  0.04353543  0.04353543  0.55217415 -0.19706852 -0.61421737\n",
      "  0.30484213  0.18742866 -0.50083242 -0.35908145]\n",
      "Predictors with non-zero coefficients: [0, 1, 2, 3, 4, 5, 6, 7, 8, 9]\n"
     ]
    }
   ],
   "source": [
    "# Ridge regression: Fit and evaluate \n",
    "reg = Ridge_Reg(alpha = 0.01)\n",
    "reg.fit(x, y)\n",
    "coefficients = reg.coef_\n",
    "\n",
    "print 'Ridge:'\n",
    "print 'Coefficients:', coefficients\n",
    "print 'Predictors with non-zero coefficients:', [i for i, item in enumerate(coefficients) if abs(item) > 0]"
   ]
  },
  {
   "cell_type": "markdown",
   "metadata": {},
   "source": [
    "Lasso Regression\n",
    "- Some of the predictors with non zero coefficients match the predictors chosen from the correlation matrix - 0,7,8,9 are in accordance with the previous choice but the Lasso model also chooses predictor 4 which was not chosen previously. However similar to part (b), only one predictor has been chosen from each of the correlated predictor sets {0,1,2}, {4,5,6} and out of the remaining four uncorrelated predictors {7,8,9,10}, three have been chosen. \n",
    "\n",
    "Ridge Regression \n",
    "- All predictors have non zero coefficients as this method does not squash coefficient values to zero like Lasso regression\n",
    "- The parameter values are very different to the values from Lasso regression \n",
    "- Three of the parameters have the same coefficient 0.0435\n",
    "\n",
    "With Ridge Regression, the coefficients for predictors 0, 1 and 2 are all the same as the predictors are correlated. However for Lasso Regression, predictor 0 has a non-zero coefficient and predictors 1 and 2 have zero coefficient as they are not necessary for the model (as they are correlated with predictor 0). Similarly from the other subset of correlated predictors {4,5,6}, predictor 4 has a non-zero coefficient while predictors 5 and 6 have zero coefficient. "
   ]
  },
  {
   "cell_type": "markdown",
   "metadata": {},
   "source": [
    "## Problem 2: Cross-validation and Bootstrapping\n",
    "In this problem, you will work with an expanded version of the automobile pricing data set you analyzed in Homework 3. The data set is contained ``dataset_2.txt``, with 26 attribues (i.e. predictors) for each automobile and corresponding prices. \n",
    "\n",
    "### Part(a): Encode categorical attributes and fill missing values\n",
    "Identify the categorical attributes in the data. Replace their values with the one-hot binary encoding. You may do this using the `get_dummies()` function in `pandas`. If you do this task correctly, you should get a total of 69 predictors after the encoding.\n"
   ]
  },
  {
   "cell_type": "code",
   "execution_count": 287,
   "metadata": {
    "collapsed": false
   },
   "outputs": [
    {
     "data": {
      "text/html": [
       "<div>\n",
       "<table border=\"1\" class=\"dataframe\">\n",
       "  <thead>\n",
       "    <tr style=\"text-align: right;\">\n",
       "      <th></th>\n",
       "      <th>horsepower</th>\n",
       "      <th>highway-mpg</th>\n",
       "      <th>symboling</th>\n",
       "      <th>normalized-losses</th>\n",
       "      <th>make</th>\n",
       "      <th>fuel-type</th>\n",
       "      <th>aspiration</th>\n",
       "      <th>num-of-doors</th>\n",
       "      <th>body-style</th>\n",
       "      <th>drive-wheels</th>\n",
       "      <th>...</th>\n",
       "      <th>engine-type</th>\n",
       "      <th>num-of-cylinders</th>\n",
       "      <th>engine-size</th>\n",
       "      <th>fuel-system</th>\n",
       "      <th>bore</th>\n",
       "      <th>stroke</th>\n",
       "      <th>compression-ratio</th>\n",
       "      <th>peak-rpm</th>\n",
       "      <th>city-mpg</th>\n",
       "      <th>price</th>\n",
       "    </tr>\n",
       "  </thead>\n",
       "  <tbody>\n",
       "    <tr>\n",
       "      <th>0</th>\n",
       "      <td>95.0</td>\n",
       "      <td>24.0</td>\n",
       "      <td>0.0</td>\n",
       "      <td>120.232558</td>\n",
       "      <td>peugot</td>\n",
       "      <td>gas</td>\n",
       "      <td>std</td>\n",
       "      <td>four</td>\n",
       "      <td>wagon</td>\n",
       "      <td>rwd</td>\n",
       "      <td>...</td>\n",
       "      <td>l</td>\n",
       "      <td>four</td>\n",
       "      <td>120.0</td>\n",
       "      <td>mpfi</td>\n",
       "      <td>3.46</td>\n",
       "      <td>2.19</td>\n",
       "      <td>8.4</td>\n",
       "      <td>5000.0</td>\n",
       "      <td>19.0</td>\n",
       "      <td>16695.0</td>\n",
       "    </tr>\n",
       "    <tr>\n",
       "      <th>1</th>\n",
       "      <td>116.0</td>\n",
       "      <td>30.0</td>\n",
       "      <td>2.0</td>\n",
       "      <td>134.000000</td>\n",
       "      <td>toyota</td>\n",
       "      <td>gas</td>\n",
       "      <td>std</td>\n",
       "      <td>two</td>\n",
       "      <td>hardtop</td>\n",
       "      <td>rwd</td>\n",
       "      <td>...</td>\n",
       "      <td>ohc</td>\n",
       "      <td>four</td>\n",
       "      <td>146.0</td>\n",
       "      <td>mpfi</td>\n",
       "      <td>3.62</td>\n",
       "      <td>3.50</td>\n",
       "      <td>9.3</td>\n",
       "      <td>4800.0</td>\n",
       "      <td>24.0</td>\n",
       "      <td>11199.0</td>\n",
       "    </tr>\n",
       "    <tr>\n",
       "      <th>2</th>\n",
       "      <td>121.0</td>\n",
       "      <td>28.0</td>\n",
       "      <td>0.0</td>\n",
       "      <td>188.000000</td>\n",
       "      <td>bmw</td>\n",
       "      <td>gas</td>\n",
       "      <td>std</td>\n",
       "      <td>two</td>\n",
       "      <td>sedan</td>\n",
       "      <td>rwd</td>\n",
       "      <td>...</td>\n",
       "      <td>ohc</td>\n",
       "      <td>six</td>\n",
       "      <td>164.0</td>\n",
       "      <td>mpfi</td>\n",
       "      <td>3.31</td>\n",
       "      <td>3.19</td>\n",
       "      <td>9.0</td>\n",
       "      <td>4250.0</td>\n",
       "      <td>21.0</td>\n",
       "      <td>20970.0</td>\n",
       "    </tr>\n",
       "    <tr>\n",
       "      <th>3</th>\n",
       "      <td>184.0</td>\n",
       "      <td>16.0</td>\n",
       "      <td>0.0</td>\n",
       "      <td>120.232558</td>\n",
       "      <td>mercedes-benz</td>\n",
       "      <td>gas</td>\n",
       "      <td>std</td>\n",
       "      <td>four</td>\n",
       "      <td>sedan</td>\n",
       "      <td>rwd</td>\n",
       "      <td>...</td>\n",
       "      <td>ohcv</td>\n",
       "      <td>eight</td>\n",
       "      <td>308.0</td>\n",
       "      <td>mpfi</td>\n",
       "      <td>3.80</td>\n",
       "      <td>3.35</td>\n",
       "      <td>8.0</td>\n",
       "      <td>4500.0</td>\n",
       "      <td>14.0</td>\n",
       "      <td>40960.0</td>\n",
       "    </tr>\n",
       "    <tr>\n",
       "      <th>4</th>\n",
       "      <td>111.0</td>\n",
       "      <td>29.0</td>\n",
       "      <td>0.0</td>\n",
       "      <td>102.000000</td>\n",
       "      <td>subaru</td>\n",
       "      <td>gas</td>\n",
       "      <td>turbo</td>\n",
       "      <td>four</td>\n",
       "      <td>sedan</td>\n",
       "      <td>4wd</td>\n",
       "      <td>...</td>\n",
       "      <td>ohcf</td>\n",
       "      <td>four</td>\n",
       "      <td>108.0</td>\n",
       "      <td>mpfi</td>\n",
       "      <td>3.62</td>\n",
       "      <td>2.64</td>\n",
       "      <td>7.7</td>\n",
       "      <td>4800.0</td>\n",
       "      <td>24.0</td>\n",
       "      <td>11259.0</td>\n",
       "    </tr>\n",
       "  </tbody>\n",
       "</table>\n",
       "<p>5 rows × 26 columns</p>\n",
       "</div>"
      ],
      "text/plain": [
       "   horsepower  highway-mpg  symboling  normalized-losses           make  \\\n",
       "0        95.0         24.0        0.0         120.232558         peugot   \n",
       "1       116.0         30.0        2.0         134.000000         toyota   \n",
       "2       121.0         28.0        0.0         188.000000            bmw   \n",
       "3       184.0         16.0        0.0         120.232558  mercedes-benz   \n",
       "4       111.0         29.0        0.0         102.000000         subaru   \n",
       "\n",
       "  fuel-type aspiration num-of-doors body-style drive-wheels   ...     \\\n",
       "0       gas        std         four      wagon          rwd   ...      \n",
       "1       gas        std          two    hardtop          rwd   ...      \n",
       "2       gas        std          two      sedan          rwd   ...      \n",
       "3       gas        std         four      sedan          rwd   ...      \n",
       "4       gas      turbo         four      sedan          4wd   ...      \n",
       "\n",
       "  engine-type  num-of-cylinders  engine-size  fuel-system  bore  stroke  \\\n",
       "0           l              four        120.0         mpfi  3.46    2.19   \n",
       "1         ohc              four        146.0         mpfi  3.62    3.50   \n",
       "2         ohc               six        164.0         mpfi  3.31    3.19   \n",
       "3        ohcv             eight        308.0         mpfi  3.80    3.35   \n",
       "4        ohcf              four        108.0         mpfi  3.62    2.64   \n",
       "\n",
       "  compression-ratio peak-rpm  city-mpg    price  \n",
       "0               8.4   5000.0      19.0  16695.0  \n",
       "1               9.3   4800.0      24.0  11199.0  \n",
       "2               9.0   4250.0      21.0  20970.0  \n",
       "3               8.0   4500.0      14.0  40960.0  \n",
       "4               7.7   4800.0      24.0  11259.0  \n",
       "\n",
       "[5 rows x 26 columns]"
      ]
     },
     "execution_count": 287,
     "metadata": {},
     "output_type": "execute_result"
    }
   ],
   "source": [
    "data = pd.read_csv('./datasets/dataset_2.txt')\n",
    "data.head(5)"
   ]
  },
  {
   "cell_type": "code",
   "execution_count": 273,
   "metadata": {
    "collapsed": false
   },
   "outputs": [
    {
     "data": {
      "text/html": [
       "<div>\n",
       "<table border=\"1\" class=\"dataframe\">\n",
       "  <thead>\n",
       "    <tr style=\"text-align: right;\">\n",
       "      <th></th>\n",
       "      <th>horsepower</th>\n",
       "      <th>highway-mpg</th>\n",
       "      <th>-2.0</th>\n",
       "      <th>0.0</th>\n",
       "      <th>1.0</th>\n",
       "      <th>1.09604519774</th>\n",
       "      <th>2.0</th>\n",
       "      <th>3.0</th>\n",
       "      <th>normalized-losses</th>\n",
       "      <th>audi</th>\n",
       "      <th>...</th>\n",
       "      <th>1bbl</th>\n",
       "      <th>2bbl</th>\n",
       "      <th>idi</th>\n",
       "      <th>mpfi</th>\n",
       "      <th>spdi</th>\n",
       "      <th>bore</th>\n",
       "      <th>stroke</th>\n",
       "      <th>compression-ratio</th>\n",
       "      <th>peak-rpm</th>\n",
       "      <th>city-mpg</th>\n",
       "    </tr>\n",
       "  </thead>\n",
       "  <tbody>\n",
       "    <tr>\n",
       "      <th>0</th>\n",
       "      <td>95.0</td>\n",
       "      <td>24.0</td>\n",
       "      <td>0.0</td>\n",
       "      <td>1.0</td>\n",
       "      <td>0.0</td>\n",
       "      <td>0.0</td>\n",
       "      <td>0.0</td>\n",
       "      <td>0.0</td>\n",
       "      <td>120.232558</td>\n",
       "      <td>0.0</td>\n",
       "      <td>...</td>\n",
       "      <td>0.0</td>\n",
       "      <td>0.0</td>\n",
       "      <td>0.0</td>\n",
       "      <td>1.0</td>\n",
       "      <td>0.0</td>\n",
       "      <td>3.46</td>\n",
       "      <td>2.19</td>\n",
       "      <td>8.4</td>\n",
       "      <td>5000.0</td>\n",
       "      <td>19.0</td>\n",
       "    </tr>\n",
       "    <tr>\n",
       "      <th>1</th>\n",
       "      <td>116.0</td>\n",
       "      <td>30.0</td>\n",
       "      <td>0.0</td>\n",
       "      <td>0.0</td>\n",
       "      <td>0.0</td>\n",
       "      <td>0.0</td>\n",
       "      <td>1.0</td>\n",
       "      <td>0.0</td>\n",
       "      <td>134.000000</td>\n",
       "      <td>0.0</td>\n",
       "      <td>...</td>\n",
       "      <td>0.0</td>\n",
       "      <td>0.0</td>\n",
       "      <td>0.0</td>\n",
       "      <td>1.0</td>\n",
       "      <td>0.0</td>\n",
       "      <td>3.62</td>\n",
       "      <td>3.50</td>\n",
       "      <td>9.3</td>\n",
       "      <td>4800.0</td>\n",
       "      <td>24.0</td>\n",
       "    </tr>\n",
       "    <tr>\n",
       "      <th>2</th>\n",
       "      <td>121.0</td>\n",
       "      <td>28.0</td>\n",
       "      <td>0.0</td>\n",
       "      <td>1.0</td>\n",
       "      <td>0.0</td>\n",
       "      <td>0.0</td>\n",
       "      <td>0.0</td>\n",
       "      <td>0.0</td>\n",
       "      <td>188.000000</td>\n",
       "      <td>0.0</td>\n",
       "      <td>...</td>\n",
       "      <td>0.0</td>\n",
       "      <td>0.0</td>\n",
       "      <td>0.0</td>\n",
       "      <td>1.0</td>\n",
       "      <td>0.0</td>\n",
       "      <td>3.31</td>\n",
       "      <td>3.19</td>\n",
       "      <td>9.0</td>\n",
       "      <td>4250.0</td>\n",
       "      <td>21.0</td>\n",
       "    </tr>\n",
       "    <tr>\n",
       "      <th>3</th>\n",
       "      <td>184.0</td>\n",
       "      <td>16.0</td>\n",
       "      <td>0.0</td>\n",
       "      <td>1.0</td>\n",
       "      <td>0.0</td>\n",
       "      <td>0.0</td>\n",
       "      <td>0.0</td>\n",
       "      <td>0.0</td>\n",
       "      <td>120.232558</td>\n",
       "      <td>0.0</td>\n",
       "      <td>...</td>\n",
       "      <td>0.0</td>\n",
       "      <td>0.0</td>\n",
       "      <td>0.0</td>\n",
       "      <td>1.0</td>\n",
       "      <td>0.0</td>\n",
       "      <td>3.80</td>\n",
       "      <td>3.35</td>\n",
       "      <td>8.0</td>\n",
       "      <td>4500.0</td>\n",
       "      <td>14.0</td>\n",
       "    </tr>\n",
       "    <tr>\n",
       "      <th>4</th>\n",
       "      <td>111.0</td>\n",
       "      <td>29.0</td>\n",
       "      <td>0.0</td>\n",
       "      <td>1.0</td>\n",
       "      <td>0.0</td>\n",
       "      <td>0.0</td>\n",
       "      <td>0.0</td>\n",
       "      <td>0.0</td>\n",
       "      <td>102.000000</td>\n",
       "      <td>0.0</td>\n",
       "      <td>...</td>\n",
       "      <td>0.0</td>\n",
       "      <td>0.0</td>\n",
       "      <td>0.0</td>\n",
       "      <td>1.0</td>\n",
       "      <td>0.0</td>\n",
       "      <td>3.62</td>\n",
       "      <td>2.64</td>\n",
       "      <td>7.7</td>\n",
       "      <td>4800.0</td>\n",
       "      <td>24.0</td>\n",
       "    </tr>\n",
       "  </tbody>\n",
       "</table>\n",
       "<p>5 rows × 69 columns</p>\n",
       "</div>"
      ],
      "text/plain": [
       "   horsepower  highway-mpg  -2.0  0.0  1.0  1.09604519774  2.0  3.0  \\\n",
       "0        95.0         24.0   0.0  1.0  0.0            0.0  0.0  0.0   \n",
       "1       116.0         30.0   0.0  0.0  0.0            0.0  1.0  0.0   \n",
       "2       121.0         28.0   0.0  1.0  0.0            0.0  0.0  0.0   \n",
       "3       184.0         16.0   0.0  1.0  0.0            0.0  0.0  0.0   \n",
       "4       111.0         29.0   0.0  1.0  0.0            0.0  0.0  0.0   \n",
       "\n",
       "   normalized-losses  audi    ...     1bbl  2bbl  idi  mpfi  spdi  bore  \\\n",
       "0         120.232558   0.0    ...      0.0   0.0  0.0   1.0   0.0  3.46   \n",
       "1         134.000000   0.0    ...      0.0   0.0  0.0   1.0   0.0  3.62   \n",
       "2         188.000000   0.0    ...      0.0   0.0  0.0   1.0   0.0  3.31   \n",
       "3         120.232558   0.0    ...      0.0   0.0  0.0   1.0   0.0  3.80   \n",
       "4         102.000000   0.0    ...      0.0   0.0  0.0   1.0   0.0  3.62   \n",
       "\n",
       "   stroke  compression-ratio  peak-rpm  city-mpg  \n",
       "0    2.19                8.4    5000.0      19.0  \n",
       "1    3.50                9.3    4800.0      24.0  \n",
       "2    3.19                9.0    4250.0      21.0  \n",
       "3    3.35                8.0    4500.0      14.0  \n",
       "4    2.64                7.7    4800.0      24.0  \n",
       "\n",
       "[5 rows x 69 columns]"
      ]
     },
     "execution_count": 273,
     "metadata": {},
     "output_type": "execute_result"
    }
   ],
   "source": [
    "x_df = data.iloc[:, 0:-1]\n",
    "y_df = data.iloc[:,-1]\n",
    "\n",
    "num_predictors = np.shape(x_df)[1]\n",
    "new_df = pd.DataFrame({})\n",
    "\n",
    "for column in x_df.columns:\n",
    "    # check for categorical variables: if number of unique items is less than 8 or data type is an object\n",
    "    if (len(x_df[column].unique()) < 8 or (x_df[column].dtype == np.dtype('object'))):\n",
    "        # apply one-hot encoding\n",
    "        encoded_col = pd.get_dummies(x_df[column])\n",
    "        new_df = pd.concat([new_df, encoded_col], axis=1) \n",
    "    else:\n",
    "        new_df = pd.concat([new_df, x_df[column]], axis=1)      \n",
    "new_df.head()"
   ]
  },
  {
   "cell_type": "markdown",
   "metadata": {},
   "source": [
    "### Part (b): Apply regular linear regression\n",
    "- Split the data set into train and test sets, with the first 25% of the data for training and the remaining for testing.  \n",
    "\n",
    "\n",
    "- Use regular linear regression to fit a model to the training set and evaluate the R^2 score of the fitted model on both the training and test sets. What do you observe about these values?\n",
    "\n",
    "\n",
    "- You had seen in class that the R^2 value of a least-squares fit to a data set would lie between 0 and 1. Is this true for the test R^2 values reported above? If not, give a reason for why this is the case.\n",
    "\n",
    "\n",
    "- Is there a need for regularization while fitting a linear model to this data set?\n",
    "\n",
    "**Note**: You may use the `statsmodels` or `sklearn` to fit a linear regression model and evaluate the fits."
   ]
  },
  {
   "cell_type": "code",
   "execution_count": 326,
   "metadata": {
    "collapsed": false
   },
   "outputs": [],
   "source": [
    "# Convert data frame to array\n",
    "x = new_df.values\n",
    "y = y_df.values\n",
    "\n",
    "n = np.shape(new_df)[0]\n",
    "n_train = int(np.round(n*0.25))\n",
    "\n",
    "# Take first 25% for training and the rest for testing\n",
    "x_train = x[0:n_train, :]\n",
    "x_test = x[n_train:, :]\n",
    "y_train = y[0:n_train]\n",
    "y_test = y[n_train:]\n"
   ]
  },
  {
   "cell_type": "code",
   "execution_count": 320,
   "metadata": {
    "collapsed": false
   },
   "outputs": [],
   "source": [
    "# Standardise the predictors\n",
    "\n",
    "# needed to remove zero values from the standard deviations - some of the columns of x_train.std are\n",
    "# zero as these columns correspond to categorical variables where the entries are all 0 as none of them are present\n",
    "\n",
    "remove_zeros = lambda el: 1 if el[0] <0.000001 else el[0]\n",
    "std_train = x_train.std(axis=0).reshape(69,1)\n",
    "std_train_fixed = np.apply_along_axis(remove_zeros, 1, std_train)\n",
    "std_test = x_test.std(axis=0).reshape(69,1)\n",
    "std_test_fixed = np.apply_along_axis(remove_zeros, 1, std_test)\n",
    "\n",
    "x_train = x_train/std_train_fixed\n",
    "x_test = x_test/std_test_fixed"
   ]
  },
  {
   "cell_type": "code",
   "execution_count": 327,
   "metadata": {
    "collapsed": false
   },
   "outputs": [
    {
     "name": "stdout",
     "output_type": "stream",
     "text": [
      "R2 of linear fit on testing data:  -5.97542556701\n",
      "R2 of linear fit on training data:  1.0\n"
     ]
    }
   ],
   "source": [
    "# OLS\n",
    "reg = Lin_Reg()\n",
    "reg.fit(x_train, y_train)\n",
    "\n",
    "test_r_squared_plain = reg.score(x_test, y_test)\n",
    "train_r_squared_plain = reg.score(x_train, y_train)\n",
    "\n",
    "print 'R2 of linear fit on testing data: ', test_r_squared_plain\n",
    "print 'R2 of linear fit on training data: ', train_r_squared_plain"
   ]
  },
  {
   "cell_type": "markdown",
   "metadata": {},
   "source": [
    "Both $R^2$ values for the test set is a large negative number and the $R^2$ for the training set is exactly 1. The R2 values do not lie between 0 and 1 as expected. \n",
    "\n",
    "WHY????\n",
    "\n",
    "**Is there a need for regularization while fitting a linear model to this data set?**\n",
    "\n",
    "This data set has 69 predictors, not all of which may influence the price and hence the predictions - therefore so regularisation can help with reducing the number of parameters in the linear model. "
   ]
  },
  {
   "cell_type": "markdown",
   "metadata": {},
   "source": [
    "### Part (c): Apply Ridge regression\n",
    "\n",
    "- Apply Ridge regression on the training set for different values of the regularization parameter $\\lambda$ in the range $\\{10^{-7}, 10^{-6}, \\ldots, 10^7\\}$. Evaluate the R^2 score for the models you obtain on both the train and test sets. Plot both values as a function of $\\lambda$. \n",
    "\n",
    "\n",
    "- Explain the relationship between the regularization parameter and the training and test R^2 scores.\n",
    "\n",
    "\n",
    "- How does the best test R^2 value obtained using Ridge regression compare with that of plain linear regression? Explain.\n",
    "\n",
    "**Note**: You may use the `statsmodels` or `sklearn` to fit a ridge regression model and evaluate the fits."
   ]
  },
  {
   "cell_type": "code",
   "execution_count": 328,
   "metadata": {
    "collapsed": false
   },
   "outputs": [],
   "source": [
    "def RidgeReg(x_test, y_test, x_train, y_train, min_el, max_el):\n",
    "    # create a vector of lambda exponents\n",
    "    ells = np.linspace(min_el, max_el, 100)\n",
    "    num_lambdas = len(ells)\n",
    "    num_predictors = np.shape(x_train)[1]\n",
    "    \n",
    "    # empty arrays to store r2 values and coefficients\n",
    "    train_r_squared = np.zeros(num_lambdas)\n",
    "    test_r_squared = np.zeros(num_lambdas)\n",
    "    coeff_a =np.zeros((num_lambdas, num_predictors))\n",
    "    \n",
    "    for i, ell in enumerate(ells):\n",
    "        # fit ridge regression model\n",
    "        reg = Ridge_Reg(alpha=10**ell)\n",
    "        reg.fit(x_train, y_train)\n",
    "        # calculate r2 for testing and training sets\n",
    "        r2_test = reg.score(x_test, y_test)\n",
    "        r2_train = reg.score(x_train, y_train)\n",
    "        test_r_squared[i] = r2_test\n",
    "        train_r_squared[i] = r2_train\n",
    "        coeff_a[i,:] = reg.coef_\n",
    "        \n",
    "    return train_r_squared, test_r_squared, coeff_a, ells\n",
    "        \n",
    "def PlotR2(lambdas, test_r_squared_plain, train_r_squared, test_r_squared):\n",
    "    # Plot train and test R-squared as a function parameter value\n",
    "    fig, ax = plt.subplots(1, 1, figsize=(12, 12))\n",
    "\n",
    "    ax.axhline(y = test_r_squared_plain, c='g', label = 'Plain Regression')\n",
    "    ax.semilogx(10.0**lambdas, (train_r_squared), c='b', label='Ridge: Train')\n",
    "    ax.semilogx(10.0**lambdas, (test_r_squared), c='r', label='Ridge: Test')\n",
    "\n",
    "    ax.set_xlabel('Regularization parameter $\\lambda$')\n",
    "    ax.set_ylabel(r'$R^2$ score')\n",
    "    #ax.set_ylim((test_r_squared_plain-0.2, 1.2))\n",
    "    ax.legend(loc = 'best')\n",
    "    return ax\n",
    "    print 'Regression: max R^2 score on training set', max(train_r_squared)\n",
    "    print 'Regression: max R^2 score on test set', max(test_r_squared)\n",
    "    plt.show()\n",
    "\n",
    "def PlotCoeff(lambdas, coeff_a):\n",
    "    plt.figure(figsize=(12,12))\n",
    "    h=plt.semilogx(10**lambdas, coeff_a);\n",
    "    plt.ylabel(\"Standarized Coefficients\")\n",
    "    plt.xlabel(r'Regularization parameter $\\lambda$')\n",
    "    print (len(new_df.columns.values))\n",
    "    plt.legend(h, new_df.columns.values, bbox_to_anchor=(1.05, 1), loc=2, borderaxespad=0.)\n",
    "    plt.show()\n",
    "    "
   ]
  },
  {
   "cell_type": "code",
   "execution_count": 329,
   "metadata": {
    "collapsed": false
   },
   "outputs": [
    {
     "name": "stdout",
     "output_type": "stream",
     "text": [
      "69\n"
     ]
    },
    {
     "data": {
      "image/png": "[encoded data removed]",
      "text/plain": [
       "<matplotlib.figure.Figure at 0x11c9a1650>"
      ]
     },
     "metadata": {},
     "output_type": "display_data"
    }
   ],
   "source": [
    "train_r_squared, test_r_squared, coeff_a, lambdas = RidgeReg(x_test, y_test, x_train, y_train, -7,7) \n",
    "PlotCoeff(lambdas, coeff_a)"
   ]
  },
  {
   "cell_type": "code",
   "execution_count": 330,
   "metadata": {
    "collapsed": false
   },
   "outputs": [
    {
     "data": {
      "text/plain": [
       "(0, 1)"
      ]
     },
     "execution_count": 330,
     "metadata": {},
     "output_type": "execute_result"
    },
    {
     "data": {
      "image/png": "[encoded data removed]",
      "text/plain": [
       "<matplotlib.figure.Figure at 0x1242fc0d0>"
      ]
     },
     "metadata": {},
     "output_type": "display_data"
    }
   ],
   "source": [
    "ax = PlotR2(lambdas, test_r_squared_plain, train_r_squared, test_r_squared)\n",
    "ax.set_ylim(0,1)"
   ]
  },
  {
   "cell_type": "markdown",
   "metadata": {},
   "source": [
    "**Explain the relationship between the regularization parameter and the training and test R^2 scores.**\n",
    "\n",
    "For very small values of $\\lambda$ the $R^2$ for the test set is highly negative. The $R^2$ value increases sharply from lambda of $10^-4$, reaching a peak of 0.91. For subsequent values of lambda, the $R^2$ of the testing and training set match closely and both decrease to 0 for $\\lambda$  values greater than $10^3$. \n",
    "\n",
    "**How does the best test R^2 value obtained using Ridge regression compare with that of plain linear regression? Explain.**\n",
    "\n",
    "Best $R^2$ from ridge regression is much higher than best $R^2$ from linear regression. Ridge regression reduced the coefficients of some predictors so they are dampened in the model. "
   ]
  },
  {
   "cell_type": "markdown",
   "metadata": {},
   "source": [
    "### Part (d): Tune regularization parameter using cross-validation and bootstrapping\n",
    "-  Evaluate the performance of the Ridge regression for different regularization parameters $\\lambda$ using 5-fold cross validation **or** bootstrapping on the training set. \n",
    "\n",
    "    - Plot the cross-validation (CV) or bootstrapping R^2 score as a function of $\\lambda$. \n",
    "    \n",
    "    - How closely does the CV score or bootstrapping score match the R^2 score on the test set? Does the model with lowest CV score or bootstrapping score correspond to the one with maximum R^2 on the test set?\n",
    "    \n",
    "    - Does the model chosen by CV or bootstrapping perform better than plain linear regression?\n",
    "\n",
    "**Note**: You may use the `statsmodels` or `sklearn` to fit a linear regression model and evaluate the fits. You may also use `kFold` from `sklearn.cross_validation`. "
   ]
  },
  {
   "cell_type": "code",
   "execution_count": 325,
   "metadata": {
    "collapsed": false
   },
   "outputs": [
    {
     "data": {
      "text/plain": [
       "(0, 1)"
      ]
     },
     "execution_count": 325,
     "metadata": {},
     "output_type": "execute_result"
    },
    {
     "data": {
      "image/png": "[encoded data removed]",
      "text/plain": [
       "<matplotlib.figure.Figure at 0x11b33eb90>"
      ]
     },
     "metadata": {},
     "output_type": "display_data"
    }
   ],
   "source": [
    "x = new_df.values\n",
    "y = y_df.values\n",
    "\n",
    "num_points = np.shape(x)[0]\n",
    "train_k_r_squared = np.zeros((100, 5))\n",
    "test_k_r_squared = np.zeros((100, 5))\n",
    "\n",
    "i =0\n",
    "for train_index, test_index in KFold(n, n_folds=5):\n",
    "    X_train, X_test = x[train_index], x[test_index]\n",
    "    y_train, y_test = y[train_index], y[test_index]\n",
    "    train_r_squared, test_r_squared, coeff_a, lambdas = RidgeReg(X_test, y_test, X_train, y_train, -7,7) \n",
    "    train_k_r_squared[:,i] = train_r_squared\n",
    "    test_k_r_squared[:,i] = test_r_squared\n",
    "    i+=1\n",
    "\n",
    "test_k_mean_r_squared = np.mean(test_k_r_squared, axis=1) # average of 5 folds for each value of lambda\n",
    "train_k_mean_r_squared = np.mean(train_k_r_squared, axis=1)\n",
    "ax = PlotR2(lambdas, test_r_squared_plain, train_k_mean_r_squared, test_k_mean_r_squared)\n",
    "ax.set_ylim(0,1)"
   ]
  },
  {
   "cell_type": "markdown",
   "metadata": {},
   "source": [
    "**How closely does the CV score or bootstrapping score match the R^2 score on the test set?**\n",
    "\n",
    "The test set CV score matches the R2 score on the test set for lambdas greater than 10-1. The R2 score on the test set for lambdas less that 10-1 are highly negative whereas the CV score is close to 1\n",
    "\n",
    "**Does the model with lowest CV score or bootstrapping score correspond to the one with maximum R^2 on the test set?**\n",
    "\n",
    "?????\n",
    "\n",
    "**Does the model chosen by CV or bootstrapping perform better than plain linear regression?**\n",
    "\n",
    "With plain linear regression, the R2 score for the test set was highly negative. With CV and a lambda of 10-1, the R2 score is close to 1 so performs significantly better. "
   ]
  },
  {
   "cell_type": "markdown",
   "metadata": {},
   "source": [
    "## Problem 3: Ridge regression *via* ordinary least-squares regression\n",
    "\n",
    "We present an approach to implement Ridge regression using oridinary least-squares regression. Given a matrix of responses $\\mathbf{X} \\in \\mathbb{R}^{n\\times p}$ and response vector $\\mathbf{y} \\in \\mathbb{R}^{n}$, one can implement Ridge regression with regularization parameter $\\lambda$ as follows:\n",
    "\n",
    "- Augment the matrix of predictors $\\mathbf{X}$ with $p$ new rows containing the scaled identity matrix $\\sqrt{\\lambda}\\mathbf{I} \\in \\mathbb{R}^{p \\times p}$, i.e.\n",
    "$$\\overline{\\mathbf{X}} \\,=\\, \n",
    "\\begin{bmatrix}\n",
    "X_{11} & \\ldots & X_{1p}\\\\\n",
    "\\vdots & \\ddots & \\vdots\\\\\n",
    "X_{n1} & \\ldots & X_{np}\\\\\n",
    "\\sqrt{\\lambda} & \\ldots & 0\\\\\n",
    "\\vdots & \\ddots & \\vdots\\\\\n",
    "0 & \\ldots & \\sqrt{\\lambda}\n",
    "\\end{bmatrix}\n",
    "\\,\\in\\,\n",
    "\\mathbb{R}^{(n+p)\\times p}\n",
    ".\n",
    "$$\n",
    "\n",
    "\n",
    "- Augment the response vector $\\mathbf{y}$ with a column of $p$ zeros, i.e.\n",
    "$$\n",
    "\\overline{\\mathbf{y}} \\,=\\, \n",
    "\\begin{bmatrix}\n",
    "y_{1}\\\\\n",
    "\\vdots\\\\\n",
    "y_{n}\\\\\n",
    "0\\\\\n",
    "\\vdots\\\\\n",
    "0\n",
    "\\end{bmatrix}\n",
    "\\,\\in\\,\n",
    "\\mathbb{R}^{n+p}.\n",
    "$$\n",
    "\n",
    "\n",
    "- Apply ordinary least-squares regression on the augmented data set $(\\overline{\\mathbf{X}}, \\overline{\\mathbf{y}})$.\n",
    "\n",
    "### Part (a): Show the proposed approach implements Ridge regression\n",
    "Show that the approach proposed above implements Ridge regression with parameter $\\lambda$."
   ]
  },
  {
   "cell_type": "markdown",
   "metadata": {},
   "source": [
    "The objective function for ridge regression is of the form:\n",
    "\n",
    "$$f(\\beta) = (Y-X\\beta)^T(Y-X\\beta) + \\lambda\\beta^2 $$\n",
    "\n",
    "The normal equations for ridge regression take the form:\n",
    "$$(X^T\\,X + \\lambda I)\\beta =  X^T Y $$\n",
    "\n",
    "so $\\beta$ could be solved using the following matrix inverse:\n",
    "\n",
    "$$\\beta = (X^T\\,X + \\lambda I)^{-1} X^T Y $$\n",
    "\n",
    "Alternatively, X and Y can be augmented so the normal equation has the same form as for ordinary least sqaures. This requires incorporating the $\\lambda\\beta^2$ into an augmented $\\overline{\\mathbf{X}}$ matrix and $\\overline{\\mathbf{y}}$ vector.  As $\\lambda >0$ the square root $\\sqrt{\\lambda}$ will be positive so the matrix X (an n×p matrix) can be augemented by appending the p x p matrix  $\\sqrt{\\lambda}I$, and the vector Y can be extended by appending a column of p zeros. The product $(\\overline{\\mathbf{y}}-\\overline{\\mathbf{X}}\\beta)^T(\\overline{\\mathbf{y}}-\\overline{\\mathbf{X}}\\beta)$ adds an additional p terms to the objective function of ordinary least squares of the form: \n",
    "\n",
    "$$(0 - \\sqrt{\\lambda}\\beta_i)^2 = \\lambda \\beta_i^2$$\n",
    "\n",
    "which corresponds to the additional term in the ridge regression objective function.\n",
    "\n",
    "Therefore the normal equation for $\\beta$ using ridge regression can be rewritten as\n",
    "$$(Y-X\\beta)^T(Y-X\\beta) + \\lambda\\beta^2  = (\\overline{\\mathbf{y}}-\\overline{\\mathbf{X}}\\beta)^T(\\overline{\\mathbf{y}}-\\overline{\\mathbf{X}}\\beta)$$\n",
    "\n",
    "From the right hand side the normal equation can be written as:\n",
    "$${\\overline{\\mathbf{X}}}^T\\,\\overline{\\mathbf{X}}\\beta =  {\\overline{\\mathbf{X}}}^T \\overline{\\mathbf{y}} $$\n",
    "\n",
    "which can be solved using ordinary least squares. \n"
   ]
  },
  {
   "cell_type": "markdown",
   "metadata": {},
   "source": [
    "### Part (b): Debug our implementation of ridge regression\n",
    "You're a grader for CS109A, the following is an implemention of Ridge regression (via the above approach) submitted by a student. The dataset is ``dataset_3.txt``. The regression model is fitted to a training set, and the R^2 scores of the fitted model on the training and test sets are plotted as a function of the regularization parameter. Grade this solution according to the following rubric (each category is equally weighted): \n",
    "\n",
    "- correctness\n",
    "\n",
    "- interpretation (if applicable)\n",
    "\n",
    "- code/algorithm design\n",
    "\n",
    "- presentation\n",
    "\n",
    "In addition to providing an holistic grade (between 0 to 5), provide a corrected version of this code that is submission quality."
   ]
  },
  {
   "cell_type": "code",
   "execution_count": 122,
   "metadata": {
    "collapsed": false
   },
   "outputs": [
    {
     "data": {
      "text/plain": [
       "[<matplotlib.lines.Line2D at 0x11c301790>]"
      ]
     },
     "execution_count": 122,
     "metadata": {},
     "output_type": "execute_result"
    },
    {
     "data": {
      "image/png": "[encoded data removed]",
      "text/plain": [
       "<matplotlib.figure.Figure at 0x11c301850>"
      ]
     },
     "metadata": {},
     "output_type": "display_data"
    }
   ],
   "source": [
    "# Fit\n",
    "def ridge(x_train, y_train, reg_param):\n",
    "    n=np.shape(x_train)[0] # x is an n x p matrix so should be taking the element 1 of the shape\n",
    "    x_train=np.concatenate((x_train,reg_param*np.identity(n)),axis=1) \n",
    "    # need to take the square root of the reg_param and also concatenate along axis 0 not axis 1\n",
    "    y_train_=np.zeros((n+np.shape(x_train)[1],1)) # wrong dimension of x used \n",
    "    for c in range(n):\n",
    "        y_train_[c]= y_train[c]\n",
    "    import sklearn # group all import statements at the top of the code block\n",
    "    model = sklearn.linear_model.LinearRegression()\n",
    "    model.fit(x_train,y_train.reshape(-1,1)) # don't reshape inline and also dimensions of x and y don't match\n",
    "    return model\n",
    "\n",
    "# Score\n",
    "def score(m,x_test,y_test, reg_param):\n",
    "    # same errors as above\n",
    "    n=np.shape(x_train)[0]\n",
    "    x_test=np.concatenate((x_test,reg_param*np.identity(n)),axis=1)\n",
    "    y_test_=np.zeros((n+np.shape(x_test)[1],1))\n",
    "    for c in range(n):\n",
    "        y_test_[c]= y_test[c]\n",
    "    return m.score(x_test,y_test.reshape(-1,1))\n",
    "\n",
    "# Load\n",
    "data = np.loadtxt('datasets/dataset_3.txt', delimiter=',')\n",
    "n = data.shape[0]\n",
    "n = int(np.round(n*0.5))\n",
    "x_train = data[0:n,0:100] # also adding the 100th column?\n",
    "y_train = data[0:n,100] \n",
    "x_test = data[n:2*n,0:100] \n",
    "y_test = data[n:2*n,100]\n",
    "\n",
    "# Params\n",
    "a=np.zeros(5)\n",
    "for i in range(-2,2):\n",
    "    a[i+2]=10**i\n",
    "\n",
    "# Iterate\n",
    "rstr =np.zeros(5)\n",
    "rsts =np.zeros(5)\n",
    "for j in range(0,5):    \n",
    "    m =ridge(x_train,y_train,a[i])\n",
    "    rstr[j]=score(m,x_train,y_train,a[j])\n",
    "    rsts[i]=score(m,x_test,y_test,a[i])\n",
    "\n",
    "# Plot\n",
    "plt.plot(a,rstr)\n",
    "plt.plot(a,rsts)"
   ]
  },
  {
   "cell_type": "markdown",
   "metadata": {},
   "source": [
    "Grading:\n",
    "- correctness\n",
    "    - several careless errors in the implementation \n",
    "- interpretation (if applicable)\n",
    "    - no interpretation of the code\n",
    "- code/algorithm design\n",
    "    - poor labelling of variables \n",
    "    - no commenting of code\n",
    "- presentation\n",
    "    - no legend or axes labels\n",
    "    - no \n",
    "\n",
    "Grade 2/5"
   ]
  },
  {
   "cell_type": "code",
   "execution_count": 335,
   "metadata": {
    "collapsed": false
   },
   "outputs": [
    {
     "data": {
      "text/plain": [
       "<matplotlib.legend.Legend at 0x12415c990>"
      ]
     },
     "execution_count": 335,
     "metadata": {},
     "output_type": "execute_result"
    },
    {
     "data": {
      "image/png": "[encoded data removed]",
      "text/plain": [
       "<matplotlib.figure.Figure at 0x11d599f50>"
      ]
     },
     "metadata": {},
     "output_type": "display_data"
    }
   ],
   "source": [
    "from sklearn.linear_model import LinearRegression as Lin_Reg\n",
    "\n",
    "def ridge(x_train, y_train, reg_param):\n",
    "    n,p =np.shape(x_train) # x is an n x p matrix\n",
    "    # append a pxp matrix lambda*I to the X matrix\n",
    "    x_train=np.concatenate((x_train,np.sqrt(10.0**reg_param)*np.identity(p)),axis=0)\n",
    "    # append a column vector of length p to the y vector\n",
    "    y_train=np.concatenate((y_train,np.zeros(p)),axis=0)\n",
    "    model = Lin_Reg()\n",
    "    model.fit(x_train,y_train)\n",
    "    return model\n",
    "\n",
    "# Load the data\n",
    "data = np.loadtxt('datasets/dataset_3.txt', delimiter=',')\n",
    "\n",
    "# Split into test and train sets, taking the first 25% for training\n",
    "n = data.shape[0]\n",
    "n_train = int(np.round(n*0.25))\n",
    "\n",
    "x_train = data[0:n_train,0:-1]\n",
    "y_train = data[0:n_train,-1]\n",
    "x_test = data[n_train:,0:-1]\n",
    "y_test = data[n_train:,-1]\n",
    "\n",
    "# Standardise data\n",
    "x_train = x_train / x_train.std(axis=0)\n",
    "x_test = x_test / x_test.std(axis=0)\n",
    "\n",
    "# Params\n",
    "lambdas=np.linspace(-3,3, 100)\n",
    "num_lambdas = len(lambdas)\n",
    "\n",
    "# Initialise empty arrays for storing r2 values\n",
    "r2_train =np.zeros(num_lambdas)\n",
    "r2_test =np.zeros(num_lambdas)\n",
    "\n",
    "# Iterate over the values of lambda\n",
    "for i in range(num_lambdas):    \n",
    "    model = ridge(x_train,y_train,lambdas[i])\n",
    "    r2_train[i]=model.score(x_train,y_train)\n",
    "    r2_test[i]=model.score(x_test,y_test)\n",
    "\n",
    "# Plot the rsquared values as a function of lambda\n",
    "fig, ax = plt.subplots(1, 1, figsize=(12, 12))\n",
    "ax.semilogx(10.0**lambdas, (r2_train), c='b', label='Ridge: Train')\n",
    "ax.semilogx(10.0**lambdas, (r2_test), c='r', label='Ridge: Test')\n",
    "\n",
    "ax.set_xlabel('Regularization parameter $\\lambda$')\n",
    "ax.set_ylabel(r'$R^2$ score')\n",
    "ax.legend(loc = 'best')"
   ]
  },
  {
   "cell_type": "markdown",
   "metadata": {},
   "source": [
    "## Challenge Problem: Predicting Outcome of a Fund-raising Campaign\n",
    "You are provided a data set containing details of mail sent to 95,412 potential donors for a fund-raising campaign of a not-for-profit organization. This data set also contains the amount donated by each donor. The task is to build a model that can estimate the amount that a donor would donate using his/her attributes. The data is contained in the file `dataset_4.txt`. Each row contains 376 attributes for a donor, followed by the donation amount.\n",
    "\n",
    "**Note**: For additional information about the attributes used, please look up the file `dataset_4_description.txt`. This files also contains details of attributes that have been omitted from the data set.\n",
    "\n",
    "### Part (a): Fit regression model\n",
    "Build a suitable model to predict the donation amount. How good is your model? \n",
    "\n",
    "\n",
    "### Part (b): Evaluate the total profit of the fitted model\n",
    "Suppose you are told that the cost of mailing the donor is \\$7. Use your model to maximize profit. Implement, explain and rigorously justify your strategy. How does your strategry compare with blanket mailing everyone.\n",
    "\n",
    "### Part (c): Further Discussion\n",
    "In hindsight, thoroughly discuss the appropriatenes of using a regression model for this dataset (you must at least address the suitability with respect to profit maximization and model assumptions). Rigorously justify your reasoning. "
   ]
  },
  {
   "cell_type": "markdown",
   "metadata": {},
   "source": [
    "Fitting a Regression Model to the dataset. \n",
    "\n",
    "Methodology:\n",
    "\n",
    "1. Extract out the numerical predictors\n",
    "2. Try OLS - split into training and testing sets and look at R2 score on test and training set\n",
    "3. Try Ridge Regression - look at R2 on test and training set\n",
    "4. Try Lasso Regression - look at R2\n",
    "5. Use forward and backward selection to reduce predictor set\n",
    "6. Model Assesment using cross validation"
   ]
  },
  {
   "cell_type": "code",
   "execution_count": 243,
   "metadata": {
    "collapsed": false
   },
   "outputs": [],
   "source": [
    "data_q4 = pd.read_csv('datasets/dataset_4.txt', sep=',')\n"
   ]
  },
  {
   "cell_type": "code",
   "execution_count": 247,
   "metadata": {
    "collapsed": false
   },
   "outputs": [
    {
     "data": {
      "text/html": [
       "<div>\n",
       "<table border=\"1\" class=\"dataframe\">\n",
       "  <thead>\n",
       "    <tr style=\"text-align: right;\">\n",
       "      <th></th>\n",
       "      <th>TCODE</th>\n",
       "      <th>HIT</th>\n",
       "      <th>MALEMILI</th>\n",
       "      <th>MALEVET</th>\n",
       "      <th>VIETVETS</th>\n",
       "      <th>WWIIVETS</th>\n",
       "      <th>LOCALGOV</th>\n",
       "      <th>STATEGOV</th>\n",
       "      <th>FEDGOV</th>\n",
       "      <th>POP901</th>\n",
       "      <th>...</th>\n",
       "      <th>RAMNTALL</th>\n",
       "      <th>NGIFTALL</th>\n",
       "      <th>CARDGIFT</th>\n",
       "      <th>MINRAMNT</th>\n",
       "      <th>MAXRAMNT</th>\n",
       "      <th>LASTGIFT</th>\n",
       "      <th>AVGGIFT</th>\n",
       "      <th>HPHONE_D</th>\n",
       "      <th>RFA_2F</th>\n",
       "      <th>CLUSTER2</th>\n",
       "    </tr>\n",
       "  </thead>\n",
       "  <tbody>\n",
       "    <tr>\n",
       "      <th>0</th>\n",
       "      <td>2.0</td>\n",
       "      <td>10.0</td>\n",
       "      <td>2.0</td>\n",
       "      <td>25.0</td>\n",
       "      <td>40.0</td>\n",
       "      <td>27.0</td>\n",
       "      <td>11.0</td>\n",
       "      <td>4.0</td>\n",
       "      <td>1.0</td>\n",
       "      <td>2707.0</td>\n",
       "      <td>...</td>\n",
       "      <td>61.0</td>\n",
       "      <td>15.0</td>\n",
       "      <td>10.0</td>\n",
       "      <td>2.0</td>\n",
       "      <td>7.0</td>\n",
       "      <td>5.0</td>\n",
       "      <td>4.066667</td>\n",
       "      <td>1.0</td>\n",
       "      <td>3.0</td>\n",
       "      <td>3.0</td>\n",
       "    </tr>\n",
       "    <tr>\n",
       "      <th>1</th>\n",
       "      <td>0.0</td>\n",
       "      <td>0.0</td>\n",
       "      <td>1.0</td>\n",
       "      <td>37.0</td>\n",
       "      <td>58.0</td>\n",
       "      <td>16.0</td>\n",
       "      <td>8.0</td>\n",
       "      <td>1.0</td>\n",
       "      <td>5.0</td>\n",
       "      <td>2147.0</td>\n",
       "      <td>...</td>\n",
       "      <td>68.0</td>\n",
       "      <td>11.0</td>\n",
       "      <td>6.0</td>\n",
       "      <td>2.0</td>\n",
       "      <td>10.0</td>\n",
       "      <td>7.0</td>\n",
       "      <td>6.181818</td>\n",
       "      <td>1.0</td>\n",
       "      <td>3.0</td>\n",
       "      <td>14.0</td>\n",
       "    </tr>\n",
       "    <tr>\n",
       "      <th>2</th>\n",
       "      <td>0.0</td>\n",
       "      <td>5.0</td>\n",
       "      <td>0.0</td>\n",
       "      <td>33.0</td>\n",
       "      <td>24.0</td>\n",
       "      <td>39.0</td>\n",
       "      <td>6.0</td>\n",
       "      <td>5.0</td>\n",
       "      <td>1.0</td>\n",
       "      <td>2160.0</td>\n",
       "      <td>...</td>\n",
       "      <td>102.0</td>\n",
       "      <td>21.0</td>\n",
       "      <td>14.0</td>\n",
       "      <td>3.0</td>\n",
       "      <td>6.0</td>\n",
       "      <td>5.0</td>\n",
       "      <td>4.857143</td>\n",
       "      <td>1.0</td>\n",
       "      <td>3.0</td>\n",
       "      <td>11.0</td>\n",
       "    </tr>\n",
       "    <tr>\n",
       "      <th>3</th>\n",
       "      <td>0.0</td>\n",
       "      <td>0.0</td>\n",
       "      <td>0.0</td>\n",
       "      <td>34.0</td>\n",
       "      <td>20.0</td>\n",
       "      <td>54.0</td>\n",
       "      <td>2.0</td>\n",
       "      <td>3.0</td>\n",
       "      <td>1.0</td>\n",
       "      <td>13801.0</td>\n",
       "      <td>...</td>\n",
       "      <td>132.0</td>\n",
       "      <td>12.0</td>\n",
       "      <td>5.0</td>\n",
       "      <td>5.0</td>\n",
       "      <td>17.0</td>\n",
       "      <td>10.0</td>\n",
       "      <td>11.000000</td>\n",
       "      <td>0.0</td>\n",
       "      <td>2.0</td>\n",
       "      <td>2.0</td>\n",
       "    </tr>\n",
       "    <tr>\n",
       "      <th>4</th>\n",
       "      <td>1.0</td>\n",
       "      <td>10.0</td>\n",
       "      <td>0.0</td>\n",
       "      <td>21.0</td>\n",
       "      <td>53.0</td>\n",
       "      <td>8.0</td>\n",
       "      <td>5.0</td>\n",
       "      <td>4.0</td>\n",
       "      <td>11.0</td>\n",
       "      <td>1673.0</td>\n",
       "      <td>...</td>\n",
       "      <td>94.0</td>\n",
       "      <td>10.0</td>\n",
       "      <td>8.0</td>\n",
       "      <td>5.0</td>\n",
       "      <td>12.0</td>\n",
       "      <td>12.0</td>\n",
       "      <td>9.400000</td>\n",
       "      <td>1.0</td>\n",
       "      <td>3.0</td>\n",
       "      <td>22.0</td>\n",
       "    </tr>\n",
       "  </tbody>\n",
       "</table>\n",
       "<p>5 rows × 306 columns</p>\n",
       "</div>"
      ],
      "text/plain": [
       "   TCODE   HIT  MALEMILI  MALEVET  VIETVETS  WWIIVETS  LOCALGOV  STATEGOV  \\\n",
       "0    2.0  10.0       2.0     25.0      40.0      27.0      11.0       4.0   \n",
       "1    0.0   0.0       1.0     37.0      58.0      16.0       8.0       1.0   \n",
       "2    0.0   5.0       0.0     33.0      24.0      39.0       6.0       5.0   \n",
       "3    0.0   0.0       0.0     34.0      20.0      54.0       2.0       3.0   \n",
       "4    1.0  10.0       0.0     21.0      53.0       8.0       5.0       4.0   \n",
       "\n",
       "   FEDGOV   POP901    ...     RAMNTALL  NGIFTALL  CARDGIFT  MINRAMNT  \\\n",
       "0     1.0   2707.0    ...         61.0      15.0      10.0       2.0   \n",
       "1     5.0   2147.0    ...         68.0      11.0       6.0       2.0   \n",
       "2     1.0   2160.0    ...        102.0      21.0      14.0       3.0   \n",
       "3     1.0  13801.0    ...        132.0      12.0       5.0       5.0   \n",
       "4    11.0   1673.0    ...         94.0      10.0       8.0       5.0   \n",
       "\n",
       "   MAXRAMNT  LASTGIFT    AVGGIFT  HPHONE_D  RFA_2F  CLUSTER2  \n",
       "0       7.0       5.0   4.066667       1.0     3.0       3.0  \n",
       "1      10.0       7.0   6.181818       1.0     3.0      14.0  \n",
       "2       6.0       5.0   4.857143       1.0     3.0      11.0  \n",
       "3      17.0      10.0  11.000000       0.0     2.0       2.0  \n",
       "4      12.0      12.0   9.400000       1.0     3.0      22.0  \n",
       "\n",
       "[5 rows x 306 columns]"
      ]
     },
     "execution_count": 247,
     "metadata": {},
     "output_type": "execute_result"
    }
   ],
   "source": [
    "# extract the predictors and the response \n",
    "\n",
    "x_df_q4 = data_q4.iloc[:, 0:-1]\n",
    "y_df_q4 = data_q4.iloc[:,-1]\n",
    "\n",
    "num_predictors_q4 = np.shape(x_df_q4)[1]\n",
    "data_q4_numerical = pd.DataFrame({})\n",
    "\n",
    "# only extract the numerical predictors and remove the categorical variables \n",
    "for column in x_df_q4.columns:\n",
    "    if ((x_df_q4[column].dtype != np.dtype('object'))):\n",
    "        data_q4_numerical = pd.concat([data_q4_numerical, x_df_q4[column]], axis=1)      \n",
    "data_q4_numerical.head()"
   ]
  },
  {
   "cell_type": "code",
   "execution_count": 267,
   "metadata": {
    "collapsed": false
   },
   "outputs": [],
   "source": [
    "x_q4 = data_q4_numerical.iloc[:, 0:-1].values\n",
    "y_q4 = y_df_q4.values.reshape(len(y_df_q4.values), 1)\n",
    "\n",
    "# ii. SPLIT TRAIN AND TEST SETS\n",
    "# No. of training points\n",
    "n = x_q4.shape[0]\n",
    "n_train = int(np.round(n*0.25))\n",
    "\n",
    "# First 25% train, remaining test \n",
    "# assume data has been randomly shuffled\n",
    "x_q4_train = x_q4[:n_train,:]\n",
    "y_q4_train = y_q4[:n_train]\n",
    "x_q4_test = x_q4[n_train:,:]\n",
    "y_q4_test = y_q4[n_train:]\n",
    "\n",
    "# Scale the data \n",
    "x_q4_train = x_q4_train / x_q4_train.std(axis=0)\n",
    "x_q4_test = x_q4_test / x_q4_test.std(axis=0)\n"
   ]
  },
  {
   "cell_type": "code",
   "execution_count": 268,
   "metadata": {
    "collapsed": false
   },
   "outputs": [
    {
     "name": "stdout",
     "output_type": "stream",
     "text": [
      "Plain Regression: R^2 score on training set 0.637205062491\n",
      "Plain Regression: R^2 score on test set -2.23374021889\n"
     ]
    }
   ],
   "source": [
    "# plain OLS\n",
    "reg_q4 = Lin_Reg()\n",
    "reg_q4.fit(x_q4_train, y_q4_train)\n",
    "\n",
    "train_rsquared_q4 = reg_q4.score(x_q4_train, y_q4_train)\n",
    "test_rsquared_q4 = reg_q4.score(x_q4_test, y_q4_test)\n",
    "\n",
    "print 'Plain Regression: R^2 score on training set', train_rsquared_q4\n",
    "print 'Plain Regression: R^2 score on test set', test_rsquared_q4"
   ]
  },
  {
   "cell_type": "code",
   "execution_count": 269,
   "metadata": {
    "collapsed": false
   },
   "outputs": [
    {
     "name": "stdout",
     "output_type": "stream",
     "text": [
      "Plain Regression: R^2 score on training set 0.635576016855\n",
      "Plain Regression: R^2 score on test set -1.57432874055\n"
     ]
    }
   ],
   "source": [
    "ridge_reg_q4 = Ridge_Reg(alpha=1.0)\n",
    "ridge_reg_q4.fit(x_q4_train, y_q4_train)\n",
    "train_rsquared_q4 = ridge_reg_q4.score(x_q4_train, y_q4_train)\n",
    "test_rsquared_q4 = ridge_reg_q4.score(x_q4_test, y_q4_test)\n",
    "\n",
    "print 'Plain Regression: R^2 score on training set', train_rsquared_q4\n",
    "print 'Plain Regression: R^2 score on test set', test_rsquared_q4"
   ]
  },
  {
   "cell_type": "code",
   "execution_count": 286,
   "metadata": {
    "collapsed": false
   },
   "outputs": [
    {
     "data": {
      "text/plain": [
       "<matplotlib.legend.Legend at 0x120ef0c50>"
      ]
     },
     "execution_count": 286,
     "metadata": {},
     "output_type": "execute_result"
    },
    {
     "data": {
      "image/png": "[encoded data removed]",
      "text/plain": [
       "<matplotlib.figure.Figure at 0x11c6ac390>"
      ]
     },
     "metadata": {},
     "output_type": "display_data"
    }
   ],
   "source": [
    "# try ridge regression with different values of lambda\n",
    "train_r_squared, test_r_squared, coeff_a, lambdas = RidgeReg(x_q4_test, y_q4_test, x_q4_train, y_q4_train, -2,15) \n",
    "# Plot\n",
    "fig, ax = plt.subplots(1, 1, figsize=(12, 12))\n",
    "ax.semilogx(10.0**lambdas, (train_r_squared), c='b', label='Ridge: Train')\n",
    "ax.semilogx(10.0**lambdas, (test_r_squared), c='r', label='Ridge: Test')\n",
    "\n",
    "ax.set_xlabel('Regularization parameter $\\lambda$')\n",
    "ax.set_ylabel(r'$R^2$ score')\n",
    "ax.legend(loc = 'best')"
   ]
  },
  {
   "cell_type": "code",
   "execution_count": 336,
   "metadata": {
    "collapsed": false
   },
   "outputs": [
    {
     "name": "stdout",
     "output_type": "stream",
     "text": [
      "Plain Regression: R^2 score on training set 0.553734721456\n",
      "Plain Regression: R^2 score on test set -0.892929729247\n"
     ]
    }
   ],
   "source": [
    "ridge_reg_q4 = Lasso_Reg(alpha=1.0)\n",
    "ridge_reg_q4.fit(x_q4_train, y_q4_train)\n",
    "train_rsquared_q4 = ridge_reg_q4.score(x_q4_train, y_q4_train)\n",
    "test_rsquared_q4 = ridge_reg_q4.score(x_q4_test, y_q4_test)\n",
    "\n",
    "print 'Plain Regression: R^2 score on training set', train_rsquared_q4\n",
    "print 'Plain Regression: R^2 score on test set', test_rsquared_q4"
   ]
  },
  {
   "cell_type": "code",
   "execution_count": 338,
   "metadata": {
    "collapsed": true
   },
   "outputs": [],
   "source": [
    "def LassoReg(x_test, y_test, x_train, y_train, min_el, max_el):\n",
    "    # create a vector of lambda exponents\n",
    "    ells = np.linspace(min_el, max_el, 100)\n",
    "    num_lambdas = len(ells)\n",
    "    num_predictors = np.shape(x_train)[1]\n",
    "    \n",
    "    # empty arrays to store r2 values and coefficients\n",
    "    train_r_squared = np.zeros(num_lambdas)\n",
    "    test_r_squared = np.zeros(num_lambdas)\n",
    "    coeff_a =np.zeros((num_lambdas, num_predictors))\n",
    "    \n",
    "    for i, ell in enumerate(ells):\n",
    "        # fit ridge regression model\n",
    "        reg = Lasso_Reg(alpha=10**ell)\n",
    "        reg.fit(x_train, y_train)\n",
    "        # calculate r2 for testing and training sets\n",
    "        r2_test = reg.score(x_test, y_test)\n",
    "        r2_train = reg.score(x_train, y_train)\n",
    "        test_r_squared[i] = r2_test\n",
    "        train_r_squared[i] = r2_train\n",
    "        coeff_a[i,:] = reg.coef_\n",
    "        \n",
    "    return train_r_squared, test_r_squared, coeff_a, ells\n",
    "        "
   ]
  },
  {
   "cell_type": "code",
   "execution_count": 339,
   "metadata": {
    "collapsed": false
   },
   "outputs": [
    {
     "data": {
      "text/plain": [
       "<matplotlib.legend.Legend at 0x123fbc490>"
      ]
     },
     "execution_count": 339,
     "metadata": {},
     "output_type": "execute_result"
    },
    {
     "data": {
      "image/png": "[encoded data removed]",
      "text/plain": [
       "<matplotlib.figure.Figure at 0x11d56f190>"
      ]
     },
     "metadata": {},
     "output_type": "display_data"
    }
   ],
   "source": [
    "# try ridge regression with different values of lambda\n",
    "train_r_squared, test_r_squared, coeff_a, lambdas = LassoReg(x_q4_test, y_q4_test, x_q4_train, y_q4_train, -2,15) \n",
    "# Plot\n",
    "fig, ax = plt.subplots(1, 1, figsize=(12, 12))\n",
    "ax.semilogx(10.0**lambdas, (train_r_squared), c='b', label='Lasso: Train')\n",
    "ax.semilogx(10.0**lambdas, (test_r_squared), c='r', label='Lasso: Test')\n",
    "\n",
    "ax.set_xlabel('Regularization parameter $\\lambda$')\n",
    "ax.set_ylabel(r'$R^2$ score')\n",
    "ax.legend(loc = 'best')"
   ]
  },
  {
   "cell_type": "markdown",
   "metadata": {},
   "source": [
    "#Predictor subset selection."
   ]
  },
  {
   "cell_type": "markdown",
   "metadata": {},
   "source": [
    "### Turn a categorical variable into a numerical variable and see if the prediction improves. "
   ]
  },
  {
   "cell_type": "code",
   "execution_count": null,
   "metadata": {
    "collapsed": true
   },
   "outputs": [],
   "source": [
    "#Choose a categorical variable "
   ]
  }
 ],
 "metadata": {
  "anaconda-cloud": {},
  "kernelspec": {
   "display_name": "Python [Root]",
   "language": "python",
   "name": "Python [Root]"
  },
  "language_info": {
   "codemirror_mode": {
    "name": "ipython",
    "version": 2
   },
   "file_extension": ".py",
   "mimetype": "text/x-python",
   "name": "python",
   "nbconvert_exporter": "python",
   "pygments_lexer": "ipython2",
   "version": "2.7.12"
  }
 },
 "nbformat": 4,
 "nbformat_minor": 0
}
