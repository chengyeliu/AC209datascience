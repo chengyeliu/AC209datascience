{
 "cells": [
  {
   "cell_type": "code",
   "execution_count": 100,
   "metadata": {
    "collapsed": false,
    "scrolled": true,
    "slideshow": {
     "slide_type": "slide"
    }
   },
   "outputs": [],
   "source": [
    "import sys\n",
    "import numpy as np\n",
    "import pylab as pl\n",
    "import pandas as pd\n",
    "import statsmodels.api as sm\n",
    "import matplotlib.pyplot as plt\n",
    "import matplotlib\n",
    "import sklearn as sk\n",
    "import sklearn.discriminant_analysis as da\n",
    "import sklearn.neighbors as knn\n",
    "\n"
   ]
  },
  {
   "cell_type": "code",
   "execution_count": 101,
   "metadata": {
    "collapsed": false
   },
   "outputs": [
    {
     "name": "stdout",
     "output_type": "stream",
     "text": [
      "  politicalparty  income  educ  abortion  republican\n",
      "1     Republican     906     6         0           1\n",
      "2       Democrat    1373     6         0           0\n",
      "3       Democrat    1941     4         0           0\n",
      "4       Democrat     355     7         0           0\n"
     ]
    }
   ],
   "source": [
    "#read in the GSS data\n",
    "gssdata = pd.read_csv(\"gsspartyid.csv\")\n",
    "print(gssdata[1:5])"
   ]
  },
  {
   "cell_type": "code",
   "execution_count": 102,
   "metadata": {
    "collapsed": false
   },
   "outputs": [
    {
     "name": "stdout",
     "output_type": "stream",
     "text": [
      "Specificity is 0.388387096774\n",
      "Sensitivity is 0.374060150376\n",
      "False positive rate is 0.5252365930599369\n",
      "False negative rate is 0.7043090638930163\n"
     ]
    }
   ],
   "source": [
    "LDA = da.LinearDiscriminantAnalysis()\n",
    "X = gssdata[[\"income\",\"educ\",\"abortion\"]]\n",
    "model_LDA = LDA.fit(X,gssdata['republican'])\n",
    "print(\"Specificity is\",np.mean(model_LDA.predict(X[gssdata['republican']==0])))\n",
    "print(\"Sensitivity is\",1-np.mean(model_LDA.predict(X[gssdata['republican']==1])))\n",
    "print(\"False positive rate is\",np.mean(gssdata['republican'][model_LDA.predict(X)==1]))\n",
    "print(\"False negative rate is\",1-np.mean(gssdata['republican'][model_LDA.predict(X)==0]))"
   ]
  },
  {
   "cell_type": "code",
   "execution_count": 103,
   "metadata": {
    "collapsed": false
   },
   "outputs": [
    {
     "name": "stdout",
     "output_type": "stream",
     "text": [
      "   y        x1        x2\n",
      "1  1  1.890697  1.600182\n",
      "2  1  2.605887  0.084014\n",
      "3  1  2.630099  1.547508\n",
      "4  1  1.715840  1.208271\n"
     ]
    }
   ],
   "source": [
    "#read in the first simulation data set\n",
    "data1 = pd.read_csv(\"dataset1\")\n",
    "print(data1[1:5])\n",
    "X = data1[['x1','x2']]\n",
    "data1['x1sq'] = data1['x1']**2\n",
    "data1['x2sq'] = data1['x2']**2\n",
    "X2 = data1[['x1','x2','x1sq','x2sq']]\n",
    "y = data1['y']\n",
    "n = data1.shape[0]"
   ]
  },
  {
   "cell_type": "code",
   "execution_count": 108,
   "metadata": {
    "collapsed": false
   },
   "outputs": [
    {
     "name": "stdout",
     "output_type": "stream",
     "text": [
      "Overall misclassification rate of Logit1 is 0.0441\n",
      "Overall misclassification rate of Logit2 is 0.0441\n",
      "Overall misclassification rate of LDA is 0.04425\n",
      "Overall misclassification rate of QDA is 0.0441\n"
     ]
    }
   ],
   "source": [
    "lda = da.LinearDiscriminantAnalysis()\n",
    "qda = da.QuadraticDiscriminantAnalysis()\n",
    "lda.fit(X,y)\n",
    "qda.fit(X,y)\n",
    "logit2 = sk.linear_model.LogisticRegression(C = 1000000)\n",
    "logit1 = sk.linear_model.LogisticRegression(C = 1000000)\n",
    "logit1.fit(X,y)\n",
    "logit2.fit(X2,y)\n",
    "\n",
    "print(\"Overall misclassification rate of Logit1 is\",(1-logit1.score(X,y)))\n",
    "print(\"Overall misclassification rate of Logit2 is\",(1-logit2.score(X2,y)))\n",
    "print(\"Overall misclassification rate of LDA is\",(1-lda.score(X,y)))\n",
    "print(\"Overall misclassification rate of QDA is\",(1-qda.score(X,y)))"
   ]
  },
  {
   "cell_type": "code",
   "execution_count": null,
   "metadata": {
    "collapsed": true
   },
   "outputs": [],
   "source": [
    "knn3=knn.KNeighborsClassifier(3)\n",
    "knn25=knn.KNeighborsClassifier(25)\n",
    "knn3.fit(X,y)\n",
    "knn25.fit(X,y)\n",
    "\n",
    "#note, the KNNs are not correct :(\n",
    "print(\"Overall misclassification rate of kNN3 is\",(1-knn3.score(X,y)))\n",
    "print(\"Overall misclassification rate of kNN25 is\",(1-knn25.score(X,y)))\n"
   ]
  }
 ],
 "metadata": {
  "anaconda-cloud": {},
  "celltoolbar": "Slideshow",
  "kernelspec": {
   "display_name": "Python [Root]",
   "language": "python",
   "name": "Python [Root]"
  },
  "language_info": {
   "codemirror_mode": {
    "name": "ipython",
    "version": 2
   },
   "file_extension": ".py",
   "mimetype": "text/x-python",
   "name": "python",
   "nbconvert_exporter": "python",
   "pygments_lexer": "ipython2",
   "version": "2.7.12"
  }
 },
 "nbformat": 4,
 "nbformat_minor": 0
}
